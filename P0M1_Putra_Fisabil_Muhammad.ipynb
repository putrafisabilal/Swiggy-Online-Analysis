{
 "cells": [
  {
   "cell_type": "markdown",
   "id": "8414cecb",
   "metadata": {},
   "source": [
    "## Introduction"
   ]
  },
  {
   "cell_type": "markdown",
   "id": "4889286a",
   "metadata": {},
   "source": [
    "___\n",
    "MILESTONE #1\n",
    "\n",
    "\n",
    "\n",
    "Judul   : Menganalisa Aplikasi Swiggy Untuk Menentukan Makanan, Kota, dan Area Untuk Membuka Resto\n",
    "\n",
    "\n",
    "Nama    : Putra Fisabil Muhammad\n",
    "\n",
    "\n",
    "Batch   : HCK-028\n",
    "\n",
    "\n",
    "\n",
    "Project ini bertujuan untuk menentukan Tipe makanan yang cocok untuk dijual dan menentukan kota dan area mana yang cocok untuk membuka restoran tipe makanan tersebut teruntuk client dengan menggunakan data swiggy online.\n",
    "\n",
    "Dashboard Online Tableau [Link](https://public.tableau.com/views/P0M1_Putra_Fisabil_Muhammad/StatistikAnalis?:language=en-US&publish=yes&:sid=&:redirect=auth&:display_count=n&:origin=viz_share_link)\n",
    "___"
   ]
  },
  {
   "cell_type": "markdown",
   "id": "e134b783",
   "metadata": {},
   "source": [
    "## Problem Statement and Dataset Description"
   ]
  },
  {
   "cell_type": "markdown",
   "id": "1c4e35af",
   "metadata": {},
   "source": [
    "Background :\n",
    "\n",
    "&emsp;&emsp;anda merupakan konsultan resto yang ingin membuatkan client anda produk makanan/minuman yang cocok untuk di jual secara online dan menentukan lokasi mana yang cocok untuk membuat restonya. akan tetapi kamu masih bingung ingin membuat makanan apa dan lokasi mana yang cocok, jadi kamu ingin menganalisa makanan apa yang paling tinggi rating dan peringkat paling cepat untuk disajikan serta lokasi mana yang memiliki potensi besar untuk membuat resto menggunakan data aplikasi swiggy online.\n",
    "\n",
    "analisa SMART :\n",
    "- S : Membuat makanan/minuman yang paling cocok untuk dijual secara online menggunakan swiggy\n",
    "\n",
    "- M : Ingin menjual makanan yang baik sehingga mendapatkan rata-rata rating diatas 4.5 dalam aplikasi swiggy\n",
    "\n",
    "- A :  menentukan kotauntuk berjualan, menentukan Chef yang dapat meracik makanan yang enak dan konsisten, membuat packaging yang menarik, perbanyak promo jika menggunakan swiggy\n",
    "\n",
    "- R : Karena sudah menentukan lokasi ,chef , packaging, dan promo yang baik kita harap customer suka dengan produk kita sehinga customer selalu repeat order dengan aplikasi swiggy\n",
    "\n",
    "- T : Hal ini diupayakan dalam kurun waktu 6 bulan agar client kita tidak menunggu terlalu lama dan segara balik modal\n",
    "\n",
    "dalam waktu 6 bulan ini kita di haruskan membuat makanan/minuman yang cocok untuk dijual secara online menggunakan swiggy dan menjadi resto dengan rating diatas 4.5 dengan upaya membuat menu makanan yang enak dan kosisten dibalut dengan packaging yang menarik dan promo menggunakan swiggy sehingga customer senang dengan produk kita sehingga dia selalu repeat order.\n",
    "\n",
    "\n",
    "1. Produk apa yang paling tinggi ratingnya?\n",
    "2. Berapa harga rata-rata penjualan produk makanan yang paling tinggi ratingnya?\n",
    "3. kota mana yang paling tinggi rating nya? \n",
    "4. bagaimana sebaran mitra swiggy berdasarkan area dari kota yang paling tinggi ratingnya \n",
    "5. Area mana yang memiliki sedikit kompetitor tapi rating tinggi? \n",
    "6. apakah terdapat korelasi antara rating dengan delivery time? \n",
    "7. apakah terdapat korelasi antara rating dengan harga? \n",
    "8. Apakah Tipe Makanan Memiliki Pengaruh Terhadap Rating?\n",
    "\n",
    "Dataset ini diambil dari kaggle yang berisikan data restaurant online berupa (area, city, avg ratings, total rating, address, delivery time,food type, id, Price)dari aplikasi bernama swiggy online \n",
    "\n",
    "berikut link dataset [Link](https://www.kaggle.com/datasets/abhijitdahatonde/swiggy-restuarant-dataset)\n"
   ]
  },
  {
   "cell_type": "markdown",
   "id": "c48eba57",
   "metadata": {},
   "source": [
    "# Import Libraries"
   ]
  },
  {
   "cell_type": "code",
   "execution_count": 1,
   "id": "faa5839e",
   "metadata": {},
   "outputs": [],
   "source": [
    "import pandas as pd\n",
    "import numpy as np\n",
    "from scipy import stats\n",
    "from scipy.stats import norm\n",
    "import matplotlib.pyplot as plt\n",
    "import seaborn as sns\n",
    "from scipy.stats import pearsonr\n",
    "import plotly.express as px\n",
    "import matplotlib.image as mpimg\n",
    "from scipy.stats import f_oneway"
   ]
  },
  {
   "cell_type": "markdown",
   "id": "8e8a9145",
   "metadata": {},
   "source": [
    "# Data Loading"
   ]
  },
  {
   "cell_type": "code",
   "execution_count": 2,
   "id": "0002cd2b",
   "metadata": {},
   "outputs": [],
   "source": [
    "# membaca file csv\n",
    "df_swiggy = pd.read_csv(\"swiggy.csv\")"
   ]
  },
  {
   "cell_type": "code",
   "execution_count": 3,
   "id": "5f45fd5a",
   "metadata": {},
   "outputs": [
    {
     "data": {
      "text/html": [
       "<div>\n",
       "<style scoped>\n",
       "    .dataframe tbody tr th:only-of-type {\n",
       "        vertical-align: middle;\n",
       "    }\n",
       "\n",
       "    .dataframe tbody tr th {\n",
       "        vertical-align: top;\n",
       "    }\n",
       "\n",
       "    .dataframe thead th {\n",
       "        text-align: right;\n",
       "    }\n",
       "</style>\n",
       "<table border=\"1\" class=\"dataframe\">\n",
       "  <thead>\n",
       "    <tr style=\"text-align: right;\">\n",
       "      <th></th>\n",
       "      <th>ID</th>\n",
       "      <th>Area</th>\n",
       "      <th>City</th>\n",
       "      <th>Restaurant</th>\n",
       "      <th>Price</th>\n",
       "      <th>Avg ratings</th>\n",
       "      <th>Total ratings</th>\n",
       "      <th>Food type</th>\n",
       "      <th>Address</th>\n",
       "      <th>Delivery time</th>\n",
       "    </tr>\n",
       "  </thead>\n",
       "  <tbody>\n",
       "    <tr>\n",
       "      <th>0</th>\n",
       "      <td>211</td>\n",
       "      <td>Koramangala</td>\n",
       "      <td>Bangalore</td>\n",
       "      <td>Tandoor Hut</td>\n",
       "      <td>300.0</td>\n",
       "      <td>4.4</td>\n",
       "      <td>100</td>\n",
       "      <td>Biryani,Chinese,North Indian,South Indian</td>\n",
       "      <td>5Th Block</td>\n",
       "      <td>59</td>\n",
       "    </tr>\n",
       "    <tr>\n",
       "      <th>1</th>\n",
       "      <td>221</td>\n",
       "      <td>Koramangala</td>\n",
       "      <td>Bangalore</td>\n",
       "      <td>Tunday Kababi</td>\n",
       "      <td>300.0</td>\n",
       "      <td>4.1</td>\n",
       "      <td>100</td>\n",
       "      <td>Mughlai,Lucknowi</td>\n",
       "      <td>5Th Block</td>\n",
       "      <td>56</td>\n",
       "    </tr>\n",
       "    <tr>\n",
       "      <th>2</th>\n",
       "      <td>246</td>\n",
       "      <td>Jogupalya</td>\n",
       "      <td>Bangalore</td>\n",
       "      <td>Kim Lee</td>\n",
       "      <td>650.0</td>\n",
       "      <td>4.4</td>\n",
       "      <td>100</td>\n",
       "      <td>Chinese</td>\n",
       "      <td>Double Road</td>\n",
       "      <td>50</td>\n",
       "    </tr>\n",
       "    <tr>\n",
       "      <th>3</th>\n",
       "      <td>248</td>\n",
       "      <td>Indiranagar</td>\n",
       "      <td>Bangalore</td>\n",
       "      <td>New Punjabi Hotel</td>\n",
       "      <td>250.0</td>\n",
       "      <td>3.9</td>\n",
       "      <td>500</td>\n",
       "      <td>North Indian,Punjabi,Tandoor,Chinese</td>\n",
       "      <td>80 Feet Road</td>\n",
       "      <td>57</td>\n",
       "    </tr>\n",
       "    <tr>\n",
       "      <th>4</th>\n",
       "      <td>249</td>\n",
       "      <td>Indiranagar</td>\n",
       "      <td>Bangalore</td>\n",
       "      <td>Nh8</td>\n",
       "      <td>350.0</td>\n",
       "      <td>4.0</td>\n",
       "      <td>50</td>\n",
       "      <td>Rajasthani,Gujarati,North Indian,Snacks,Desser...</td>\n",
       "      <td>80 Feet Road</td>\n",
       "      <td>63</td>\n",
       "    </tr>\n",
       "    <tr>\n",
       "      <th>5</th>\n",
       "      <td>254</td>\n",
       "      <td>Indiranagar</td>\n",
       "      <td>Bangalore</td>\n",
       "      <td>Treat</td>\n",
       "      <td>800.0</td>\n",
       "      <td>4.5</td>\n",
       "      <td>100</td>\n",
       "      <td>Mughlai,North Indian</td>\n",
       "      <td>100 Feet Road</td>\n",
       "      <td>56</td>\n",
       "    </tr>\n",
       "    <tr>\n",
       "      <th>6</th>\n",
       "      <td>258</td>\n",
       "      <td>Indiranagar</td>\n",
       "      <td>Bangalore</td>\n",
       "      <td>Chinita Real Mexican Food</td>\n",
       "      <td>1000.0</td>\n",
       "      <td>4.5</td>\n",
       "      <td>500</td>\n",
       "      <td>Mexican,Beverages,Salads</td>\n",
       "      <td>Double Road</td>\n",
       "      <td>53</td>\n",
       "    </tr>\n",
       "    <tr>\n",
       "      <th>7</th>\n",
       "      <td>263</td>\n",
       "      <td>Koramangala</td>\n",
       "      <td>Bangalore</td>\n",
       "      <td>Cupcake Noggins - Cakespastries And Desserts</td>\n",
       "      <td>150.0</td>\n",
       "      <td>4.3</td>\n",
       "      <td>100</td>\n",
       "      <td>Desserts,British,Bakery,Pizzas,Snacks</td>\n",
       "      <td>4Th Block</td>\n",
       "      <td>57</td>\n",
       "    </tr>\n",
       "    <tr>\n",
       "      <th>8</th>\n",
       "      <td>267</td>\n",
       "      <td>Domlur</td>\n",
       "      <td>Bangalore</td>\n",
       "      <td>Tea Brew</td>\n",
       "      <td>350.0</td>\n",
       "      <td>4.1</td>\n",
       "      <td>100</td>\n",
       "      <td>American,Italian,Beverages,Continental,Chinese...</td>\n",
       "      <td>Double Road</td>\n",
       "      <td>57</td>\n",
       "    </tr>\n",
       "    <tr>\n",
       "      <th>9</th>\n",
       "      <td>308</td>\n",
       "      <td>Koramangala</td>\n",
       "      <td>Bangalore</td>\n",
       "      <td>Bangaliana</td>\n",
       "      <td>300.0</td>\n",
       "      <td>4.0</td>\n",
       "      <td>500</td>\n",
       "      <td>Bengali</td>\n",
       "      <td>7Th Block</td>\n",
       "      <td>57</td>\n",
       "    </tr>\n",
       "  </tbody>\n",
       "</table>\n",
       "</div>"
      ],
      "text/plain": [
       "    ID         Area       City                                    Restaurant  \\\n",
       "0  211  Koramangala  Bangalore                                   Tandoor Hut   \n",
       "1  221  Koramangala  Bangalore                                 Tunday Kababi   \n",
       "2  246    Jogupalya  Bangalore                                       Kim Lee   \n",
       "3  248  Indiranagar  Bangalore                             New Punjabi Hotel   \n",
       "4  249  Indiranagar  Bangalore                                           Nh8   \n",
       "5  254  Indiranagar  Bangalore                                         Treat   \n",
       "6  258  Indiranagar  Bangalore                     Chinita Real Mexican Food   \n",
       "7  263  Koramangala  Bangalore  Cupcake Noggins - Cakespastries And Desserts   \n",
       "8  267       Domlur  Bangalore                                      Tea Brew   \n",
       "9  308  Koramangala  Bangalore                                    Bangaliana   \n",
       "\n",
       "    Price  Avg ratings  Total ratings  \\\n",
       "0   300.0          4.4            100   \n",
       "1   300.0          4.1            100   \n",
       "2   650.0          4.4            100   \n",
       "3   250.0          3.9            500   \n",
       "4   350.0          4.0             50   \n",
       "5   800.0          4.5            100   \n",
       "6  1000.0          4.5            500   \n",
       "7   150.0          4.3            100   \n",
       "8   350.0          4.1            100   \n",
       "9   300.0          4.0            500   \n",
       "\n",
       "                                           Food type        Address  \\\n",
       "0          Biryani,Chinese,North Indian,South Indian      5Th Block   \n",
       "1                                   Mughlai,Lucknowi      5Th Block   \n",
       "2                                            Chinese    Double Road   \n",
       "3               North Indian,Punjabi,Tandoor,Chinese   80 Feet Road   \n",
       "4  Rajasthani,Gujarati,North Indian,Snacks,Desser...   80 Feet Road   \n",
       "5                               Mughlai,North Indian  100 Feet Road   \n",
       "6                           Mexican,Beverages,Salads    Double Road   \n",
       "7              Desserts,British,Bakery,Pizzas,Snacks      4Th Block   \n",
       "8  American,Italian,Beverages,Continental,Chinese...    Double Road   \n",
       "9                                            Bengali      7Th Block   \n",
       "\n",
       "   Delivery time  \n",
       "0             59  \n",
       "1             56  \n",
       "2             50  \n",
       "3             57  \n",
       "4             63  \n",
       "5             56  \n",
       "6             53  \n",
       "7             57  \n",
       "8             57  \n",
       "9             57  "
      ]
     },
     "execution_count": 3,
     "metadata": {},
     "output_type": "execute_result"
    }
   ],
   "source": [
    "df_swiggy.head(10)"
   ]
  },
  {
   "cell_type": "code",
   "execution_count": 4,
   "id": "54b85e4a",
   "metadata": {},
   "outputs": [
    {
     "data": {
      "text/html": [
       "<div>\n",
       "<style scoped>\n",
       "    .dataframe tbody tr th:only-of-type {\n",
       "        vertical-align: middle;\n",
       "    }\n",
       "\n",
       "    .dataframe tbody tr th {\n",
       "        vertical-align: top;\n",
       "    }\n",
       "\n",
       "    .dataframe thead th {\n",
       "        text-align: right;\n",
       "    }\n",
       "</style>\n",
       "<table border=\"1\" class=\"dataframe\">\n",
       "  <thead>\n",
       "    <tr style=\"text-align: right;\">\n",
       "      <th></th>\n",
       "      <th>City</th>\n",
       "      <th>Restaurant Count</th>\n",
       "    </tr>\n",
       "  </thead>\n",
       "  <tbody>\n",
       "    <tr>\n",
       "      <th>0</th>\n",
       "      <td>Ahmedabad</td>\n",
       "      <td>709</td>\n",
       "    </tr>\n",
       "    <tr>\n",
       "      <th>1</th>\n",
       "      <td>Bangalore</td>\n",
       "      <td>938</td>\n",
       "    </tr>\n",
       "    <tr>\n",
       "      <th>2</th>\n",
       "      <td>Chennai</td>\n",
       "      <td>1096</td>\n",
       "    </tr>\n",
       "    <tr>\n",
       "      <th>3</th>\n",
       "      <td>Delhi</td>\n",
       "      <td>611</td>\n",
       "    </tr>\n",
       "    <tr>\n",
       "      <th>4</th>\n",
       "      <td>Hyderabad</td>\n",
       "      <td>1030</td>\n",
       "    </tr>\n",
       "    <tr>\n",
       "      <th>5</th>\n",
       "      <td>Kolkata</td>\n",
       "      <td>1325</td>\n",
       "    </tr>\n",
       "    <tr>\n",
       "      <th>6</th>\n",
       "      <td>Mumbai</td>\n",
       "      <td>1253</td>\n",
       "    </tr>\n",
       "    <tr>\n",
       "      <th>7</th>\n",
       "      <td>Pune</td>\n",
       "      <td>1080</td>\n",
       "    </tr>\n",
       "    <tr>\n",
       "      <th>8</th>\n",
       "      <td>Surat</td>\n",
       "      <td>505</td>\n",
       "    </tr>\n",
       "  </tbody>\n",
       "</table>\n",
       "</div>"
      ],
      "text/plain": [
       "        City  Restaurant Count\n",
       "0  Ahmedabad               709\n",
       "1  Bangalore               938\n",
       "2    Chennai              1096\n",
       "3      Delhi               611\n",
       "4  Hyderabad              1030\n",
       "5    Kolkata              1325\n",
       "6     Mumbai              1253\n",
       "7       Pune              1080\n",
       "8      Surat               505"
      ]
     },
     "execution_count": 4,
     "metadata": {},
     "output_type": "execute_result"
    }
   ],
   "source": [
    "df_swiggy.groupby('City')['Restaurant'].nunique().reset_index(name='Restaurant Count')"
   ]
  },
  {
   "cell_type": "code",
   "execution_count": 5,
   "id": "43da4dc1",
   "metadata": {},
   "outputs": [
    {
     "data": {
      "text/html": [
       "<div>\n",
       "<style scoped>\n",
       "    .dataframe tbody tr th:only-of-type {\n",
       "        vertical-align: middle;\n",
       "    }\n",
       "\n",
       "    .dataframe tbody tr th {\n",
       "        vertical-align: top;\n",
       "    }\n",
       "\n",
       "    .dataframe thead th {\n",
       "        text-align: right;\n",
       "    }\n",
       "</style>\n",
       "<table border=\"1\" class=\"dataframe\">\n",
       "  <thead>\n",
       "    <tr style=\"text-align: right;\">\n",
       "      <th></th>\n",
       "      <th>ID</th>\n",
       "      <th>Area</th>\n",
       "      <th>City</th>\n",
       "      <th>Restaurant</th>\n",
       "      <th>Price</th>\n",
       "      <th>Avg ratings</th>\n",
       "      <th>Total ratings</th>\n",
       "      <th>Food type</th>\n",
       "      <th>Address</th>\n",
       "      <th>Delivery time</th>\n",
       "    </tr>\n",
       "  </thead>\n",
       "  <tbody>\n",
       "    <tr>\n",
       "      <th>8670</th>\n",
       "      <td>463051</td>\n",
       "      <td>Rohini</td>\n",
       "      <td>Delhi</td>\n",
       "      <td>Zaika The Bakers</td>\n",
       "      <td>400.0</td>\n",
       "      <td>2.9</td>\n",
       "      <td>80</td>\n",
       "      <td>Pizzas</td>\n",
       "      <td>Rohini</td>\n",
       "      <td>38</td>\n",
       "    </tr>\n",
       "    <tr>\n",
       "      <th>8671</th>\n",
       "      <td>464112</td>\n",
       "      <td>Himayath Nagar</td>\n",
       "      <td>Hyderabad</td>\n",
       "      <td>Bake And Beans</td>\n",
       "      <td>400.0</td>\n",
       "      <td>2.9</td>\n",
       "      <td>80</td>\n",
       "      <td>Snacks,American,Pizzas,Pastas,Beverages</td>\n",
       "      <td>Himayath Nagar</td>\n",
       "      <td>36</td>\n",
       "    </tr>\n",
       "    <tr>\n",
       "      <th>8672</th>\n",
       "      <td>464194</td>\n",
       "      <td>Ghatkopar Vikhroli</td>\n",
       "      <td>Mumbai</td>\n",
       "      <td>Tj'S Kitchen</td>\n",
       "      <td>300.0</td>\n",
       "      <td>2.9</td>\n",
       "      <td>80</td>\n",
       "      <td>South Indian,Chinese,Snacks</td>\n",
       "      <td>Ghatkopar Vikhroli</td>\n",
       "      <td>48</td>\n",
       "    </tr>\n",
       "    <tr>\n",
       "      <th>8673</th>\n",
       "      <td>464354</td>\n",
       "      <td>Prahlad Nagar</td>\n",
       "      <td>Ahmedabad</td>\n",
       "      <td>Reyansh'S Kitchen</td>\n",
       "      <td>500.0</td>\n",
       "      <td>2.9</td>\n",
       "      <td>80</td>\n",
       "      <td>Desserts</td>\n",
       "      <td>Prahlad Nagar</td>\n",
       "      <td>50</td>\n",
       "    </tr>\n",
       "    <tr>\n",
       "      <th>8674</th>\n",
       "      <td>464401</td>\n",
       "      <td>Athwa</td>\n",
       "      <td>Surat</td>\n",
       "      <td>Panditjis Dilliwale Chhole Bhature &amp; Dilli Chat</td>\n",
       "      <td>250.0</td>\n",
       "      <td>2.9</td>\n",
       "      <td>80</td>\n",
       "      <td>North Indian,Chaat,Snacks</td>\n",
       "      <td>Athwa</td>\n",
       "      <td>44</td>\n",
       "    </tr>\n",
       "    <tr>\n",
       "      <th>8675</th>\n",
       "      <td>464626</td>\n",
       "      <td>Panjarapole Cross Road</td>\n",
       "      <td>Ahmedabad</td>\n",
       "      <td>Malt Pizza</td>\n",
       "      <td>500.0</td>\n",
       "      <td>2.9</td>\n",
       "      <td>80</td>\n",
       "      <td>Pizzas</td>\n",
       "      <td>Navrangpura</td>\n",
       "      <td>40</td>\n",
       "    </tr>\n",
       "    <tr>\n",
       "      <th>8676</th>\n",
       "      <td>465835</td>\n",
       "      <td>Rohini</td>\n",
       "      <td>Delhi</td>\n",
       "      <td>Jay Mata Ji Home Kitchen</td>\n",
       "      <td>200.0</td>\n",
       "      <td>2.9</td>\n",
       "      <td>80</td>\n",
       "      <td>South Indian</td>\n",
       "      <td>Rohini</td>\n",
       "      <td>28</td>\n",
       "    </tr>\n",
       "    <tr>\n",
       "      <th>8677</th>\n",
       "      <td>465872</td>\n",
       "      <td>Rohini</td>\n",
       "      <td>Delhi</td>\n",
       "      <td>Chinese Kitchen King</td>\n",
       "      <td>150.0</td>\n",
       "      <td>2.9</td>\n",
       "      <td>80</td>\n",
       "      <td>Chinese,Snacks,Tandoor</td>\n",
       "      <td>Rohini</td>\n",
       "      <td>58</td>\n",
       "    </tr>\n",
       "    <tr>\n",
       "      <th>8678</th>\n",
       "      <td>465990</td>\n",
       "      <td>Rohini</td>\n",
       "      <td>Delhi</td>\n",
       "      <td>Shree Ram Paratha Wala</td>\n",
       "      <td>150.0</td>\n",
       "      <td>2.9</td>\n",
       "      <td>80</td>\n",
       "      <td>North Indian,Indian,Snacks</td>\n",
       "      <td>Rohini</td>\n",
       "      <td>28</td>\n",
       "    </tr>\n",
       "    <tr>\n",
       "      <th>8679</th>\n",
       "      <td>466488</td>\n",
       "      <td>Navrangpura</td>\n",
       "      <td>Ahmedabad</td>\n",
       "      <td>Sassy Street</td>\n",
       "      <td>250.0</td>\n",
       "      <td>2.9</td>\n",
       "      <td>80</td>\n",
       "      <td>Chaat,Snacks,Chinese</td>\n",
       "      <td>Navrangpura</td>\n",
       "      <td>44</td>\n",
       "    </tr>\n",
       "  </tbody>\n",
       "</table>\n",
       "</div>"
      ],
      "text/plain": [
       "          ID                    Area       City  \\\n",
       "8670  463051                  Rohini      Delhi   \n",
       "8671  464112          Himayath Nagar  Hyderabad   \n",
       "8672  464194      Ghatkopar Vikhroli     Mumbai   \n",
       "8673  464354           Prahlad Nagar  Ahmedabad   \n",
       "8674  464401                   Athwa      Surat   \n",
       "8675  464626  Panjarapole Cross Road  Ahmedabad   \n",
       "8676  465835                  Rohini      Delhi   \n",
       "8677  465872                  Rohini      Delhi   \n",
       "8678  465990                  Rohini      Delhi   \n",
       "8679  466488             Navrangpura  Ahmedabad   \n",
       "\n",
       "                                           Restaurant  Price  Avg ratings  \\\n",
       "8670                                 Zaika The Bakers  400.0          2.9   \n",
       "8671                                   Bake And Beans  400.0          2.9   \n",
       "8672                                     Tj'S Kitchen  300.0          2.9   \n",
       "8673                                Reyansh'S Kitchen  500.0          2.9   \n",
       "8674  Panditjis Dilliwale Chhole Bhature & Dilli Chat  250.0          2.9   \n",
       "8675                                       Malt Pizza  500.0          2.9   \n",
       "8676                         Jay Mata Ji Home Kitchen  200.0          2.9   \n",
       "8677                             Chinese Kitchen King  150.0          2.9   \n",
       "8678                           Shree Ram Paratha Wala  150.0          2.9   \n",
       "8679                                     Sassy Street  250.0          2.9   \n",
       "\n",
       "      Total ratings                                Food type  \\\n",
       "8670             80                                   Pizzas   \n",
       "8671             80  Snacks,American,Pizzas,Pastas,Beverages   \n",
       "8672             80              South Indian,Chinese,Snacks   \n",
       "8673             80                                 Desserts   \n",
       "8674             80                North Indian,Chaat,Snacks   \n",
       "8675             80                                   Pizzas   \n",
       "8676             80                             South Indian   \n",
       "8677             80                   Chinese,Snacks,Tandoor   \n",
       "8678             80               North Indian,Indian,Snacks   \n",
       "8679             80                     Chaat,Snacks,Chinese   \n",
       "\n",
       "                 Address  Delivery time  \n",
       "8670              Rohini             38  \n",
       "8671      Himayath Nagar             36  \n",
       "8672  Ghatkopar Vikhroli             48  \n",
       "8673       Prahlad Nagar             50  \n",
       "8674               Athwa             44  \n",
       "8675         Navrangpura             40  \n",
       "8676              Rohini             28  \n",
       "8677              Rohini             58  \n",
       "8678              Rohini             28  \n",
       "8679         Navrangpura             44  "
      ]
     },
     "execution_count": 5,
     "metadata": {},
     "output_type": "execute_result"
    }
   ],
   "source": [
    "df_swiggy.tail(10)"
   ]
  },
  {
   "cell_type": "code",
   "execution_count": 6,
   "id": "07bef6cc",
   "metadata": {},
   "outputs": [
    {
     "name": "stdout",
     "output_type": "stream",
     "text": [
      "<class 'pandas.core.frame.DataFrame'>\n",
      "RangeIndex: 8680 entries, 0 to 8679\n",
      "Data columns (total 10 columns):\n",
      " #   Column         Non-Null Count  Dtype  \n",
      "---  ------         --------------  -----  \n",
      " 0   ID             8680 non-null   int64  \n",
      " 1   Area           8680 non-null   object \n",
      " 2   City           8680 non-null   object \n",
      " 3   Restaurant     8680 non-null   object \n",
      " 4   Price          8680 non-null   float64\n",
      " 5   Avg ratings    8680 non-null   float64\n",
      " 6   Total ratings  8680 non-null   int64  \n",
      " 7   Food type      8680 non-null   object \n",
      " 8   Address        8680 non-null   object \n",
      " 9   Delivery time  8680 non-null   int64  \n",
      "dtypes: float64(2), int64(3), object(5)\n",
      "memory usage: 678.3+ KB\n"
     ]
    }
   ],
   "source": [
    "df_swiggy.info()"
   ]
  },
  {
   "cell_type": "code",
   "execution_count": 7,
   "id": "2970c64e",
   "metadata": {},
   "outputs": [
    {
     "data": {
      "text/plain": [
       "ID               0\n",
       "Area             0\n",
       "City             0\n",
       "Restaurant       0\n",
       "Price            0\n",
       "Avg ratings      0\n",
       "Total ratings    0\n",
       "Food type        0\n",
       "Address          0\n",
       "Delivery time    0\n",
       "dtype: int64"
      ]
     },
     "execution_count": 7,
     "metadata": {},
     "output_type": "execute_result"
    }
   ],
   "source": [
    "df_swiggy.isna().sum()"
   ]
  },
  {
   "cell_type": "code",
   "execution_count": 8,
   "id": "4c6a8aad",
   "metadata": {},
   "outputs": [
    {
     "data": {
      "text/plain": [
       "np.int64(0)"
      ]
     },
     "execution_count": 8,
     "metadata": {},
     "output_type": "execute_result"
    }
   ],
   "source": [
    "df_swiggy.duplicated().sum()"
   ]
  },
  {
   "cell_type": "markdown",
   "id": "cec92636",
   "metadata": {},
   "source": [
    "# Data Cleaning"
   ]
  },
  {
   "cell_type": "markdown",
   "id": "665e049e",
   "metadata": {},
   "source": [
    "## - Handling Missing Values"
   ]
  },
  {
   "cell_type": "code",
   "execution_count": 9,
   "id": "8d6c464c",
   "metadata": {},
   "outputs": [
    {
     "data": {
      "text/plain": [
       "ID               0\n",
       "Area             0\n",
       "City             0\n",
       "Restaurant       0\n",
       "Price            0\n",
       "Avg ratings      0\n",
       "Total ratings    0\n",
       "Food type        0\n",
       "Address          0\n",
       "Delivery time    0\n",
       "dtype: int64"
      ]
     },
     "execution_count": 9,
     "metadata": {},
     "output_type": "execute_result"
    }
   ],
   "source": [
    "df_swiggy.isna().sum()"
   ]
  },
  {
   "cell_type": "markdown",
   "id": "a488d418",
   "metadata": {},
   "source": [
    "tidak terdapat missing value pada dataset ini"
   ]
  },
  {
   "cell_type": "markdown",
   "id": "14304794",
   "metadata": {},
   "source": [
    "- Handling Missing Value 0"
   ]
  },
  {
   "cell_type": "code",
   "execution_count": 10,
   "id": "be246620",
   "metadata": {},
   "outputs": [
    {
     "name": "stdout",
     "output_type": "stream",
     "text": [
      "ID               0\n",
      "Area             0\n",
      "City             0\n",
      "Restaurant       0\n",
      "Price            5\n",
      "Avg ratings      0\n",
      "Total ratings    0\n",
      "Food type        0\n",
      "Address          0\n",
      "Delivery time    0\n",
      "dtype: int64\n"
     ]
    }
   ],
   "source": [
    "jumlah_data_nol = (df_swiggy == 0).sum()\n",
    "print(jumlah_data_nol)"
   ]
  },
  {
   "cell_type": "markdown",
   "id": "875db880",
   "metadata": {},
   "source": [
    "terdapat 5 baris yang mengandung angka 0 dalam kolom Harga, dalam kasus ini karena hanya 5 baris tidak akan mempengaruhi analisis maka akan kita buang saja"
   ]
  },
  {
   "cell_type": "code",
   "execution_count": 11,
   "id": "fd36184c",
   "metadata": {},
   "outputs": [],
   "source": [
    "df_swiggy = df_swiggy[~(df_swiggy == 0).any(axis=1)]"
   ]
  },
  {
   "cell_type": "markdown",
   "id": "1a793d74",
   "metadata": {},
   "source": [
    "## - Menghilangkan Duplikasi Data"
   ]
  },
  {
   "cell_type": "code",
   "execution_count": 12,
   "id": "97e87b17",
   "metadata": {},
   "outputs": [
    {
     "data": {
      "text/plain": [
       "np.int64(0)"
      ]
     },
     "execution_count": 12,
     "metadata": {},
     "output_type": "execute_result"
    }
   ],
   "source": [
    "df_swiggy.duplicated().sum()"
   ]
  },
  {
   "cell_type": "markdown",
   "id": "98f96ebe",
   "metadata": {},
   "source": [
    "Tidak memiliki data duplikat tandanya tidak perlu drop table duplikat"
   ]
  },
  {
   "cell_type": "markdown",
   "id": "94d48639",
   "metadata": {},
   "source": [
    "## - Menghilang White Space"
   ]
  },
  {
   "cell_type": "code",
   "execution_count": 13,
   "id": "c5a7e599",
   "metadata": {},
   "outputs": [],
   "source": [
    "# menggunakan loop untuk menjalajahi setiap value yang ada didalam dataset\n",
    "for s in df_swiggy:\n",
    "   if df_swiggy[s].dtype == 'object':\n",
    "      df_swiggy.loc[:,s] = df_swiggy[s].str.strip()"
   ]
  },
  {
   "cell_type": "markdown",
   "id": "65b6e6b0",
   "metadata": {},
   "source": [
    "Menghilangkan White Space"
   ]
  },
  {
   "cell_type": "markdown",
   "id": "a050f1e0",
   "metadata": {},
   "source": [
    "## - Membuat Setiap Cel Menjadi Atomic Dalam Kolom Food Type"
   ]
  },
  {
   "cell_type": "code",
   "execution_count": 14,
   "id": "cd8f1019",
   "metadata": {},
   "outputs": [
    {
     "data": {
      "text/html": [
       "<div>\n",
       "<style scoped>\n",
       "    .dataframe tbody tr th:only-of-type {\n",
       "        vertical-align: middle;\n",
       "    }\n",
       "\n",
       "    .dataframe tbody tr th {\n",
       "        vertical-align: top;\n",
       "    }\n",
       "\n",
       "    .dataframe thead th {\n",
       "        text-align: right;\n",
       "    }\n",
       "</style>\n",
       "<table border=\"1\" class=\"dataframe\">\n",
       "  <thead>\n",
       "    <tr style=\"text-align: right;\">\n",
       "      <th></th>\n",
       "      <th>ID</th>\n",
       "      <th>Area</th>\n",
       "      <th>City</th>\n",
       "      <th>Restaurant</th>\n",
       "      <th>Price</th>\n",
       "      <th>Avg ratings</th>\n",
       "      <th>Total ratings</th>\n",
       "      <th>Food type</th>\n",
       "      <th>Address</th>\n",
       "      <th>Delivery time</th>\n",
       "    </tr>\n",
       "  </thead>\n",
       "  <tbody>\n",
       "    <tr>\n",
       "      <th>0</th>\n",
       "      <td>211</td>\n",
       "      <td>Koramangala</td>\n",
       "      <td>Bangalore</td>\n",
       "      <td>Tandoor Hut</td>\n",
       "      <td>300.0</td>\n",
       "      <td>4.4</td>\n",
       "      <td>100</td>\n",
       "      <td>Biryani</td>\n",
       "      <td>5Th Block</td>\n",
       "      <td>59</td>\n",
       "    </tr>\n",
       "    <tr>\n",
       "      <th>1</th>\n",
       "      <td>211</td>\n",
       "      <td>Koramangala</td>\n",
       "      <td>Bangalore</td>\n",
       "      <td>Tandoor Hut</td>\n",
       "      <td>300.0</td>\n",
       "      <td>4.4</td>\n",
       "      <td>100</td>\n",
       "      <td>Chinese</td>\n",
       "      <td>5Th Block</td>\n",
       "      <td>59</td>\n",
       "    </tr>\n",
       "    <tr>\n",
       "      <th>2</th>\n",
       "      <td>211</td>\n",
       "      <td>Koramangala</td>\n",
       "      <td>Bangalore</td>\n",
       "      <td>Tandoor Hut</td>\n",
       "      <td>300.0</td>\n",
       "      <td>4.4</td>\n",
       "      <td>100</td>\n",
       "      <td>North Indian</td>\n",
       "      <td>5Th Block</td>\n",
       "      <td>59</td>\n",
       "    </tr>\n",
       "    <tr>\n",
       "      <th>3</th>\n",
       "      <td>211</td>\n",
       "      <td>Koramangala</td>\n",
       "      <td>Bangalore</td>\n",
       "      <td>Tandoor Hut</td>\n",
       "      <td>300.0</td>\n",
       "      <td>4.4</td>\n",
       "      <td>100</td>\n",
       "      <td>South Indian</td>\n",
       "      <td>5Th Block</td>\n",
       "      <td>59</td>\n",
       "    </tr>\n",
       "    <tr>\n",
       "      <th>4</th>\n",
       "      <td>221</td>\n",
       "      <td>Koramangala</td>\n",
       "      <td>Bangalore</td>\n",
       "      <td>Tunday Kababi</td>\n",
       "      <td>300.0</td>\n",
       "      <td>4.1</td>\n",
       "      <td>100</td>\n",
       "      <td>Mughlai</td>\n",
       "      <td>5Th Block</td>\n",
       "      <td>56</td>\n",
       "    </tr>\n",
       "    <tr>\n",
       "      <th>5</th>\n",
       "      <td>221</td>\n",
       "      <td>Koramangala</td>\n",
       "      <td>Bangalore</td>\n",
       "      <td>Tunday Kababi</td>\n",
       "      <td>300.0</td>\n",
       "      <td>4.1</td>\n",
       "      <td>100</td>\n",
       "      <td>Lucknowi</td>\n",
       "      <td>5Th Block</td>\n",
       "      <td>56</td>\n",
       "    </tr>\n",
       "    <tr>\n",
       "      <th>6</th>\n",
       "      <td>246</td>\n",
       "      <td>Jogupalya</td>\n",
       "      <td>Bangalore</td>\n",
       "      <td>Kim Lee</td>\n",
       "      <td>650.0</td>\n",
       "      <td>4.4</td>\n",
       "      <td>100</td>\n",
       "      <td>Chinese</td>\n",
       "      <td>Double Road</td>\n",
       "      <td>50</td>\n",
       "    </tr>\n",
       "    <tr>\n",
       "      <th>7</th>\n",
       "      <td>248</td>\n",
       "      <td>Indiranagar</td>\n",
       "      <td>Bangalore</td>\n",
       "      <td>New Punjabi Hotel</td>\n",
       "      <td>250.0</td>\n",
       "      <td>3.9</td>\n",
       "      <td>500</td>\n",
       "      <td>North Indian</td>\n",
       "      <td>80 Feet Road</td>\n",
       "      <td>57</td>\n",
       "    </tr>\n",
       "    <tr>\n",
       "      <th>8</th>\n",
       "      <td>248</td>\n",
       "      <td>Indiranagar</td>\n",
       "      <td>Bangalore</td>\n",
       "      <td>New Punjabi Hotel</td>\n",
       "      <td>250.0</td>\n",
       "      <td>3.9</td>\n",
       "      <td>500</td>\n",
       "      <td>Punjabi</td>\n",
       "      <td>80 Feet Road</td>\n",
       "      <td>57</td>\n",
       "    </tr>\n",
       "    <tr>\n",
       "      <th>9</th>\n",
       "      <td>248</td>\n",
       "      <td>Indiranagar</td>\n",
       "      <td>Bangalore</td>\n",
       "      <td>New Punjabi Hotel</td>\n",
       "      <td>250.0</td>\n",
       "      <td>3.9</td>\n",
       "      <td>500</td>\n",
       "      <td>Tandoor</td>\n",
       "      <td>80 Feet Road</td>\n",
       "      <td>57</td>\n",
       "    </tr>\n",
       "  </tbody>\n",
       "</table>\n",
       "</div>"
      ],
      "text/plain": [
       "    ID         Area       City         Restaurant  Price  Avg ratings  \\\n",
       "0  211  Koramangala  Bangalore        Tandoor Hut  300.0          4.4   \n",
       "1  211  Koramangala  Bangalore        Tandoor Hut  300.0          4.4   \n",
       "2  211  Koramangala  Bangalore        Tandoor Hut  300.0          4.4   \n",
       "3  211  Koramangala  Bangalore        Tandoor Hut  300.0          4.4   \n",
       "4  221  Koramangala  Bangalore      Tunday Kababi  300.0          4.1   \n",
       "5  221  Koramangala  Bangalore      Tunday Kababi  300.0          4.1   \n",
       "6  246    Jogupalya  Bangalore            Kim Lee  650.0          4.4   \n",
       "7  248  Indiranagar  Bangalore  New Punjabi Hotel  250.0          3.9   \n",
       "8  248  Indiranagar  Bangalore  New Punjabi Hotel  250.0          3.9   \n",
       "9  248  Indiranagar  Bangalore  New Punjabi Hotel  250.0          3.9   \n",
       "\n",
       "   Total ratings     Food type       Address  Delivery time  \n",
       "0            100       Biryani     5Th Block             59  \n",
       "1            100       Chinese     5Th Block             59  \n",
       "2            100  North Indian     5Th Block             59  \n",
       "3            100  South Indian     5Th Block             59  \n",
       "4            100       Mughlai     5Th Block             56  \n",
       "5            100      Lucknowi     5Th Block             56  \n",
       "6            100       Chinese   Double Road             50  \n",
       "7            500  North Indian  80 Feet Road             57  \n",
       "8            500       Punjabi  80 Feet Road             57  \n",
       "9            500       Tandoor  80 Feet Road             57  "
      ]
     },
     "metadata": {},
     "output_type": "display_data"
    }
   ],
   "source": [
    "# Pisahkan kolom Food type berdasarkan koma menjadi list\n",
    "df_swiggy['Food type'] = df_swiggy['Food type'].str.split(',')\n",
    "\n",
    "# Gunakan explode untuk buat baris baru untuk setiap food type\n",
    "df_swiggy = df_swiggy.explode('Food type').reset_index(drop=True)\n",
    "\n",
    "# Pisahkan kolom Food type berdasarkan koma menjadi list\n",
    "df_swiggy['Food type'] = df_swiggy['Food type'].str.split('  ')\n",
    "\n",
    "# Gunakan explode untuk buat baris baru untuk setiap food type\n",
    "df_swiggy = df_swiggy.explode('Food type').reset_index(drop=True)\n",
    "\n",
    "display(df_swiggy.head(10))"
   ]
  },
  {
   "cell_type": "markdown",
   "id": "e31287d9",
   "metadata": {},
   "source": [
    "## - Menganalisa Hasil Pemecahan Cel"
   ]
  },
  {
   "cell_type": "code",
   "execution_count": 15,
   "id": "125853fc",
   "metadata": {},
   "outputs": [
    {
     "name": "stdout",
     "output_type": "stream",
     "text": [
      "Nama          : Biryani\n",
      "Jumlah          : 1160\n",
      "\n",
      "Nama          : Chinese\n",
      "Jumlah          : 2814\n",
      "\n",
      "Nama          : North Indian\n",
      "Jumlah          : 2077\n",
      "\n",
      "Nama          : South Indian\n",
      "Jumlah          : 927\n",
      "\n",
      "Nama          : Mughlai\n",
      "Jumlah          : 469\n",
      "\n",
      "Nama          : Lucknowi\n",
      "Jumlah          : 47\n",
      "\n",
      "Nama          : Punjabi\n",
      "Jumlah          : 341\n",
      "\n",
      "Nama          : Tandoor\n",
      "Jumlah          : 468\n",
      "\n",
      "Nama          : Rajasthani\n",
      "Jumlah          : 48\n",
      "\n",
      "Nama          : Gujarati\n",
      "Jumlah          : 72\n",
      "\n",
      "Nama          : Snacks\n",
      "Jumlah          : 1144\n",
      "\n",
      "Nama          : Desserts\n",
      "Jumlah          : 1636\n",
      "\n",
      "Nama          : Beverages\n",
      "Jumlah          : 1693\n",
      "\n",
      "Nama          : Thalis\n",
      "Jumlah          : 241\n",
      "\n",
      "Nama          : Chaat\n",
      "Jumlah          : 170\n",
      "\n",
      "Nama          : Mexican\n",
      "Jumlah          : 165\n",
      "\n",
      "Nama          : Salads\n",
      "Jumlah          : 170\n",
      "\n",
      "Nama          : British\n",
      "Jumlah          : 10\n",
      "\n",
      "Nama          : Bakery\n",
      "Jumlah          : 533\n",
      "\n",
      "Nama          : Pizzas\n",
      "Jumlah          : 631\n",
      "\n",
      "Nama          : American\n",
      "Jumlah          : 322\n",
      "\n",
      "Nama          : Italian\n",
      "Jumlah          : 635\n",
      "\n",
      "Nama          : Continental\n",
      "Jumlah          : 750\n",
      "\n",
      "Nama          : Pastas\n",
      "Jumlah          : 223\n",
      "\n",
      "Nama          : Fast Food\n",
      "Jumlah          : 1693\n",
      "\n",
      "Nama          : Bengali\n",
      "Jumlah          : 130\n",
      "\n",
      "Nama          : Thai\n",
      "Jumlah          : 178\n",
      "\n",
      "Nama          : Nepalese\n",
      "Jumlah          : 7\n",
      "\n",
      "Nama          : Indian\n",
      "Jumlah          : 1930\n",
      "\n",
      "Nama          : Street Food\n",
      "Jumlah          : 215\n",
      "\n",
      "Nama          : Kerala\n",
      "Jumlah          : 39\n",
      "\n",
      "Nama          : Seafood\n",
      "Jumlah          : 289\n",
      "\n",
      "Nama          : Andhra\n",
      "Jumlah          : 69\n",
      "\n",
      "Nama          : Combo\n",
      "Jumlah          : 549\n",
      "\n",
      "Nama          : Asian\n",
      "Jumlah          : 254\n",
      "\n",
      "Nama          : Arabian\n",
      "Jumlah          : 161\n",
      "\n",
      "Nama          : Kebabs\n",
      "Jumlah          : 250\n",
      "\n",
      "Nama          : Steakhouse\n",
      "Jumlah          : 7\n",
      "\n",
      "Nama          : Pan-Asian\n",
      "Jumlah          : 118\n",
      "\n",
      "Nama          : Oriental\n",
      "Jumlah          : 82\n",
      "\n",
      "Nama          : Ice Cream\n",
      "Jumlah          : 465\n",
      "\n",
      "Nama          : Barbecue\n",
      "Jumlah          : 29\n",
      "\n",
      "Nama          : Cafe\n",
      "Jumlah          : 58\n",
      "\n",
      "Nama          : Home Food\n",
      "Jumlah          : 82\n",
      "\n",
      "Nama          : Lebanese\n",
      "Jumlah          : 91\n",
      "\n",
      "Nama          : Afghani\n",
      "Jumlah          : 21\n",
      "\n",
      "Nama          : Mediterranean\n",
      "Jumlah          : 47\n",
      "\n",
      "Nama          : Middle Eastern\n",
      "Jumlah          : 20\n",
      "\n",
      "Nama          : Sweets\n",
      "Jumlah          : 299\n",
      "\n",
      "Nama          : Malaysian\n",
      "Jumlah          : 16\n",
      "\n",
      "Nama          : Healthy Food\n",
      "Jumlah          : 245\n",
      "\n",
      "Nama          : Grill\n",
      "Jumlah          : 51\n",
      "\n",
      "Nama          : European\n",
      "Jumlah          : 69\n",
      "\n",
      "Nama          : Hyderabadi\n",
      "Jumlah          : 96\n",
      "\n",
      "Nama          : Parsi\n",
      "Jumlah          : 9\n",
      "\n",
      "Nama          : Juices\n",
      "Jumlah          : 210\n",
      "\n",
      "Nama          : Goan\n",
      "Jumlah          : 6\n",
      "\n",
      "Nama          : Mangalorean\n",
      "Jumlah          : 25\n",
      "\n",
      "Nama          : Coastal\n",
      "Jumlah          : 13\n",
      "\n",
      "Nama          : Tibetan\n",
      "Jumlah          : 85\n",
      "\n",
      "Nama          : Japanese\n",
      "Jumlah          : 40\n",
      "\n",
      "Nama          : Ice Cream Cakes\n",
      "Jumlah          : 8\n",
      "\n",
      "Nama          : Chettinad\n",
      "Jumlah          : 40\n",
      "\n",
      "Nama          : Tribal\n",
      "Jumlah          : 2\n",
      "\n",
      "Nama          : Italian-American\n",
      "Jumlah          : 27\n",
      "\n",
      "Nama          : Popular Brand Store\n",
      "Jumlah          : 1\n",
      "\n",
      "Nama          : French\n",
      "Jumlah          : 14\n",
      "\n",
      "Nama          : Turkish\n",
      "Jumlah          : 10\n",
      "\n",
      "Nama          : German\n",
      "Jumlah          : 1\n",
      "\n",
      "Nama          : Rayalaseema\n",
      "Jumlah          : 4\n",
      "\n",
      "Nama          : Awadhi\n",
      "Jumlah          : 13\n",
      "\n",
      "Nama          : Maharashtrian\n",
      "Jumlah          : 101\n",
      "\n",
      "Nama          : Persian\n",
      "Jumlah          : 12\n",
      "\n",
      "Nama          : Spanish\n",
      "Jumlah          : 2\n",
      "\n",
      "Nama          : Malwani\n",
      "Jumlah          : 13\n",
      "\n",
      "Nama          : Konkan\n",
      "Jumlah          : 3\n",
      "\n",
      "Nama          : Greek\n",
      "Jumlah          : 5\n",
      "\n",
      "Nama          : Portuguese\n",
      "Jumlah          : 3\n",
      "\n",
      "Nama          : African\n",
      "Jumlah          : 3\n",
      "\n",
      "Nama          : Sushi\n",
      "Jumlah          : 17\n",
      "\n",
      "Nama          : Korean\n",
      "Jumlah          : 9\n",
      "\n",
      "Nama          : Mongolian\n",
      "Jumlah          : 6\n",
      "\n",
      "Nama          : Vietnamese\n",
      "Jumlah          : 7\n",
      "\n",
      "Nama          : Burmese\n",
      "Jumlah          : 29\n",
      "\n",
      "Nama          : Naga\n",
      "Jumlah          : 3\n",
      "\n",
      "Nama          : Haleem\n",
      "Jumlah          : 10\n",
      "\n",
      "Nama          : Bihari\n",
      "Jumlah          : 1\n",
      "\n",
      "Nama          : North Eastern\n",
      "Jumlah          : 6\n",
      "\n",
      "Nama          : Singaporean\n",
      "Jumlah          : 10\n",
      "\n",
      "Nama          : Jain\n",
      "Jumlah          : 48\n",
      "\n",
      "Nama          : Keto\n",
      "Jumlah          : 25\n",
      "\n",
      "Nama          : Indonesian\n",
      "Jumlah          : 7\n",
      "\n",
      "Nama          : Raw meats\n",
      "Jumlah          : 2\n",
      "\n",
      "Nama          : South American\n",
      "Jumlah          : 1\n",
      "\n",
      "Nama          : Bangladeshi\n",
      "Jumlah          : 5\n",
      "\n",
      "Nama          : Sindhi\n",
      "Jumlah          : 5\n",
      "\n",
      "Nama          : Oriya\n",
      "Jumlah          : 2\n",
      "\n",
      "Nama          : Special Discount from (The Scoop)\n",
      "Jumlah          : 1\n",
      "\n",
      "Nama          : Australian\n",
      "Jumlah          : 3\n",
      "\n",
      "Nama          : Assamese\n",
      "Jumlah          : 1\n",
      "\n",
      "Nama          : Bowl Company\n",
      "Jumlah          : 3\n",
      "\n",
      "Nama          :  Keventers & more\n",
      "Jumlah          : 3\n",
      "\n",
      "Nama          : Tandoor \n",
      "Jumlah          : 3\n",
      "\n",
      "Nama          : indian\n",
      "Jumlah          : 3\n",
      "\n",
      "Nama          : Paan\n",
      "Jumlah          : 16\n",
      "\n",
      "Nama          : Use code XPRESS121 to avail.\n",
      "Jumlah          : 1\n",
      "\n",
      "Nama          : Punjab\n",
      "Jumlah          : 2\n",
      "\n",
      "Nama          : Kashmiri\n",
      "Jumlah          : 6\n",
      "\n",
      "Nama          : Telangana\n",
      "Jumlah          : 3\n",
      "\n",
      "Nama          : Attractive Combos Available\n",
      "Jumlah          : 1\n",
      "\n",
      "Nama          : Waffle\n",
      "Jumlah          : 7\n",
      "\n",
      "Nama          : Tex-Mex\n",
      "Jumlah          : 1\n",
      "\n",
      "Nama          : Navratri Special\n",
      "Jumlah          : 2\n",
      "\n",
      "Nama          : SVANidhi Street Food Vendor\n",
      "Jumlah          : 1\n",
      "\n",
      "Nama          : Offer Valid only for New Customers\n",
      "Jumlah          : 1\n",
      "\n"
     ]
    }
   ],
   "source": [
    "for x in df_swiggy['Food type'].unique():\n",
    "    print(f'Nama          : {x}')\n",
    "    print(f'Jumlah          : {(df_swiggy['Food type'] == x).sum()}')\n",
    "    print(\"\")"
   ]
  },
  {
   "cell_type": "markdown",
   "id": "37589baf",
   "metadata": {},
   "source": [
    "Menghilangkan Tipe makanan yang datanya kurang dari 50 agar analisa penilian menjadi adil"
   ]
  },
  {
   "cell_type": "code",
   "execution_count": 16,
   "id": "8bd18bc6",
   "metadata": {},
   "outputs": [],
   "source": [
    "for x in df_swiggy['Food type'].unique():\n",
    "    if (df_swiggy['Food type'] == x).sum() < 50:\n",
    "        df_swiggy = df_swiggy[~df_swiggy.isin([x]).any(axis=1)]\n",
    "        \n",
    "\n",
    "df_swiggy.to_csv(\"P0M1_Putra_Fisabil_Muhammad.csv\")\n",
    "df_swiggy.to_excel(\"P0M1_Putra_Fisabil_Muhammad.xlsx\")"
   ]
  },
  {
   "cell_type": "code",
   "execution_count": 17,
   "id": "6755a13b",
   "metadata": {},
   "outputs": [
    {
     "data": {
      "text/plain": [
       "array(['Koramangala', 'Jogupalya', 'Indiranagar', 'Domlur', 'Cooke Town',\n",
       "       'Pulikeshi Nagar', 'Sivanchetti Gardens', 'Kodihalli', 'Jayanagar',\n",
       "       'Film Nagar', 'Banashankari', 'Masab Tank', 'Banjara Hills',\n",
       "       'Andheri East', 'Powai', 'Punjagutta', 'Aundh', 'Baner',\n",
       "       'Powai Area', 'Ramgopalpet', 'Kalasiguda', 'Adarsh Nagar',\n",
       "       'Himayatnagar', 'Ashok Nagar', 'Commercial Street',\n",
       "       'Richmond Town', 'Vasanth Nagar', 'Bhowanipore', 'Ballygunge',\n",
       "       'Gariahat', 'Kalighat', 'Sion', 'Mumbai', 'Rajajinagar', 'Golpark',\n",
       "       'Shivajinagar', 'Koregaon Park', 'Deccan Gymkhana', 'Karkhana',\n",
       "       'Kothrud', 'Erandwane', 'Koti', 'Dilsukhnagar', 'Nagole',\n",
       "       'Chandrapuri Colony', 'Kothapet', 'Narayanguda', 'Fc Road',\n",
       "       'Park Street Area', 'Beniapukur', 'Bidhannagar', 'New Nallakunta',\n",
       "       'Adikmet', 'Amberpet', 'Karve Nagar', 'Agarkar Nagar', 'Mundhwa',\n",
       "       'Mohammed Wadi', 'Bandra Area', 'Paschim Vihar', 'Malleshwaram',\n",
       "       'Lakdikapul', 'Camp', 'Antop Hill', 'New Tippasandra',\n",
       "       'Bhawani Peth', 'Basheer Bagh', 'Kalyani Nagar', 'Shankarapura',\n",
       "       'Elgin', 'Kurla West', 'Saki Naka', 'Teynampet', 'Nandanam',\n",
       "       'Langford Gardens', 'Abids', 'Santacruz East', 'Khairtabad',\n",
       "       'Vishnu Garden', 'Beleghata', 'Lake Town', 'Gopalapuram',\n",
       "       'Alwarpet', 'Central Markt Punjabi Bagh', 'Pashan',\n",
       "       'South Kolkata', 'Kotturpuram', 'Habsiguda', 'Uppal',\n",
       "       'Punjabi Bagh', 'Kasba', 'Barabazar Market', 'Manicktala',\n",
       "       'Maniktala', 'Esplanade', 'Kankurgachi', 'Thousand Lights',\n",
       "       'Mylapore', 'Taltala', 'West Marredpally', 'Powaiandheri East',\n",
       "       'Nungambakkam', 'Murad Nagar', 'Redhills', 'Vadapalani', 'Garfa',\n",
       "       'Kondhwa', 'T. Nagar', 'Marol Sakinaka', 'Pitampura', 'Pitam Pura',\n",
       "       'Near Rupbani Cinema', 'East Kolkata Township', 'Somajiguda',\n",
       "       'Anna Nagar', 'Kilpauk', 'Rohini', 'Sector 7 Rohini',\n",
       "       'Sector 8 Rohini', 'Prashant Vihar Rohini', 'Sector 14 Rohini',\n",
       "       'Shyam Bazar', 'Jodhpur Park', 'Kachiguda', 'Visharant Wadi',\n",
       "       'Bkc', 'Near 7 Point Crossing', 'Gultekdi', 'Hadapsar',\n",
       "       'Kodambakkam', 'Bibwewadi', 'Khar West', 'Gandhi Nagar', 'Chembur',\n",
       "       'Sector 11 Rohini', 'Wanowrie', 'Kasba Peth', 'Royapettah',\n",
       "       'Sector 10 Rohini', 'College Square', 'Shalimar Bagh', 'Jayamahal',\n",
       "       'New Alipore', 'Chetpet', 'Madhura Nagar', 'Aminjikarai',\n",
       "       'Wadgaon Sheri', 'Anand Nagar', 'Dum Dum', 'Poongavanapuram',\n",
       "       'Egmore', 'Yerawada', 'Choolaimedu', 'Sadashiv Peth', 'Sangamvadi',\n",
       "       'Shobhabazar', 'Tangra', 'Opp Padmashree Movie Hall',\n",
       "       'Sarat Bose Rd', 'Purasaiwakkam', 'Cit Nagar', 'Annanagar East',\n",
       "       'Chennai', 'Ghatkopar East', 'Ganganagar', 'Huda Complex',\n",
       "       'Ramesh Nagar', 'Tiljala', 'Near City Centre 1 Petrol Pump',\n",
       "       'West Mambalam', 'Delhi', 'Narhe', 'Bentinck St.',\n",
       "       'Shyambazar Crossing', 'Near Gurudas Park', 'Machuabazar',\n",
       "       'Sinhgad Road', 'Mangawadi', 'Shaniwar Peth', 'Bowbazar',\n",
       "       'Alipore', 'Central Market Punjabi Bagh', 'Ghatkopar West',\n",
       "       'Anna Nagar West Extension', 'Kurla', 'Old Sangvi', 'Sreebhumi',\n",
       "       'Tilak Nagar', 'Sector 3 Rohini', 'Basavanagudi', 'Sainik Vihar',\n",
       "       'Balavinayagar Nagar', 'Arumbakkam', 'Tagore Garden Extension',\n",
       "       'Krishna Park Tilak Nagar', 'Gokhalenagar', 'Lullanagar',\n",
       "       'Range Hills', 'Chiriamore', 'Sinthee', 'Kolkata', 'Nampally',\n",
       "       'Maharshi Nagar', 'Mukti Nagar', 'Kalina', 'Central Bangalore',\n",
       "       'Dhankawadi', 'Maniktala Main Rd', 'Gobra',\n",
       "       'Behra Enclave Paschim Vihar', 'Entally', 'Santacruz West',\n",
       "       'Jyothi Nagar', 'Vadgaon Budruk', 'Matunga', 'Tarnaka', 'Bopodi',\n",
       "       'Mehdipatnam', 'Ultadanga',\n",
       "       'Ruby Area  Kasba  East Kolkata Township', 'Chetla', 'Toli Chowki',\n",
       "       'Central Kolkata', 'Himayath Nagar', 'Jadavpur', 'Bandra West',\n",
       "       'Rasta Peth', 'Selimpur', 'South Dumdum', 'Raja Annamalai Puram',\n",
       "       'T Nagar', 'Shivaji Nagar', 'Malleswaram', 'Central Banglore',\n",
       "       'Sector 9 Rohini', 'Seshadripuram', 'Perambur', 'Karam Pura',\n",
       "       'Zamistanpur', 'Kurla - Mumbai', 'Bandra East', 'Broad Street',\n",
       "       'Sarvagnanagar', 'Bn Reddy Nagar', 'Paikpara', 'Kavadiguda',\n",
       "       'George Town', 'Haltu', 'Sheela Vihar Colony', 'Tingre Nagar',\n",
       "       'Ameerpet', 'Dumdum', 'Navrangpura', 'Ellisbridge',\n",
       "       'University Area', 'Vastrapur', 'Memnagar', 'College Street',\n",
       "       'Benson Town', 'Sector 2 Rohini', 'Ramdev Nagar', 'Usmanpura',\n",
       "       'Lal Bazar', 'Adugodi', 'Anna Salai', 'Lake Gardens',\n",
       "       'Sastri Nager', 'Kodungaiyur', 'Ulsoor', 'Triplicane', 'Majestic',\n",
       "       'Old Malakpet', 'Malakpet', 'Bodakdev', 'Tiretti',\n",
       "       'Old Washermanpet', 'Paldi', 'Juhapura', 'Sector 13 Rohini',\n",
       "       'Sri Hanuman Nagar Colony', 'Dhakuria', 'Chanchalguda',\n",
       "       'Budh Vihar', 'A Unit Of M/S Cohort  Ruby Area', 'Gulbai Tekra',\n",
       "       'Asalpha', 'Kalas', 'Danilimda', 'Ahmedabad', 'Gurukul',\n",
       "       'Salt Lake Area', 'Ashok Vihar', 'Santosh Nagar', 'Warje',\n",
       "       'Jm Road', 'Saidabad', 'Khokhra', 'Topsia', 'Ambawadi',\n",
       "       'Baranagar', 'Ejipura', 'Royapuram', 'Salunkhe Vihar',\n",
       "       'Humayun Nagar', 'Vishrantwadi', 'New Mallepally', 'Washermanpet',\n",
       "       'New Malakpet', 'Motera', 'Thaltej', 'Santoshpur',\n",
       "       'Subhash Nagar Petrol Pump', 'Uttam Nagar', 'Govandi East',\n",
       "       'Narayan Peth', 'Vyasarpadi', 'Salt Lake City', 'Khanpur',\n",
       "       'Lal Darwaja', 'Laldarwaja', 'Modi Colony', 'Sagrampura', 'Athwa',\n",
       "       'Cossipore', 'Bhadra', 'Block Gg1 Vikaspuri', 'Shahpur', 'Piplod',\n",
       "       'Vikhroli', 'Annanagar', 'Varachha', 'Bharthana', 'Bowenpally',\n",
       "       'Ayanavaram', 'Begampura', 'Sion Bhakti Park', 'Raja Bazar',\n",
       "       'Adajan', 'Yousufguda', 'Choolai', 'Ghorpadi', 'Kolathur',\n",
       "       'Sanjeeva Reddy Nagar', 'Vijayanagar', 'Vijaya Nagar Colony',\n",
       "       'Sector 8  Rohini', 'Khamasa', 'Moghalpura', 'Lal Darwaza',\n",
       "       'Charminar', 'Raikhad', 'Kothapet & Dilsukhnagar', 'Gopipura',\n",
       "       'Chamrajpet', 'Padmarao Nagar', 'Jamalia', 'Vesu', 'Golf Green',\n",
       "       'Palanpur', 'Jodhpur Village', 'Baguihati', 'New Magdalla',\n",
       "       'Parvati Paytha', 'Ghansi Bazaar', 'Aliabad', 'Madannapet Colony',\n",
       "       'Umarwada', 'Behala', 'Langar Houz', 'Khilwat', 'Jam Bagh',\n",
       "       'Koramangala - Bangalore', 'Punjab Bagh', 'Satellite', 'Shahpore',\n",
       "       'Guru Nanak Nagar', 'Khatodra Wadi', 'Tolichowki', 'Nanpura',\n",
       "       'Boudhanagar Colony', 'Dahin Nagar', 'Begumpet', 'Sector 37',\n",
       "       'Hindustan Park', 'Wanwadi', 'Srirampura', 'Sayedpura',\n",
       "       'Azad Nagar', 'Budhwar Peth', 'Thirunagar Signal Vadapalani',\n",
       "       'Annamalai Colony', 'Hyderabad', 'Wadgaon Budruk Tilak Road',\n",
       "       'Amroli', 'Tala', 'Sovabazar', 'New Rander Road',\n",
       "       'Palanpur Jakatnaka', 'Rander', 'Chowk Bazar',\n",
       "       'Mahadev Nagar Tekra', 'Chandrayangutta', 'Dharavi', 'Ghatkopar',\n",
       "       'Kestopur', 'Darulshifa', 'Yakutpura', 'Saijpur Bogha', 'Bhimrad',\n",
       "       'Express Avenue Mall', 'Shenoy Nagar', 'Moti Nagar',\n",
       "       'Sudhama Nagar', 'Pathar Gatti', 'Victoria Layout',\n",
       "       'Sector 6 Rohini', 'Hatibagan', 'Sangvi', 'Haripura',\n",
       "       'Gaddiannaram', 'Kuber Nagar', 'Surat', 'Sector 1 Rohini',\n",
       "       'Isanpur', 'Ganga Dham', 'Swargate', 'Ambavadi', 'Tad Bun',\n",
       "       'Park Circus', 'Hedua', 'Guttahalli', 'Sector 51',\n",
       "       'Sampangiram Nagar', 'Parvat Patiya', 'Begampur',\n",
       "       'Lnt Mall Musarambagh', 'Salt Lake', 'J.C.Nagar', 'Palanpur Patia',\n",
       "       'Tondiarpet', 'Althan', 'Vastral', 'Kapodra Patiya', 'Jorasanko',\n",
       "       'Marol', 'Jubilee Hills', 'Wilson Garden', 'Phoenix Mall',\n",
       "       'Mukherjee Nagar', 'Tollygunge', 'Talab Katta',\n",
       "       'Scruz Bandra East', 'Katraj', 'Shah-E-Alam Roja', 'Adajan Patiya',\n",
       "       'Ponniammanmedu', 'Sakivihar', 'Shyamal',\n",
       "       'Near Lal Gate Ramlal Bazarsapuipara', 'Dapodi', 'Periyamet',\n",
       "       'Maninagar', 'Vijay Nagar Colony', 'Udhna', 'Gowliguda',\n",
       "       'Asif Nagar', 'Santacruz', 'Frazer Town', 'Magarpatta',\n",
       "       'Sector 73', 'Dudheshwar', 'Kharkhana & Trimulgherry',\n",
       "       'Katad Khana', 'Balkampet', 'Vakola', 'Gowlipura', 'Vatva',\n",
       "       'Ahiritola', 'Sadar Bazaar', 'Jogeshwari East',\n",
       "       'Southern Avenue Gariahat', 'Kothapet & Dilshuknagar',\n",
       "       'Navsari Bazaar', 'Viveka Nagar', 'Vikhroli West',\n",
       "       'Kondhwa Budruk', 'Dabholi', 'Athwa Station Road', 'Burrabazar',\n",
       "       'Mmda Colony', 'Nava Vadaj', 'Narolgam', 'Villivakkam', 'Nacharam',\n",
       "       'Drive In Road', 'Someshwarpura', 'Broadway Mall', 'Nana Varachha',\n",
       "       'Purba Barisha', 'Mota Varachha', 'Narayan Nagar', 'Jivraj Park',\n",
       "       'Sampangi Rama Nagar', 'Brindavan Colony', 'Sherkotda',\n",
       "       'Sheshadripuram', '26', 'Sec-9 Rohini', 'Kiran Nagar',\n",
       "       'Neelasandra', 'Ranip', 'Garodia Nagar', 'B.B.D. Bagh',\n",
       "       'Vile Parle', 'Pacific Mall Subhash Nagar', 'Dum Dum Park',\n",
       "       'Malkajgiri', 'Jodhpur', 'Bally', 'Bavdhan', 'Acher',\n",
       "       'Chintadripet', 'Madhavaram', 'Ea Mall Royapettah', 'Nagerbazar',\n",
       "       'Chickpet', 'New Gayatri Nagar', 'Rajouri Garden', 'Narotam Nagar',\n",
       "       'Kustia', 'Lb Nagar', 'Nava Naroda', 'Vishala', 'Purasawalkam',\n",
       "       'Santhome', 'Jorabagan', 'Naranpura', 'Magdalla', 'Cox Town',\n",
       "       'Paharganj', 'Sector 16 Rohini', 'Khar East', 'Kurla (W)',\n",
       "       'Khadia', 'Ambegaon', 'Bosepukur', 'Magob', 'Shakurpur',\n",
       "       'Nehrunagar', 'Chanakyapuri', 'Rohini - Sector 16',\n",
       "       'Tiruvalleeswarar Nagar', 'Gunrock Enclave', 'Nagarathpete',\n",
       "       'Chudi Bazaar', 'Koregoan Park', 'Himayat Nagar', 'Hakimpet',\n",
       "       'Feelkhana', 'Golconda Fort', 'Patel  Nagar', 'Velly View Enclave',\n",
       "       'Viman Nagar', 'Ramnas Pura', 'Saki Naka   Andheri East',\n",
       "       'Huda Colony', 'Peerzadiguda', 'Rt Nagar', 'North Dumdum',\n",
       "       'Jodhpur Tekra', 'Sector 29', 'Sector 8', 'Sri Sai Tarun Enclave',\n",
       "       'Ruby Area', 'Rajarhat', 'Mandaveli', 'Koyambedu',\n",
       "       'Shukrawar Peth', 'Chintal', 'Wallace Garden', 'Belgachia',\n",
       "       'Moosarambagh', 'Sima Nagar', 'Baguiati', 'Peravallur',\n",
       "       'Patel Nagar', 'Marol Maroshi Road', 'L.P.Savani', 'Sarkhej Road',\n",
       "       'Sector V Salt Lake', 'Bandra Kurla Complex', 'Sarvodaya Colony',\n",
       "       'Matunga Wadala', 'Somajiguda & Khairtabad',\n",
       "       'Nehru Stadium Dark Kitchen Metro Manor Sydenhams',\n",
       "       'Santoshnagar & Saidabad', 'Abids & Koti', 'Near Rto Pal Gam',\n",
       "       'Kirti Nagar', 'Tarnaka  Nacharam & Malkajigiri',\n",
       "       'Santacruz Bandra East', 'Tarnaka Nacharam & Malkajigiri', 'Nsp',\n",
       "       'A.S. Rao Nagar & Sainikpuri', 'Kidderpore', 'Juhu',\n",
       "       'Nallakunta & Vidyanagar', 'Ghatkopar Vikhroli',\n",
       "       'Basaveshwaranagar', 'Lakdi Ka Pul', 'Chandkheda', 'Sarthana',\n",
       "       'Shantinagar', 'Paldi & Ambawadi', 'Chowpati  Athwa',\n",
       "       'Old Wasermenpet', 'Battarahalli', 'Law College Road',\n",
       "       'Sion Koliwada', 'Lower Parel Worli',\n",
       "       'Dr.Radhakrishnan Salai-Mylapore', 'Jodhpur Cross Road',\n",
       "       'Vidyanagar', 'Kausar Baugh Nibm Road',\n",
       "       'Tolichowki Hps Kids School Opposite', 'Halsuru', 'L.B Nagar',\n",
       "       'Vasna', 'Borough', 'Janakpuri', 'Sithaphalmandi',\n",
       "       'Srinivas Towers', 'Dhole Patil Road', 'Appa Balwant Chowk Pune',\n",
       "       'Mahalaxmi Rd', 'Bong Chinese Ruby Area',\n",
       "       'Wazirpur Industrial Area', 'Beltala Road', 'Girish Park',\n",
       "       'Bldg No15 /402  Aniket Building  Shivaji Nagar', 'Pitampara',\n",
       "       'Rajouri Garden Extension', 'Kakurgachi', 'Ekdalia', 'Ghatlodia',\n",
       "       'Sector -15', 'Safal Square Vesu', 'Salt Lake - Kolkata',\n",
       "       'Rani Bagh', 'Puna Patia', 'Ultadanga Telenga Bagan',\n",
       "       'Cunningham Road', 'Mantri Sqare Mall', 'Ra Puram', 'Matunga East',\n",
       "       'Manohar Pukur Road', 'Circus Avenue', 'Madhavaram - Manali',\n",
       "       'Central Bengalore', 'Saki Vihar Road', 'Vv Puram',\n",
       "       'Prahlad Nagar', 'Rabindrapally', 'Smarpally Kestopur',\n",
       "       'R.T. Nagar', 'Lower Parel Area', 'Vanasthalipuram', 'Chinar Park',\n",
       "       'Ruby Park', 'Saltlake Sector 1', 'Secunderabad',\n",
       "       'Rohini Sector 7', 'Church Street', 'Sanitytestarea',\n",
       "       'Picnic Garden', 'Knk- Nungambakam (Cds)- Chennai', 'Kalina Ck',\n",
       "       'Residency Road', 'Cg Road', 'Brigade Road', 'South West',\n",
       "       'Hyderguda Old Mla Home', 'Kankurgachi Kolkata',\n",
       "       'Gautam Buddha Nagar', 'Andheri West Area',\n",
       "       'Santacruz East Mumbai.', 'Vardhman Premium Mall', 'Pcmc',\n",
       "       'Lingarajapuram Kammanahalli', 'Nibm Post Office Road',\n",
       "       'Sainik Vihar Pritampura', 'Naroda', 'Salunkhe Vihar Road',\n",
       "       'Banjarahills', 'Kurla East Nehru Nagar', 'Keshav Puram',\n",
       "       'Lake Market', 'Borough - Iii', 'New Area', 'Somwarpeth',\n",
       "       'Sarat Park', 'Dindoli', 'Fathima Nagar',\n",
       "       'The New Sion Co-Operative Housing Society', 'Chembur Colony',\n",
       "       'Ghatkopar Ck Mum', 'Rammandir', 'Fdl_Scruz Bandra East',\n",
       "       'Gandhi Bazaar', 'Ramkote', 'Sector 15 Rohini', 'King Koti',\n",
       "       'Bibvewadi', 'Raviwar Peth', 'Gudimalkapur',\n",
       "       'Kestopur Rabindrapally', 'Musheerabad', 'Somwar Peth',\n",
       "       'Gaddi Annaram', 'Balaji Nagar', 'Krishna Nagar Colony',\n",
       "       'Saligramam', 'Sai Nagar', 'Peeragarhi Camp', 'Navjivan',\n",
       "       'Chilakalguda', 'Old Mla Quarters', 'Sector 4 Rohini',\n",
       "       'Rajamohallah', 'Sector 5 Rohini', 'Vikaspuri', 'Ramanthapur',\n",
       "       '3Rd Block Jayanagar', 'Venkateshwara Colony', 'Gandhinagar',\n",
       "       'Secot 24Rohini', 'Nallakunta', 'Kankaria', 'Sindhu Bhavan Road',\n",
       "       'Satara Road Bibvewadi', 'Ganesh Peth', 'Adajan Gam',\n",
       "       'Lord Sinha Rd', 'Bhatha', 'Athwa Gate', 'Vip Road', 'Parvati',\n",
       "       'Naktala', 'Valasaravakkam', 'Girdhar Nagar', 'Madhupura',\n",
       "       'New Textile Market', 'Majura Gate', 'Mahim', 'Yamuna Nagar',\n",
       "       'Kalupur', 'Bhatar Athwa', 'Vishal Nagar', 'Yakhutpura',\n",
       "       'Salabatpura', 'Takara Basthi', 'Gunti Jangaiah Nagar',\n",
       "       'Jashoda Nagar', 'Sardar Colony', 'Katargam',\n",
       "       'Moonlight Cream Sagrampura', 'Gidc Naroda', 'Sanjay Nagar',\n",
       "       'Pankaj Nagar', 'Uttran', 'Hirabaugh', 'Laxmi Encleve - Katargam',\n",
       "       'Krishan Vihar', 'Pal Gam', 'Nangloi', 'Shanti Nagar', 'Odhav',\n",
       "       'Afzal Gunj', 'Begum Bazar', 'Old Wadaj', 'Kadugondanahalli',\n",
       "       'Noble Nagar Tenament', 'Ganj Peth', 'Narol', 'Cambridge Layout',\n",
       "       'Hatkeshwar', 'Singanpor', 'Yoginagar Society', 'Bapunagar',\n",
       "       'Armane Nagar', 'Ashok Bhai- Citylight', 'Kg-Iii',\n",
       "       'Sri Durga Enclave', 'Pocket C-11 Sector 5 Rohini', 'Gomtipur',\n",
       "       'Nalgonda', 'Mg Road', 'Tri Nagar', 'Rani Gunj', 'Rustampura',\n",
       "       'Ghod Dod Road', 'Jayanagar - 3Rd Block', 'Anna Nagar West',\n",
       "       'Kalyan Nagar X Roads', 'Mitul Square Piplod',\n",
       "       'Padma Nagar Colony', 'Rithala Rohini', 'Rabindra Sarovar',\n",
       "       'Dhanakawadi', 'Kailash Plaza', 'Mogappair', 'Prashant Vihar',\n",
       "       'Akhbar Nagar Circle', 'Mogapair', 'Sri Nagar', 'Honey Park',\n",
       "       'Sector -6', 'Umra Jakat', 'Bangur', 'Ghod Dod Road Sarelawadi',\n",
       "       'Uppal - Hyderabad', 'Bhavani Nagar Uppal - Hyderabad',\n",
       "       'Station Road Ghatkopar West', 'Bhagal', 'Jillelaguda', 'Sector 3',\n",
       "       'Karvenagar', 'Sagrampuraathwa', 'Sanjay Nagar New Bel Road',\n",
       "       'Panjarapole Cross Road'], dtype=object)"
      ]
     },
     "execution_count": 17,
     "metadata": {},
     "output_type": "execute_result"
    }
   ],
   "source": [
    "df_swiggy['Area'].unique()"
   ]
  },
  {
   "cell_type": "code",
   "execution_count": 18,
   "id": "7bbf1d4c",
   "metadata": {},
   "outputs": [
    {
     "name": "stdout",
     "output_type": "stream",
     "text": [
      "<class 'pandas.core.frame.DataFrame'>\n",
      "Index: 24410 entries, 0 to 25206\n",
      "Data columns (total 10 columns):\n",
      " #   Column         Non-Null Count  Dtype  \n",
      "---  ------         --------------  -----  \n",
      " 0   ID             24410 non-null  int64  \n",
      " 1   Area           24410 non-null  object \n",
      " 2   City           24410 non-null  object \n",
      " 3   Restaurant     24410 non-null  object \n",
      " 4   Price          24410 non-null  float64\n",
      " 5   Avg ratings    24410 non-null  float64\n",
      " 6   Total ratings  24410 non-null  int64  \n",
      " 7   Food type      24410 non-null  object \n",
      " 8   Address        24410 non-null  object \n",
      " 9   Delivery time  24410 non-null  int64  \n",
      "dtypes: float64(2), int64(3), object(5)\n",
      "memory usage: 2.0+ MB\n"
     ]
    }
   ],
   "source": [
    "df_swiggy.info()"
   ]
  },
  {
   "cell_type": "markdown",
   "id": "dcb0d51d",
   "metadata": {},
   "source": [
    "# Exploratory Data Analysis"
   ]
  },
  {
   "cell_type": "markdown",
   "id": "5fb6e0fe",
   "metadata": {},
   "source": [
    "Untuk mengetahui produk apa yang ingin kita buat agar menjadi yang terbaik pada aplikasi swiggy sebagai konsultan harus menganalisa mengenai produk apa yang paling tinggi ratingnya, delivery time yang paling cepat, yang paling banyak mendapatkan rating dengan sudah ditemukan 3 hal tersebut kita bisa mencari rata-rata harga yang dijual pada aplikasi swiggy, dan untuk menentukan dimana akan berjualan kita harus menganalisa kota mana yang mendapatkan rating paling tinggi"
   ]
  },
  {
   "cell_type": "markdown",
   "id": "ec8f5274",
   "metadata": {},
   "source": [
    "## 1. Top 5 Tipe Makanan yang memiliki rating paling tinggi"
   ]
  },
  {
   "cell_type": "markdown",
   "id": "ce53a4d7",
   "metadata": {},
   "source": [
    "kenapa memilih rating?"
   ]
  },
  {
   "cell_type": "code",
   "execution_count": 19,
   "id": "0371f0d0",
   "metadata": {},
   "outputs": [
    {
     "data": {
      "image/png": "[encoded data removed]",
      "text/plain": [
       "<Figure size 800x600 with 1 Axes>"
      ]
     },
     "metadata": {},
     "output_type": "display_data"
    }
   ],
   "source": [
    "#mengambil data sesuai kebutuhan\n",
    "top_5_rating_food_type = df_swiggy.groupby('Food type')['Avg ratings'].mean().sort_values(ascending=False).head(5).reset_index()\n",
    "\n",
    "plt.figure(figsize=(8, 6))\n",
    "ax = sns.barplot(data=top_5_rating_food_type, y='Food type', x='Avg ratings', hue='Food type', palette='viridis', legend=False)\n",
    "\n",
    "# Tambahkan nilai rata-rata di dalam batang\n",
    "for container in ax.containers:\n",
    "    ax.bar_label(container, fmt='%.2f', label_type='center')\n",
    "\n",
    "plt.title('Top 5 Tipe Makanan dengan Rata-Rata Rating Tertinggi')\n",
    "plt.xlabel('Rata-Rata Rating')\n",
    "plt.ylabel('Tipe Makanan')\n",
    "plt.tight_layout()\n",
    "plt.show()"
   ]
  },
  {
   "cell_type": "markdown",
   "id": "85dfcde7",
   "metadata": {},
   "source": [
    "Berdasarkan chart di atas bisa dilihat bahwa Home Food menjadi produk dengan rating ter tinggi, tapi untuk menentukan apakah itu adalah jenis makanan yang paling baik untuk dijual? kita harus menganalisanya lebih dalam lagi karena dalam diagram diatas rating masih di dapatkan dari rata-rata yang berarti jumlah restoran harus kita ketahui terlebih dahulu kemudian kita bisa menggunakan analisa yang lebih objektif"
   ]
  },
  {
   "cell_type": "markdown",
   "id": "166fda87",
   "metadata": {},
   "source": [
    "### Menganalisa berapa jumlah restoran yang pada top 5 rating tipe makanan"
   ]
  },
  {
   "cell_type": "code",
   "execution_count": 20,
   "id": "4a71134a",
   "metadata": {},
   "outputs": [
    {
     "data": {
      "text/html": [
       "<div>\n",
       "<style scoped>\n",
       "    .dataframe tbody tr th:only-of-type {\n",
       "        vertical-align: middle;\n",
       "    }\n",
       "\n",
       "    .dataframe tbody tr th {\n",
       "        vertical-align: top;\n",
       "    }\n",
       "\n",
       "    .dataframe thead th {\n",
       "        text-align: right;\n",
       "    }\n",
       "</style>\n",
       "<table border=\"1\" class=\"dataframe\">\n",
       "  <thead>\n",
       "    <tr style=\"text-align: right;\">\n",
       "      <th></th>\n",
       "      <th>Food type</th>\n",
       "      <th>Rata-Rata Rating</th>\n",
       "      <th>Count</th>\n",
       "    </tr>\n",
       "  </thead>\n",
       "  <tbody>\n",
       "    <tr>\n",
       "      <th>0</th>\n",
       "      <td>Home Food</td>\n",
       "      <td>4.051220</td>\n",
       "      <td>82</td>\n",
       "    </tr>\n",
       "    <tr>\n",
       "      <th>1</th>\n",
       "      <td>Andhra</td>\n",
       "      <td>3.988406</td>\n",
       "      <td>69</td>\n",
       "    </tr>\n",
       "    <tr>\n",
       "      <th>2</th>\n",
       "      <td>Sweets</td>\n",
       "      <td>3.960535</td>\n",
       "      <td>299</td>\n",
       "    </tr>\n",
       "    <tr>\n",
       "      <th>3</th>\n",
       "      <td>Healthy Food</td>\n",
       "      <td>3.950204</td>\n",
       "      <td>245</td>\n",
       "    </tr>\n",
       "    <tr>\n",
       "      <th>4</th>\n",
       "      <td>Hyderabadi</td>\n",
       "      <td>3.947917</td>\n",
       "      <td>96</td>\n",
       "    </tr>\n",
       "  </tbody>\n",
       "</table>\n",
       "</div>"
      ],
      "text/plain": [
       "      Food type  Rata-Rata Rating  Count\n",
       "0     Home Food          4.051220     82\n",
       "1        Andhra          3.988406     69\n",
       "2        Sweets          3.960535    299\n",
       "3  Healthy Food          3.950204    245\n",
       "4    Hyderabadi          3.947917     96"
      ]
     },
     "metadata": {},
     "output_type": "display_data"
    },
    {
     "data": {
      "image/png": "[encoded data removed]",
      "text/plain": [
       "<Figure size 1000x600 with 2 Axes>"
      ]
     },
     "metadata": {},
     "output_type": "display_data"
    }
   ],
   "source": [
    "# mengambil data yang dibutuhkan\n",
    "top_5_rating_food_type = (\n",
    "    df_swiggy.groupby('Food type')\n",
    "    .agg({'Avg ratings': 'mean', 'Food type': 'count'})\n",
    "    .rename(columns={'Avg ratings': 'Rata-Rata Rating', 'Food type': 'Count'})\n",
    "    .sort_values(by='Rata-Rata Rating', ascending=False)\n",
    "    .head(5)\n",
    "    .reset_index()\n",
    ")\n",
    "\n",
    "display(top_5_rating_food_type)\n",
    "\n",
    "# Membuat chart\n",
    "fig, ax1 = plt.subplots(figsize=(10, 6))\n",
    "\n",
    "# Bar chart - Count\n",
    "bars = ax1.bar(\n",
    "    top_5_rating_food_type['Food type'],\n",
    "    top_5_rating_food_type['Count'],\n",
    "    color='lightblue',\n",
    "    label='Count'\n",
    ")\n",
    "\n",
    "# Menambahkan label di atas bar\n",
    "for bar in bars:\n",
    "    height = bar.get_height()\n",
    "    ax1.text(\n",
    "        bar.get_x() + bar.get_width() / 2,\n",
    "        height + 5,  # Jarak di atas bar\n",
    "        f'{int(height)}',\n",
    "        ha='center',\n",
    "        va='bottom',\n",
    "        fontsize=10,\n",
    "        color='blue'\n",
    "    )\n",
    "\n",
    "# Line chart - Rata-Rata Rating\n",
    "ax2 = ax1.twinx()\n",
    "ax2.plot(\n",
    "    top_5_rating_food_type['Food type'],\n",
    "    top_5_rating_food_type['Rata-Rata Rating'],\n",
    "    color='green',\n",
    "    marker='o',\n",
    "    label='Rata-Rata Rating'\n",
    ")\n",
    "\n",
    "# Label dan tampilan\n",
    "ax1.set_xlabel('Food Type')\n",
    "ax1.set_ylabel('Count', color='blue')\n",
    "ax2.set_ylabel('Rata-Rata Rating', color='green')\n",
    "plt.title('Top 5 Food Types: Count vs Rata-Rata Rating')\n",
    "plt.tight_layout()\n",
    "plt.show()\n"
   ]
  },
  {
   "cell_type": "markdown",
   "id": "7accce76",
   "metadata": {},
   "source": [
    "bisa dilihat ternyata tipe makanan home food walaupun dia memiliki rating yang tinggi akan tetapi jumlah restoran tipe makanan home food masih rendah yaitu 82 jadi kita tidak bisa menyimpulkan bahwa Home Food adalah jenis makan terbaik maka agar bisa lebih objektif dalam mengambil keputusan kita harus menggunakan skoring gabungan antara rata rata rating jumlah total rating dibagi dengan jumlah restoranya"
   ]
  },
  {
   "cell_type": "markdown",
   "id": "f57a6638",
   "metadata": {},
   "source": [
    "### Menggunakan skor performa gabungan  untuk menganalisa agar lebih objektif"
   ]
  },
  {
   "cell_type": "code",
   "execution_count": 21,
   "id": "e9cb20b1",
   "metadata": {},
   "outputs": [
    {
     "data": {
      "text/html": [
       "<div>\n",
       "<style scoped>\n",
       "    .dataframe tbody tr th:only-of-type {\n",
       "        vertical-align: middle;\n",
       "    }\n",
       "\n",
       "    .dataframe tbody tr th {\n",
       "        vertical-align: top;\n",
       "    }\n",
       "\n",
       "    .dataframe thead th {\n",
       "        text-align: right;\n",
       "    }\n",
       "</style>\n",
       "<table border=\"1\" class=\"dataframe\">\n",
       "  <thead>\n",
       "    <tr style=\"text-align: right;\">\n",
       "      <th></th>\n",
       "      <th>Jumlah Restoran</th>\n",
       "      <th>Avg ratings</th>\n",
       "      <th>Total ratings</th>\n",
       "      <th>Skor</th>\n",
       "    </tr>\n",
       "    <tr>\n",
       "      <th>Food type</th>\n",
       "      <th></th>\n",
       "      <th></th>\n",
       "      <th></th>\n",
       "      <th></th>\n",
       "    </tr>\n",
       "  </thead>\n",
       "  <tbody>\n",
       "    <tr>\n",
       "      <th>Kebabs</th>\n",
       "      <td>250</td>\n",
       "      <td>3.804000</td>\n",
       "      <td>117670</td>\n",
       "      <td>1790.466720</td>\n",
       "    </tr>\n",
       "    <tr>\n",
       "      <th>Tandoor</th>\n",
       "      <td>468</td>\n",
       "      <td>3.693376</td>\n",
       "      <td>162010</td>\n",
       "      <td>1278.555250</td>\n",
       "    </tr>\n",
       "    <tr>\n",
       "      <th>Mughlai</th>\n",
       "      <td>469</td>\n",
       "      <td>3.776972</td>\n",
       "      <td>150370</td>\n",
       "      <td>1210.966571</td>\n",
       "    </tr>\n",
       "    <tr>\n",
       "      <th>Andhra</th>\n",
       "      <td>69</td>\n",
       "      <td>3.988406</td>\n",
       "      <td>18550</td>\n",
       "      <td>1072.245327</td>\n",
       "    </tr>\n",
       "    <tr>\n",
       "      <th>Grill</th>\n",
       "      <td>51</td>\n",
       "      <td>3.829412</td>\n",
       "      <td>14070</td>\n",
       "      <td>1056.467128</td>\n",
       "    </tr>\n",
       "  </tbody>\n",
       "</table>\n",
       "</div>"
      ],
      "text/plain": [
       "           Jumlah Restoran  Avg ratings  Total ratings         Skor\n",
       "Food type                                                          \n",
       "Kebabs                 250     3.804000         117670  1790.466720\n",
       "Tandoor                468     3.693376         162010  1278.555250\n",
       "Mughlai                469     3.776972         150370  1210.966571\n",
       "Andhra                  69     3.988406          18550  1072.245327\n",
       "Grill                   51     3.829412          14070  1056.467128"
      ]
     },
     "metadata": {},
     "output_type": "display_data"
    },
    {
     "data": {
      "image/png": "[encoded data removed]",
      "text/plain": [
       "<Figure size 1000x600 with 1 Axes>"
      ]
     },
     "metadata": {},
     "output_type": "display_data"
    }
   ],
   "source": [
    "# mengambil data yang dibutuhkan\n",
    "foodtype_stats = df_swiggy.groupby('Food type').agg({\n",
    "    'ID': 'count',                    # jumlah restoran\n",
    "    'Avg ratings': 'mean',            # rata-rata rating\n",
    "    'Total ratings': 'sum'            # total rating (indikasi banyaknya transaksi)\n",
    "}).rename(columns={'ID': 'Jumlah Restoran'})\n",
    "\n",
    "# rumus skor gabungan \n",
    "foodtype_stats['Skor'] = (foodtype_stats['Avg ratings'] * foodtype_stats['Total ratings']) / foodtype_stats['Jumlah Restoran']\n",
    "\n",
    "top_5_skor = foodtype_stats.sort_values(by='Skor', ascending=False).head(5)\n",
    "display(top_5_skor)\n",
    "\n",
    "# Plot\n",
    "plt.figure(figsize=(10, 6))\n",
    "ax = sns.barplot(\n",
    "    data=top_5_skor,\n",
    "    x='Skor',\n",
    "    hue='Skor',\n",
    "    y=top_5_skor.index, \n",
    "    palette='crest',  \n",
    "    legend=False\n",
    ")\n",
    "# Tambahkan nilai rata-rata di dalam batang\n",
    "for container in ax.containers:\n",
    "    ax.bar_label(container, fmt='%.2f', label_type='center')\n",
    "\n",
    "plt.title('Top 5 Tipe Makanan berdasarkan skor')\n",
    "plt.xlabel('Skor')\n",
    "plt.ylabel('Food Type')\n",
    "plt.tight_layout()\n",
    "plt.show()\n",
    "\n"
   ]
  },
  {
   "cell_type": "markdown",
   "id": "7afa06f4",
   "metadata": {},
   "source": [
    "dengan melakukan analisa ulang menggunakan skoring maka didapat kan bahwa kebab merupakan produk paling populer di aplikasi swiggy dengan perolehan skor **1790.47**, memiliki selisih yang jauh terhadap yang lainya, walaupun secara skor kurang baik karena memiliki poin **3.8** akan tetapi peminat kebab sangat banyak sekali"
   ]
  },
  {
   "cell_type": "markdown",
   "id": "8d96e0df",
   "metadata": {},
   "source": [
    "## 2. Menghitung Rata-Rata Harga Tipe Makanan Kebab Dari Setiap Kota"
   ]
  },
  {
   "cell_type": "markdown",
   "id": "96dd1813",
   "metadata": {},
   "source": [
    "dari hasil analisa pertama kebab menjadi tipe makanan terpopuler di aplikasi swiggy"
   ]
  },
  {
   "cell_type": "code",
   "execution_count": 22,
   "id": "968ff040",
   "metadata": {},
   "outputs": [
    {
     "data": {
      "image/png": "[encoded data removed]",
      "text/plain": [
       "<Figure size 1000x600 with 1 Axes>"
      ]
     },
     "metadata": {},
     "output_type": "display_data"
    }
   ],
   "source": [
    "# mengambil data yang diperlukan\n",
    "mean_harga = (\n",
    "    df_swiggy[df_swiggy['Food type'] == 'Kebabs']\n",
    "    .groupby(['City', 'Food type'])\n",
    "    .agg({\n",
    "        'Price': 'mean',\n",
    "        'ID': 'count'  # atau kolom yang mewakili restoran unik\n",
    "    })\n",
    "    .rename(columns={\n",
    "        'Price': 'Rata-Rata Harga',\n",
    "        'ID': 'Restaurant Count'\n",
    "    })\n",
    "    .sort_values(by='Rata-Rata Harga', ascending=False)\n",
    "    .reset_index()\n",
    ")\n",
    "\n",
    "# Hitung rata-rata dari seluruh harga\n",
    "mean_price = mean_harga['Rata-Rata Harga'].mean()\n",
    "\n",
    "# Urutkan data dari harga kecil ke besar\n",
    "data_sorted = mean_harga.sort_values(by='Rata-Rata Harga', ascending=False)\n",
    "\n",
    "# Buat plot ukuran tertentu\n",
    "plt.figure(figsize=(10, 6))\n",
    "\n",
    "# Buat horizontal bar chart dengan seaborn\n",
    "barplot = sns.barplot(\n",
    "    data=data_sorted,\n",
    "    x='Rata-Rata Harga',\n",
    "    y='City',\n",
    "    palette='magma_r',\n",
    "    hue='City',\n",
    "    legend=False\n",
    ")\n",
    "\n",
    "# Tambahkan label angka di ujung tiap bar\n",
    "for index, row in data_sorted.iterrows():\n",
    "    plt.text(\n",
    "        row['Rata-Rata Harga'] + 0.1,  # X: geser sedikit ke kanan dari ujung bar\n",
    "        index,  # Y: posisi berdasarkan index bar ke berapa\n",
    "        f'{row[\"Rata-Rata Harga\"]:.2f}',  # Format angka\n",
    "        va='center'\n",
    "    )\n",
    "\n",
    "# Tambahkan garis vertikal rata-rata\n",
    "plt.axvline(\n",
    "    x=mean_price,\n",
    "    color='blue',\n",
    "    linestyle='--',\n",
    "    label=f'Rata-rata: {mean_price:.2f}'\n",
    ")\n",
    "\n",
    "# Judul dan label\n",
    "plt.title('Rata-Rata Harga Kebab per Kota')\n",
    "plt.xlabel('Rata-Rata Harga')\n",
    "plt.ylabel('Kota')\n",
    "\n",
    "# Tambahkan legend\n",
    "plt.legend(loc='upper left')\n",
    "\n",
    "# Rapikan layout dan tampilkan\n",
    "plt.tight_layout()\n",
    "plt.show()"
   ]
  },
  {
   "cell_type": "markdown",
   "id": "1a93b14e",
   "metadata": {},
   "source": [
    "Dalam visualisasi yang menampilkan rata-rata harga kebab per kota, kita dapat melihat adanya variasi harga yang cukup mencolok antara kota satu dengan yang lainnya. Grafik ini secara eksplisit menunjukkan bahwa Ahmedabad berada di posisi puncak sebagai kota dengan rata-rata harga kebab tertinggi di antara seluruh kota yang dianalisis, dengan nilai yang jelas melebihi garis rata-rata keseluruhan yaitu **448.93**. Hal ini mengindikasikan bahwa konsumen di Ahmedabad cenderung membayar lebih mahal untuk seporsi kebab, yang bisa mencerminkan beberapa kemungkinan, seperti preferensi terhadap kualitas premium, harga pasar yang memang lebih tinggi, atau bahkan tingginya daya beli konsumen di kota tersebut.\n",
    "\n",
    "Dari warna batang dan gradasi yang digunakan yang semakin terang menandakan harga lebih tinggi kita dapat pula menyimpulkan bahwa kota dengan harga premium lebih menonjol secara visual. Visualisasi ini tidak hanya memberikan gambaran angka semata, tetapi juga memperlihatkan konteks harga dalam lanskap geografis dan ekonomi yang lebih luas."
   ]
  },
  {
   "cell_type": "markdown",
   "id": "c6c00aac",
   "metadata": {},
   "source": [
    "## 3. Top 5 kota dengan rating tertinggi"
   ]
  },
  {
   "cell_type": "code",
   "execution_count": 23,
   "id": "0cffce1a",
   "metadata": {},
   "outputs": [
    {
     "data": {
      "image/png": "[encoded data removed]",
      "text/plain": [
       "<Figure size 800x600 with 1 Axes>"
      ]
     },
     "metadata": {},
     "output_type": "display_data"
    }
   ],
   "source": [
    "top_5_rating_city = df_swiggy.groupby('City')['Avg ratings'].mean().sort_values(ascending=False).head(5).reset_index()\n",
    "\n",
    "plt.figure(figsize=(8, 6))\n",
    "ax = sns.barplot(data=top_5_rating_city, y='City', x='Avg ratings', hue='City', palette='vlag', legend=False)\n",
    "\n",
    "# Tambahkan nilai rata-rata di dalam batang\n",
    "for container in ax.containers:\n",
    "    ax.bar_label(container, fmt='%.2f', label_type='center')\n",
    "\n",
    "plt.title('Top 5 Kota dengan Rata-Rata Rating Tertinggi')\n",
    "plt.xlabel('Rata-Rata Rating')\n",
    "plt.ylabel('Nama Kota')\n",
    "plt.tight_layout()\n",
    "plt.show()"
   ]
  },
  {
   "cell_type": "markdown",
   "id": "606b6d68",
   "metadata": {},
   "source": [
    "sama halnya dengan mencari tipe makanan favorit kita harus mencari jumlah restoranya terlebih dahulu sebelum menarik kesimpulan. meskipun bangalore memiliki rata-rata rating tertinggi belum bisa di pastikan hanya dengan itu saja, kita harus menganalisanya lebih dalam lagi agar analisa yang lebih objektif\n",
    "\n"
   ]
  },
  {
   "cell_type": "code",
   "execution_count": 24,
   "id": "7c009887",
   "metadata": {},
   "outputs": [
    {
     "data": {
      "image/png": "[encoded data removed]",
      "text/plain": [
       "<Figure size 1000x600 with 2 Axes>"
      ]
     },
     "metadata": {},
     "output_type": "display_data"
    }
   ],
   "source": [
    "# mengambil data yang diperlukan\n",
    "top_5_rating_city = (\n",
    "    df_swiggy.groupby('City')\n",
    "    .agg({'Avg ratings': 'mean', 'ID': 'count'})\n",
    "    .rename(columns={'Avg ratings': 'Mean Rating', 'ID': 'Jumlah Restoran'})\n",
    "    .sort_values(by='Mean Rating', ascending=False)\n",
    "    .head(5)\n",
    "    .reset_index()\n",
    ")\n",
    "\n",
    "\n",
    "# Membuat chart\n",
    "fig, ax1 = plt.subplots(figsize=(10, 6))\n",
    "\n",
    "# Bar chart - Count\n",
    "bars = ax1.bar(\n",
    "    top_5_rating_city['City'],\n",
    "    top_5_rating_city['Jumlah Restoran'],\n",
    "    color='lightblue',\n",
    "    label='Jumlah Restoran'\n",
    ")\n",
    "\n",
    "# Menambahkan label di atas bar\n",
    "for bar in bars:\n",
    "    height = bar.get_height()\n",
    "    ax1.text(\n",
    "        bar.get_x() + bar.get_width() / 2,\n",
    "        height + 5,  # Jarak di atas bar\n",
    "        f'{int(height)}',\n",
    "        ha='center',\n",
    "        va='bottom',\n",
    "        fontsize=10,\n",
    "        color='blue'\n",
    "    )\n",
    "\n",
    "# Line chart - Rata-Rata Rating\n",
    "ax2 = ax1.twinx()\n",
    "ax2.plot(\n",
    "    top_5_rating_city['City'],\n",
    "    top_5_rating_city['Mean Rating'],\n",
    "    color='green',\n",
    "    marker='o',\n",
    "    label='Rata-Rata Rating'\n",
    ")\n",
    "\n",
    "# Label dan tampilan\n",
    "ax1.set_xlabel('City')\n",
    "ax1.set_ylabel('Jumlah Restoran', color='blue')\n",
    "ax2.set_ylabel('Rata-Rata Rating', color='green')\n",
    "plt.title('Top 5 CIty : Jumlah Restoran vs Rata-Rata Rating')\n",
    "plt.tight_layout()\n",
    "plt.show()\n"
   ]
  },
  {
   "cell_type": "markdown",
   "id": "7fbddf35",
   "metadata": {},
   "source": [
    "masih ada ketidakseimbangan antara rating dan juga jumlah rating walau hanya berbeda sedikit akan lebih akurat lagi jadi kita menggunakan skoring untuk menganalisa kota agar lebih objektif"
   ]
  },
  {
   "cell_type": "code",
   "execution_count": 25,
   "id": "1c2c9afe",
   "metadata": {},
   "outputs": [
    {
     "data": {
      "text/html": [
       "<div>\n",
       "<style scoped>\n",
       "    .dataframe tbody tr th:only-of-type {\n",
       "        vertical-align: middle;\n",
       "    }\n",
       "\n",
       "    .dataframe tbody tr th {\n",
       "        vertical-align: top;\n",
       "    }\n",
       "\n",
       "    .dataframe thead th {\n",
       "        text-align: right;\n",
       "    }\n",
       "</style>\n",
       "<table border=\"1\" class=\"dataframe\">\n",
       "  <thead>\n",
       "    <tr style=\"text-align: right;\">\n",
       "      <th></th>\n",
       "      <th>Jumlah Restoran</th>\n",
       "      <th>Avg ratings</th>\n",
       "      <th>Total ratings</th>\n",
       "      <th>Skor</th>\n",
       "    </tr>\n",
       "    <tr>\n",
       "      <th>City</th>\n",
       "      <th></th>\n",
       "      <th></th>\n",
       "      <th></th>\n",
       "      <th></th>\n",
       "    </tr>\n",
       "  </thead>\n",
       "  <tbody>\n",
       "    <tr>\n",
       "      <th>Hyderabad</th>\n",
       "      <td>2786</td>\n",
       "      <td>3.728930</td>\n",
       "      <td>1179110</td>\n",
       "      <td>1578.183447</td>\n",
       "    </tr>\n",
       "    <tr>\n",
       "      <th>Chennai</th>\n",
       "      <td>3004</td>\n",
       "      <td>3.809021</td>\n",
       "      <td>603580</td>\n",
       "      <td>765.329254</td>\n",
       "    </tr>\n",
       "    <tr>\n",
       "      <th>Kolkata</th>\n",
       "      <td>3736</td>\n",
       "      <td>3.761831</td>\n",
       "      <td>657540</td>\n",
       "      <td>662.086255</td>\n",
       "    </tr>\n",
       "    <tr>\n",
       "      <th>Bangalore</th>\n",
       "      <td>3088</td>\n",
       "      <td>3.821373</td>\n",
       "      <td>524950</td>\n",
       "      <td>649.621045</td>\n",
       "    </tr>\n",
       "    <tr>\n",
       "      <th>Surat</th>\n",
       "      <td>1447</td>\n",
       "      <td>3.683621</td>\n",
       "      <td>224390</td>\n",
       "      <td>571.228597</td>\n",
       "    </tr>\n",
       "  </tbody>\n",
       "</table>\n",
       "</div>"
      ],
      "text/plain": [
       "           Jumlah Restoran  Avg ratings  Total ratings         Skor\n",
       "City                                                               \n",
       "Hyderabad             2786     3.728930        1179110  1578.183447\n",
       "Chennai               3004     3.809021         603580   765.329254\n",
       "Kolkata               3736     3.761831         657540   662.086255\n",
       "Bangalore             3088     3.821373         524950   649.621045\n",
       "Surat                 1447     3.683621         224390   571.228597"
      ]
     },
     "metadata": {},
     "output_type": "display_data"
    },
    {
     "data": {
      "application/vnd.plotly.v1+json": {
       "config": {
        "plotlyServerURL": "https://plot.ly"
       },
       "data": [
        {
         "hovertemplate": "Kota=%{x}<br>Nilai Skor=%{marker.color}<extra></extra>",
         "legendgroup": "",
         "marker": {
          "color": {
           "bdata": "oWqX2buomED/RfVPouqHQNRjRaawsIRA4d5S5vdMhEBH18wq1NmBQA==",
           "dtype": "f8"
          },
          "coloraxis": "coloraxis",
          "pattern": {
           "shape": ""
          }
         },
         "name": "",
         "orientation": "v",
         "showlegend": false,
         "textposition": "outside",
         "texttemplate": "%{y:.2f}",
         "type": "bar",
         "x": [
          "Hyderabad",
          "Chennai",
          "Kolkata",
          "Bangalore",
          "Surat"
         ],
         "xaxis": "x",
         "y": {
          "bdata": "oWqX2buomED/RfVPouqHQNRjRaawsIRA4d5S5vdMhEBH18wq1NmBQA==",
          "dtype": "f8"
         },
         "yaxis": "y"
        }
       ],
       "layout": {
        "barmode": "relative",
        "coloraxis": {
         "colorbar": {
          "title": {
           "text": "Nilai Skor"
          }
         },
         "colorscale": [
          [
           0,
           "#440154"
          ],
          [
           0.1111111111111111,
           "#482878"
          ],
          [
           0.2222222222222222,
           "#3e4989"
          ],
          [
           0.3333333333333333,
           "#31688e"
          ],
          [
           0.4444444444444444,
           "#26828e"
          ],
          [
           0.5555555555555556,
           "#1f9e89"
          ],
          [
           0.6666666666666666,
           "#35b779"
          ],
          [
           0.7777777777777778,
           "#6ece58"
          ],
          [
           0.8888888888888888,
           "#b5de2b"
          ],
          [
           1,
           "#fde725"
          ]
         ]
        },
        "height": 500,
        "legend": {
         "tracegroupgap": 0
        },
        "plot_bgcolor": "white",
        "template": {
         "data": {
          "bar": [
           {
            "error_x": {
             "color": "#2a3f5f"
            },
            "error_y": {
             "color": "#2a3f5f"
            },
            "marker": {
             "line": {
              "color": "#E5ECF6",
              "width": 0.5
             },
             "pattern": {
              "fillmode": "overlay",
              "size": 10,
              "solidity": 0.2
             }
            },
            "type": "bar"
           }
          ],
          "barpolar": [
           {
            "marker": {
             "line": {
              "color": "#E5ECF6",
              "width": 0.5
             },
             "pattern": {
              "fillmode": "overlay",
              "size": 10,
              "solidity": 0.2
             }
            },
            "type": "barpolar"
           }
          ],
          "carpet": [
           {
            "aaxis": {
             "endlinecolor": "#2a3f5f",
             "gridcolor": "white",
             "linecolor": "white",
             "minorgridcolor": "white",
             "startlinecolor": "#2a3f5f"
            },
            "baxis": {
             "endlinecolor": "#2a3f5f",
             "gridcolor": "white",
             "linecolor": "white",
             "minorgridcolor": "white",
             "startlinecolor": "#2a3f5f"
            },
            "type": "carpet"
           }
          ],
          "choropleth": [
           {
            "colorbar": {
             "outlinewidth": 0,
             "ticks": ""
            },
            "type": "choropleth"
           }
          ],
          "contour": [
           {
            "colorbar": {
             "outlinewidth": 0,
             "ticks": ""
            },
            "colorscale": [
             [
              0,
              "#0d0887"
             ],
             [
              0.1111111111111111,
              "#46039f"
             ],
             [
              0.2222222222222222,
              "#7201a8"
             ],
             [
              0.3333333333333333,
              "#9c179e"
             ],
             [
              0.4444444444444444,
              "#bd3786"
             ],
             [
              0.5555555555555556,
              "#d8576b"
             ],
             [
              0.6666666666666666,
              "#ed7953"
             ],
             [
              0.7777777777777778,
              "#fb9f3a"
             ],
             [
              0.8888888888888888,
              "#fdca26"
             ],
             [
              1,
              "#f0f921"
             ]
            ],
            "type": "contour"
           }
          ],
          "contourcarpet": [
           {
            "colorbar": {
             "outlinewidth": 0,
             "ticks": ""
            },
            "type": "contourcarpet"
           }
          ],
          "heatmap": [
           {
            "colorbar": {
             "outlinewidth": 0,
             "ticks": ""
            },
            "colorscale": [
             [
              0,
              "#0d0887"
             ],
             [
              0.1111111111111111,
              "#46039f"
             ],
             [
              0.2222222222222222,
              "#7201a8"
             ],
             [
              0.3333333333333333,
              "#9c179e"
             ],
             [
              0.4444444444444444,
              "#bd3786"
             ],
             [
              0.5555555555555556,
              "#d8576b"
             ],
             [
              0.6666666666666666,
              "#ed7953"
             ],
             [
              0.7777777777777778,
              "#fb9f3a"
             ],
             [
              0.8888888888888888,
              "#fdca26"
             ],
             [
              1,
              "#f0f921"
             ]
            ],
            "type": "heatmap"
           }
          ],
          "histogram": [
           {
            "marker": {
             "pattern": {
              "fillmode": "overlay",
              "size": 10,
              "solidity": 0.2
             }
            },
            "type": "histogram"
           }
          ],
          "histogram2d": [
           {
            "colorbar": {
             "outlinewidth": 0,
             "ticks": ""
            },
            "colorscale": [
             [
              0,
              "#0d0887"
             ],
             [
              0.1111111111111111,
              "#46039f"
             ],
             [
              0.2222222222222222,
              "#7201a8"
             ],
             [
              0.3333333333333333,
              "#9c179e"
             ],
             [
              0.4444444444444444,
              "#bd3786"
             ],
             [
              0.5555555555555556,
              "#d8576b"
             ],
             [
              0.6666666666666666,
              "#ed7953"
             ],
             [
              0.7777777777777778,
              "#fb9f3a"
             ],
             [
              0.8888888888888888,
              "#fdca26"
             ],
             [
              1,
              "#f0f921"
             ]
            ],
            "type": "histogram2d"
           }
          ],
          "histogram2dcontour": [
           {
            "colorbar": {
             "outlinewidth": 0,
             "ticks": ""
            },
            "colorscale": [
             [
              0,
              "#0d0887"
             ],
             [
              0.1111111111111111,
              "#46039f"
             ],
             [
              0.2222222222222222,
              "#7201a8"
             ],
             [
              0.3333333333333333,
              "#9c179e"
             ],
             [
              0.4444444444444444,
              "#bd3786"
             ],
             [
              0.5555555555555556,
              "#d8576b"
             ],
             [
              0.6666666666666666,
              "#ed7953"
             ],
             [
              0.7777777777777778,
              "#fb9f3a"
             ],
             [
              0.8888888888888888,
              "#fdca26"
             ],
             [
              1,
              "#f0f921"
             ]
            ],
            "type": "histogram2dcontour"
           }
          ],
          "mesh3d": [
           {
            "colorbar": {
             "outlinewidth": 0,
             "ticks": ""
            },
            "type": "mesh3d"
           }
          ],
          "parcoords": [
           {
            "line": {
             "colorbar": {
              "outlinewidth": 0,
              "ticks": ""
             }
            },
            "type": "parcoords"
           }
          ],
          "pie": [
           {
            "automargin": true,
            "type": "pie"
           }
          ],
          "scatter": [
           {
            "fillpattern": {
             "fillmode": "overlay",
             "size": 10,
             "solidity": 0.2
            },
            "type": "scatter"
           }
          ],
          "scatter3d": [
           {
            "line": {
             "colorbar": {
              "outlinewidth": 0,
              "ticks": ""
             }
            },
            "marker": {
             "colorbar": {
              "outlinewidth": 0,
              "ticks": ""
             }
            },
            "type": "scatter3d"
           }
          ],
          "scattercarpet": [
           {
            "marker": {
             "colorbar": {
              "outlinewidth": 0,
              "ticks": ""
             }
            },
            "type": "scattercarpet"
           }
          ],
          "scattergeo": [
           {
            "marker": {
             "colorbar": {
              "outlinewidth": 0,
              "ticks": ""
             }
            },
            "type": "scattergeo"
           }
          ],
          "scattergl": [
           {
            "marker": {
             "colorbar": {
              "outlinewidth": 0,
              "ticks": ""
             }
            },
            "type": "scattergl"
           }
          ],
          "scattermap": [
           {
            "marker": {
             "colorbar": {
              "outlinewidth": 0,
              "ticks": ""
             }
            },
            "type": "scattermap"
           }
          ],
          "scattermapbox": [
           {
            "marker": {
             "colorbar": {
              "outlinewidth": 0,
              "ticks": ""
             }
            },
            "type": "scattermapbox"
           }
          ],
          "scatterpolar": [
           {
            "marker": {
             "colorbar": {
              "outlinewidth": 0,
              "ticks": ""
             }
            },
            "type": "scatterpolar"
           }
          ],
          "scatterpolargl": [
           {
            "marker": {
             "colorbar": {
              "outlinewidth": 0,
              "ticks": ""
             }
            },
            "type": "scatterpolargl"
           }
          ],
          "scatterternary": [
           {
            "marker": {
             "colorbar": {
              "outlinewidth": 0,
              "ticks": ""
             }
            },
            "type": "scatterternary"
           }
          ],
          "surface": [
           {
            "colorbar": {
             "outlinewidth": 0,
             "ticks": ""
            },
            "colorscale": [
             [
              0,
              "#0d0887"
             ],
             [
              0.1111111111111111,
              "#46039f"
             ],
             [
              0.2222222222222222,
              "#7201a8"
             ],
             [
              0.3333333333333333,
              "#9c179e"
             ],
             [
              0.4444444444444444,
              "#bd3786"
             ],
             [
              0.5555555555555556,
              "#d8576b"
             ],
             [
              0.6666666666666666,
              "#ed7953"
             ],
             [
              0.7777777777777778,
              "#fb9f3a"
             ],
             [
              0.8888888888888888,
              "#fdca26"
             ],
             [
              1,
              "#f0f921"
             ]
            ],
            "type": "surface"
           }
          ],
          "table": [
           {
            "cells": {
             "fill": {
              "color": "#EBF0F8"
             },
             "line": {
              "color": "white"
             }
            },
            "header": {
             "fill": {
              "color": "#C8D4E3"
             },
             "line": {
              "color": "white"
             }
            },
            "type": "table"
           }
          ]
         },
         "layout": {
          "annotationdefaults": {
           "arrowcolor": "#2a3f5f",
           "arrowhead": 0,
           "arrowwidth": 1
          },
          "autotypenumbers": "strict",
          "coloraxis": {
           "colorbar": {
            "outlinewidth": 0,
            "ticks": ""
           }
          },
          "colorscale": {
           "diverging": [
            [
             0,
             "#8e0152"
            ],
            [
             0.1,
             "#c51b7d"
            ],
            [
             0.2,
             "#de77ae"
            ],
            [
             0.3,
             "#f1b6da"
            ],
            [
             0.4,
             "#fde0ef"
            ],
            [
             0.5,
             "#f7f7f7"
            ],
            [
             0.6,
             "#e6f5d0"
            ],
            [
             0.7,
             "#b8e186"
            ],
            [
             0.8,
             "#7fbc41"
            ],
            [
             0.9,
             "#4d9221"
            ],
            [
             1,
             "#276419"
            ]
           ],
           "sequential": [
            [
             0,
             "#0d0887"
            ],
            [
             0.1111111111111111,
             "#46039f"
            ],
            [
             0.2222222222222222,
             "#7201a8"
            ],
            [
             0.3333333333333333,
             "#9c179e"
            ],
            [
             0.4444444444444444,
             "#bd3786"
            ],
            [
             0.5555555555555556,
             "#d8576b"
            ],
            [
             0.6666666666666666,
             "#ed7953"
            ],
            [
             0.7777777777777778,
             "#fb9f3a"
            ],
            [
             0.8888888888888888,
             "#fdca26"
            ],
            [
             1,
             "#f0f921"
            ]
           ],
           "sequentialminus": [
            [
             0,
             "#0d0887"
            ],
            [
             0.1111111111111111,
             "#46039f"
            ],
            [
             0.2222222222222222,
             "#7201a8"
            ],
            [
             0.3333333333333333,
             "#9c179e"
            ],
            [
             0.4444444444444444,
             "#bd3786"
            ],
            [
             0.5555555555555556,
             "#d8576b"
            ],
            [
             0.6666666666666666,
             "#ed7953"
            ],
            [
             0.7777777777777778,
             "#fb9f3a"
            ],
            [
             0.8888888888888888,
             "#fdca26"
            ],
            [
             1,
             "#f0f921"
            ]
           ]
          },
          "colorway": [
           "#636efa",
           "#EF553B",
           "#00cc96",
           "#ab63fa",
           "#FFA15A",
           "#19d3f3",
           "#FF6692",
           "#B6E880",
           "#FF97FF",
           "#FECB52"
          ],
          "font": {
           "color": "#2a3f5f"
          },
          "geo": {
           "bgcolor": "white",
           "lakecolor": "white",
           "landcolor": "#E5ECF6",
           "showlakes": true,
           "showland": true,
           "subunitcolor": "white"
          },
          "hoverlabel": {
           "align": "left"
          },
          "hovermode": "closest",
          "mapbox": {
           "style": "light"
          },
          "paper_bgcolor": "white",
          "plot_bgcolor": "#E5ECF6",
          "polar": {
           "angularaxis": {
            "gridcolor": "white",
            "linecolor": "white",
            "ticks": ""
           },
           "bgcolor": "#E5ECF6",
           "radialaxis": {
            "gridcolor": "white",
            "linecolor": "white",
            "ticks": ""
           }
          },
          "scene": {
           "xaxis": {
            "backgroundcolor": "#E5ECF6",
            "gridcolor": "white",
            "gridwidth": 2,
            "linecolor": "white",
            "showbackground": true,
            "ticks": "",
            "zerolinecolor": "white"
           },
           "yaxis": {
            "backgroundcolor": "#E5ECF6",
            "gridcolor": "white",
            "gridwidth": 2,
            "linecolor": "white",
            "showbackground": true,
            "ticks": "",
            "zerolinecolor": "white"
           },
           "zaxis": {
            "backgroundcolor": "#E5ECF6",
            "gridcolor": "white",
            "gridwidth": 2,
            "linecolor": "white",
            "showbackground": true,
            "ticks": "",
            "zerolinecolor": "white"
           }
          },
          "shapedefaults": {
           "line": {
            "color": "#2a3f5f"
           }
          },
          "ternary": {
           "aaxis": {
            "gridcolor": "white",
            "linecolor": "white",
            "ticks": ""
           },
           "baxis": {
            "gridcolor": "white",
            "linecolor": "white",
            "ticks": ""
           },
           "bgcolor": "#E5ECF6",
           "caxis": {
            "gridcolor": "white",
            "linecolor": "white",
            "ticks": ""
           }
          },
          "title": {
           "x": 0.05
          },
          "xaxis": {
           "automargin": true,
           "gridcolor": "white",
           "linecolor": "white",
           "ticks": "",
           "title": {
            "standoff": 15
           },
           "zerolinecolor": "white",
           "zerolinewidth": 2
          },
          "yaxis": {
           "automargin": true,
           "gridcolor": "white",
           "linecolor": "white",
           "ticks": "",
           "title": {
            "standoff": 15
           },
           "zerolinecolor": "white",
           "zerolinewidth": 2
          }
         }
        },
        "title": {
         "font": {
          "size": 18
         },
         "text": "Top 5 Kota Berdasarkan Skor Gabungan"
        },
        "xaxis": {
         "anchor": "y",
         "domain": [
          0,
          1
         ],
         "tickmode": "linear",
         "title": {
          "text": "Kota"
         }
        },
        "yaxis": {
         "anchor": "x",
         "domain": [
          0,
          1
         ],
         "gridcolor": "lightgrey",
         "title": {
          "text": "Skor"
         }
        }
       }
      }
     },
     "metadata": {},
     "output_type": "display_data"
    },
    {
     "data": {
      "image/png": "[encoded data removed]",
      "text/plain": [
       "<Figure size 1800x1000 with 1 Axes>"
      ]
     },
     "metadata": {},
     "output_type": "display_data"
    }
   ],
   "source": [
    "# mengambil data yang diperlukan\n",
    "city_stats = df_swiggy.groupby('City').agg({\n",
    "    'ID': 'count',                     # jumlah restoran\n",
    "    'Avg ratings': 'mean',            # rata-rata rating\n",
    "    'Total ratings': 'sum'            # total rating (indikasi banyaknya transaksi)\n",
    "}).rename(columns={'ID': 'Jumlah Restoran'})\n",
    "\n",
    "# membuat skoring gabungan\n",
    "city_stats['Skor'] = (city_stats['Avg ratings'] * city_stats['Total ratings']) / city_stats['Jumlah Restoran']\n",
    "\n",
    "city_top_5_skor = city_stats.sort_values(by='Skor', ascending=False).head(5)\n",
    "display(city_top_5_skor)\n",
    "\n",
    "fig = px.bar(\n",
    "    city_top_5_skor.sort_values(by='Skor', ascending=False).reset_index(),\n",
    "    x='City',\n",
    "    y='Skor',\n",
    "    color='Skor',\n",
    "    color_continuous_scale='viridis',\n",
    "    title='Top 5 Kota Berdasarkan Skor Gabungan',\n",
    "    labels={'Skor': 'Nilai Skor', 'City': 'Kota'}\n",
    ")\n",
    "\n",
    "fig.update_traces(\n",
    "    texttemplate='%{y:.2f}',\n",
    "    textposition='outside'\n",
    ")\n",
    "\n",
    "fig.update_layout(\n",
    "    xaxis_title='Kota',\n",
    "    yaxis_title='Skor',\n",
    "    plot_bgcolor='white',\n",
    "    xaxis=dict(tickmode='linear'),\n",
    "    yaxis=dict(gridcolor='lightgrey'),\n",
    "    title_font_size=18,\n",
    "    height=500\n",
    ")\n",
    "\n",
    "fig.show()\n",
    "\n",
    "img = mpimg.imread('Top5_Kota_By_Skor.png')\n",
    "plt.figure(figsize=(18, 10))\n",
    "plt.imshow(img)\n",
    "plt.axis('off')  # Hide axes\n",
    "plt.show()"
   ]
  },
  {
   "cell_type": "markdown",
   "id": "baba15a5",
   "metadata": {},
   "source": [
    "Berdasarkan perhitungan skor gabungan yang mengombinasikan tiga indikator utama yaitu jumlah restoran, rata-rata rating, dan total jumlah rating terlihat dengan sangat jelas bahwa Hyderabad secara signifikan lebih baik dibandingkan kota-kota lainnya. Kota ini mencatat nilai skor tertinggi sebesar **1578.18**, yang hampir dua kali lipat dari kota peringkat kedua, Chennai, yang hanya mencatat skor sebesar **765.33**.\n",
    "\n",
    "Dominasi kota Hyderabad dalam chart ini mengindikasikan bahwa kota tersebut bukan hanya memiliki restoran dengan pelanggan yang banyak, akan tetapi juga berhasil menjaga kualitas layanan atau produk mereka, sebagaimana tercermin dari rata-rata rating yang cukup baik. Dengan kata lain, Hyderabad adalah kota yang sangat direkomendasikan karena ideal secara kuantitas dan kualitas berdasarkan aplikasi swiggy, khususnya untuk layanan seperti Swiggy."
   ]
  },
  {
   "cell_type": "markdown",
   "id": "9e7825ed",
   "metadata": {},
   "source": [
    "## 4. bagaimana sebaran mitra swiggy berdasarkan areanya dari kota yang paling tinggi ratingnya"
   ]
  },
  {
   "cell_type": "markdown",
   "id": "0dc5ecbe",
   "metadata": {},
   "source": [
    "pada analisa tahap ini kita akan menentukan 5 area yang paling banyak menggunakan aplikasi swiggy"
   ]
  },
  {
   "cell_type": "code",
   "execution_count": 26,
   "id": "f7a07471",
   "metadata": {},
   "outputs": [
    {
     "data": {
      "image/png": "[encoded data removed]",
      "text/plain": [
       "<Figure size 800x800 with 1 Axes>"
      ]
     },
     "metadata": {},
     "output_type": "display_data"
    }
   ],
   "source": [
    "area_counts = df_swiggy[df_swiggy['City'] == 'Hyderabad'].groupby('Area')['ID'].count().reset_index(name='Jumlah Mitra')\n",
    "top5_areas = area_counts.sort_values(by='Jumlah Mitra',ascending=False).head(5)\n",
    "\n",
    "# Ambil top 5 area berdasarkan jumlah mitra\n",
    "top5_areas = area_counts.sort_values(by='Jumlah Mitra', ascending=False).head(5)\n",
    "\n",
    "# Data\n",
    "labels = top5_areas['Area']\n",
    "sizes = top5_areas['Jumlah Mitra']\n",
    "colors = sns.color_palette('Set2', n_colors=5)  # Lebih cerah & beda-beda warna\n",
    "\n",
    "# Plot pie chart\n",
    "plt.figure(figsize=(8, 8))\n",
    "wedges, texts, autotexts = plt.pie(\n",
    "    sizes,\n",
    "    autopct='%1.1f%%',\n",
    "    startangle=140,\n",
    "    colors=colors,\n",
    "    textprops={'fontsize': 11}\n",
    ")\n",
    "\n",
    "# Tambahkan legend di samping\n",
    "plt.legend(\n",
    "    wedges,\n",
    "    labels,\n",
    "    title='Area',\n",
    "    loc='center left',\n",
    "    bbox_to_anchor=(1, 0.5),\n",
    "    fontsize=10,\n",
    "    title_fontsize=11\n",
    ")\n",
    "\n",
    "# Tambahkan judul\n",
    "plt.title('Distribusi Mitra Swiggy di 5 Area Teratas (Hyderabad)', fontsize=14)\n",
    "\n",
    "# Rapikan layout\n",
    "plt.tight_layout()\n",
    "plt.show()"
   ]
  },
  {
   "cell_type": "markdown",
   "id": "c9afd48d",
   "metadata": {},
   "source": [
    "pada pie chart ini kita bisa mengekstraksi banyak informasi strategis. Ia bukan hanya menunjukkan angka-angka, tapi mencerminkan realitas bisnis Swiggy di lapangan bagaimana kemitraan terdistribusi, di mana kekuatan dominan berada, serta di mana ada ruang untuk pertumbuhan dan ekspansi. Diagram ini juga mencerminkan kemungkinan adanya konsentrasi layanan yang sangat tinggi di area tertentu, yang bisa berdampak pada persaingan antar mitra, kualitas layanan, hingga pengalaman pelanggan akhir.\n",
    "\n",
    "Irisan terbesar dari pie chart ini jatuh pada Banjara Hills sebesar **33%**. Area ini menyumbang sepertiga dari total mitra di antara lima area yang ditampilkan. Ini mengindikasikan bahwa Banjara Hills adalah wilayah dengan konsentrasi kemitraan yang sangat tinggi. Bisa diasumsikan bahwa wilayah ini adalah pusat aktivitas ekonomi, kawasan premium, atau daerah dengan demand kuliner yang sangat besar.\n",
    "\n",
    "dan untuk irisan terkecil dalam chart ini adalah nallakunta & Vidyanagar, yakni kurang dari **10%**. Meskipun kecil, fakta bahwa area ini masuk ke dalam lima besar menunjukkan bahwa masih terdapat peluang pasar yang berkembang, khususnya jika dibandingkan dengan banyak area lain yang tidak masuk ke dalam chart."
   ]
  },
  {
   "cell_type": "markdown",
   "id": "44784ec8",
   "metadata": {},
   "source": [
    "## 5. Menganalisa area yang minat jualnya tinggi akan tetapi masih sedikit kompetitornya"
   ]
  },
  {
   "cell_type": "markdown",
   "id": "9b8297f0",
   "metadata": {},
   "source": [
    "berdasarkan analisa sebelumnya telah didapatkan produk dan kota yang paling populer sehingga kita akan memfilter datanya berdasarkan hasil tersebut"
   ]
  },
  {
   "cell_type": "code",
   "execution_count": 27,
   "id": "66be8a6d",
   "metadata": {},
   "outputs": [],
   "source": [
    "# mengambil data yang dibutuhkan\n",
    "kompetitor_area = (\n",
    "    df_swiggy[(df_swiggy['Food type'] == 'Kebabs')&(df_swiggy['City'] == 'Hyderabad')]\n",
    "    .groupby(['Area', 'Food type'])\n",
    "    .agg({\n",
    "        'Avg ratings' : 'mean',\n",
    "        'Total ratings': 'sum',\n",
    "        'ID': 'count'\n",
    "    })\n",
    "    .rename(columns={\n",
    "        'Avg ratings' : 'Rating',\n",
    "        'ID': 'Jumlah Restaurant',\n",
    "        'Total ratings': 'Jumlah Rating'\n",
    "    })\n",
    "    .sort_values(by='Jumlah Rating', ascending=False)\n",
    "    .reset_index()\n",
    ")\n",
    "area_kebab = kompetitor_area.drop_duplicates(subset='Area').head(5)\n"
   ]
  },
  {
   "cell_type": "code",
   "execution_count": 28,
   "id": "9509c59e",
   "metadata": {},
   "outputs": [
    {
     "data": {
      "image/png": "[encoded data removed]",
      "text/plain": [
       "<Figure size 1800x1000 with 3 Axes>"
      ]
     },
     "metadata": {},
     "output_type": "display_data"
    }
   ],
   "source": [
    "# Set ukuran figure\n",
    "plt.figure(figsize=(18, 10))\n",
    "\n",
    "# Chart 1: Area vs Rating\n",
    "plt.subplot(1, 3, 1)\n",
    "sns.barplot(data=area_kebab, y='Area', x='Rating',hue='Area', palette='Blues_d', legend=False)\n",
    "plt.title('Rating per Area')\n",
    "plt.xlabel('Rating')\n",
    "plt.ylabel('')\n",
    "\n",
    "# Chart 2: Area vs Jumlah Rating\n",
    "plt.subplot(1, 3, 2)\n",
    "sns.barplot(data=area_kebab, y='Area', x='Jumlah Rating',hue='Area', palette='Greens_d', legend=False)\n",
    "plt.title('Jumlah Rating per Area')\n",
    "plt.xlabel('Jumlah Rating')\n",
    "plt.ylabel('')\n",
    "\n",
    "# Chart 3: Area vs Jumlah Restaurant\n",
    "plt.subplot(1, 3, 3)\n",
    "sns.barplot(data=area_kebab, y='Area', x='Jumlah Restaurant',hue='Area', palette='Purples_d', legend=False)\n",
    "plt.title('Jumlah Restaurant per Area')\n",
    "plt.xlabel('Jumlah Restaurant')\n",
    "plt.ylabel('')\n",
    "\n",
    "plt.tight_layout()\n",
    "plt.show()"
   ]
  },
  {
   "cell_type": "markdown",
   "id": "bdc0612d",
   "metadata": {},
   "source": [
    "berdasarkan chart di atas bisa dilihat area area yang bisa menjadi keputusan untuk membuka resto, dalam case ini ada 4 kota yang memiliki jumlah rating paling banyak yaitu narayanggudha, chintal, kota, dan new nallakunta. tapi untuk mengambil keputusan dimana kita akan buka di 4 kota itu kita dapat melihat dari ratingnya sehingga membuat new nallakunta dan narayanguda menjadi kompetitor yang mudah karena ratingnya rendah sedangkan peminat kebab disana banyak dan restoranya masih hanya ada 1 saja disana"
   ]
  },
  {
   "cell_type": "markdown",
   "id": "3f3f1ef8",
   "metadata": {},
   "source": [
    "## 6. Menganalisa apakah terdapat korelasi antara rating terhadap waktu pengiriman "
   ]
  },
  {
   "cell_type": "markdown",
   "id": "c56d8d11",
   "metadata": {},
   "source": [
    "karena kita ingin membuat resto dengan rating yang tinggi kita harus mencari korelasi terhadap beberapa faktor salah satunya korelasi antara rating dengan waktu pengiriman yang akan kita analisa pertama"
   ]
  },
  {
   "cell_type": "markdown",
   "id": "9cd6e84a",
   "metadata": {},
   "source": [
    "### Menggunakan Confidence Interval 95 % Untuk Mencari Nilai Minimum dan Maksimum waktu pengiriman"
   ]
  },
  {
   "cell_type": "code",
   "execution_count": 29,
   "id": "c515d172",
   "metadata": {},
   "outputs": [
    {
     "name": "stdout",
     "output_type": "stream",
     "text": [
      "Nilai Skewness dari Waktu Pengiriman : 0.39319136731644677\n"
     ]
    }
   ],
   "source": [
    "skew = df_swiggy['Delivery time'].skew()\n",
    "print(f'Nilai Skewness dari Waktu Pengiriman : {skew}')"
   ]
  },
  {
   "cell_type": "markdown",
   "id": "0fa5567b",
   "metadata": {},
   "source": [
    "berdasarkan data skew hanya menghasilkan nilai (0.39319136731644677) hanya condong ke kanan sedikit sehingga data masih tergolong normal"
   ]
  },
  {
   "cell_type": "markdown",
   "id": "d958efd6",
   "metadata": {},
   "source": [
    "### Menggunakan z-score untuk mengatasi outlier dengan data normal"
   ]
  },
  {
   "cell_type": "code",
   "execution_count": 30,
   "id": "302195f4",
   "metadata": {},
   "outputs": [
    {
     "name": "stdout",
     "output_type": "stream",
     "text": [
      "Upper : 95.96\n",
      "Lower : 11.44\n",
      "Presentase dari outliers: 0.11%%\n"
     ]
    }
   ],
   "source": [
    "avg = df_swiggy['Delivery time'].mean()\n",
    "std = df_swiggy['Delivery time'].std()\n",
    "\n",
    "up_bound = avg + 3*std\n",
    "low_bound = avg - 3*std\n",
    "\n",
    "print(f'Upper : {up_bound:.2f}' )\n",
    "print(f'Lower : {low_bound:.2f}')\n",
    "\n",
    "outlier = df_swiggy['Delivery time'][(df_swiggy['Delivery time']<low_bound) | (df_swiggy['Delivery time']>up_bound)]\n",
    "\n",
    "print(f'Presentase dari outliers: {len(outlier)*100/len(df_swiggy['Delivery time']):.2f}%%')\n",
    "\n",
    "# membuat dataframe baru dengan data tanpa outlier\n",
    "df_swiggy_no_outlier = df_swiggy[(df_swiggy['Delivery time']>=low_bound) & (df_swiggy['Delivery time']<=up_bound)]"
   ]
  },
  {
   "cell_type": "markdown",
   "id": "2c4e3346",
   "metadata": {},
   "source": [
    "- Upper: 95.96 → Batas atas dari nilai normal (di atas ini dianggap outlier).\n",
    "\n",
    "- Lower: 11.44 → Batas bawah dari nilai normal (di bawah ini dianggap outlier).\n",
    "\n",
    "- Persentase outlier: 0.11% → Hanya 0.11% data yang berada di luar batas normal, jadi hampir semua data berada dalam rentang yang wajar.\n",
    "\n",
    "Artinya, data sangat bersih dan minim anomali. Jadi Data memiliki distribusi yang normal dan stabil, dengan hanya 0.11% outlier, sehingga dapat dipercaya untuk analisis dan pengambilan keputusan."
   ]
  },
  {
   "cell_type": "markdown",
   "id": "07323205",
   "metadata": {},
   "source": [
    "menghapus data outlier yang menggunakan zscore dengan presentase outlier 0.11%"
   ]
  },
  {
   "cell_type": "markdown",
   "id": "d41ba1db",
   "metadata": {},
   "source": [
    "### Menggunakan Pearson untuk menguji korelasi"
   ]
  },
  {
   "cell_type": "markdown",
   "id": "016e2abb",
   "metadata": {},
   "source": [
    "karena data terdistribusi normal kita bisa menggunakan korelasi pearson"
   ]
  },
  {
   "cell_type": "code",
   "execution_count": 31,
   "id": "b3b2d721",
   "metadata": {},
   "outputs": [
    {
     "name": "stdout",
     "output_type": "stream",
     "text": [
      "rho-correlation: -0.13, p-value: 3.217785698304979e-96\n",
      "\n",
      "H1 diterima : Ada hubungan signifikan antara waktu pengiriman dan Rating.\n",
      "\n",
      "Korelasi negatif: semakin lambat waktu pengiriman, rating semakin turun.\n",
      "\n"
     ]
    }
   ],
   "source": [
    "corr_rho, pval_s = stats.pearsonr(df_swiggy_no_outlier['Delivery time'], df_swiggy_no_outlier['Avg ratings'])\n",
    "\n",
    "print(f\"rho-correlation: {corr_rho:.2f}, p-value: {pval_s}\\n\")\n",
    "\n",
    "# Interpretasi\n",
    "if pval_s < 0.05:\n",
    "    print(\"H1 diterima : Ada hubungan signifikan antara waktu pengiriman dan Rating.\\n\")\n",
    "    if corr_rho < 0:\n",
    "        print(\"Korelasi negatif: semakin lambat waktu pengiriman, rating semakin turun.\\n\")\n",
    "    else:\n",
    "        print(\"Korelasi positif: semakin cepat waktu pengiriman, rating semakin naik.\\n\")\n",
    "else:\n",
    "    print(\"H0 diterima : Tidak ada hubungan signifikan antara waktu pengiriman dan Rating.\\n\")"
   ]
  },
  {
   "cell_type": "markdown",
   "id": "230c68b7",
   "metadata": {},
   "source": [
    "Terdapat hubungan yang signifikan antara waktu pengiriman dan rating (ρ = -0.13, p < 0.001). Arah korelasi yang negatif mengindikasikan bahwa semakin lama waktu pengiriman, semakin rendah rating yang diberikan oleh pelanggan. Meskipun kekuatannya tergolong lemah, hubungan ini tetap berarti secara statistik."
   ]
  },
  {
   "cell_type": "markdown",
   "id": "3c9f26b0",
   "metadata": {},
   "source": [
    "### Scatter plot untuk memvisualisasikan analisa korelasi"
   ]
  },
  {
   "cell_type": "code",
   "execution_count": 32,
   "id": "566e80fe",
   "metadata": {},
   "outputs": [
    {
     "data": {
      "application/vnd.plotly.v1+json": {
       "config": {
        "plotlyServerURL": "https://plot.ly"
       },
       "data": [
        {
         "customdata": [
          [
           "Hyderabad",
           "Sarvi Restaurant",
           "Kebabs"
          ],
          [
           "Bangalore",
           "Khan Saheb Grills And Rolls",
           "Kebabs"
          ],
          [
           "Bangalore",
           "Fanoos",
           "Kebabs"
          ],
          [
           "Kolkata",
           "Aminia Restaurant- Golpark",
           "Kebabs"
          ],
          [
           "Kolkata",
           "Sharma Dhaba",
           "Kebabs"
          ],
          [
           "Bangalore",
           "Kund Indian Barbeque",
           "Kebabs"
          ],
          [
           "Kolkata",
           "Jai Hind Dhaba",
           "Kebabs"
          ],
          [
           "Pune",
           "Marrakesh",
           "Kebabs"
          ],
          [
           "Hyderabad",
           "Grand Hotel",
           "Kebabs"
          ],
          [
           "Hyderabad",
           "Mehfil",
           "Kebabs"
          ],
          [
           "Kolkata",
           "Shiraz Golden Restaurant",
           "Kebabs"
          ],
          [
           "Hyderabad",
           "Bawarchi",
           "Kebabs"
          ],
          [
           "Kolkata",
           "Second House",
           "Kebabs"
          ],
          [
           "Delhi",
           "Mikky Peshawari Chicken & Fish (Since 1998)",
           "Kebabs"
          ],
          [
           "Kolkata",
           "Aminia- Hatibagan",
           "Kebabs"
          ],
          [
           "Kolkata",
           "Arsalan Park Circus",
           "Kebabs"
          ],
          [
           "Delhi",
           "Behrouz Biryani",
           "Kebabs"
          ],
          [
           "Hyderabad",
           "Exotica",
           "Kebabs"
          ],
          [
           "Mumbai",
           "Capital Social",
           "Kebabs"
          ],
          [
           "Mumbai",
           "Behrouz Biryani",
           "Kebabs"
          ],
          [
           "Bangalore",
           "Church Street Social",
           "Kebabs"
          ],
          [
           "Chennai",
           "Sigree",
           "Kebabs"
          ],
          [
           "Delhi",
           "Sfc Soya Chaap ( Shalimar Bagh)",
           "Kebabs"
          ],
          [
           "Chennai",
           "Hotel Arafa",
           "Kebabs"
          ],
          [
           "Kolkata",
           "Foodpath",
           "Kebabs"
          ],
          [
           "Mumbai",
           "Lucky Restaurant (Chembur)",
           "Kebabs"
          ],
          [
           "Chennai",
           "Grill House",
           "Kebabs"
          ],
          [
           "Hyderabad",
           "Meridian Restaurant",
           "Kebabs"
          ],
          [
           "Chennai",
           "Hotel Rolex",
           "Kebabs"
          ],
          [
           "Pune",
           "Rk Biryani House",
           "Kebabs"
          ],
          [
           "Mumbai",
           "Bandra Grillz",
           "Kebabs"
          ],
          [
           "Mumbai",
           "Punjabi Roots",
           "Kebabs"
          ],
          [
           "Delhi",
           "Street Foods By Punjab Grill",
           "Kebabs"
          ],
          [
           "Mumbai",
           "Belly Darbar",
           "Kebabs"
          ],
          [
           "Kolkata",
           "Zafran",
           "Kebabs"
          ],
          [
           "Ahmedabad",
           "Behrouz Biryani",
           "Kebabs"
          ],
          [
           "Kolkata",
           "Kouzina Mining Co.",
           "Kebabs"
          ],
          [
           "Mumbai",
           "Red Spice",
           "Kebabs"
          ],
          [
           "Chennai",
           "Urban Spatula",
           "Kebabs"
          ],
          [
           "Chennai",
           "Rizwan Biriyani And Kabab Center",
           "Kebabs"
          ],
          [
           "Hyderabad",
           "Prince Restaurant",
           "Kebabs"
          ],
          [
           "Chennai",
           "Kings Kitchen",
           "Kebabs"
          ],
          [
           "Hyderabad",
           "Capital Multi Cuisine Restaurant",
           "Kebabs"
          ],
          [
           "Mumbai",
           "Blend N Brew",
           "Kebabs"
          ],
          [
           "Mumbai",
           "Copper Chimney",
           "Kebabs"
          ],
          [
           "Pune",
           "Biryani Kebabs & Co",
           "Kebabs"
          ],
          [
           "Bangalore",
           "Sharief Bhai",
           "Kebabs"
          ],
          [
           "Pune",
           "Baraza Bars & Bites",
           "Kebabs"
          ],
          [
           "Mumbai",
           "Punjab Grill",
           "Kebabs"
          ],
          [
           "Delhi",
           "Biryani Blues",
           "Kebabs"
          ],
          [
           "Kolkata",
           "The Biryani Inc.",
           "Kebabs"
          ],
          [
           "Pune",
           "Saffron Exotic Family Restaurant",
           "Kebabs"
          ],
          [
           "Bangalore",
           "Savoury",
           "Kebabs"
          ],
          [
           "Hyderabad",
           "Hotel Rumaan",
           "Kebabs"
          ],
          [
           "Bangalore",
           "Ubq By Barbeque Nation",
           "Kebabs"
          ],
          [
           "Hyderabad",
           "Hotel Shadab",
           "Kebabs"
          ],
          [
           "Pune",
           "Fc Road Social",
           "Kebabs"
          ],
          [
           "Hyderabad",
           "Redaan Restaurant",
           "Kebabs"
          ],
          [
           "Delhi",
           "Ubq By Barbeque Nation",
           "Kebabs"
          ],
          [
           "Chennai",
           "Ubq By Barbeque Nation",
           "Kebabs"
          ],
          [
           "Mumbai",
           "Ranjana'S Rannaghor - The Bengali Kitchen",
           "Kebabs"
          ],
          [
           "Pune",
           "Ubq By Barbeque Nation",
           "Kebabs"
          ],
          [
           "Ahmedabad",
           "Ubq By Barbeque Nation",
           "Kebabs"
          ],
          [
           "Kolkata",
           "Oudh 1590",
           "Kebabs"
          ],
          [
           "Surat",
           "Classic Chicken Mamna (Tandoori & Paratha)",
           "Kebabs"
          ],
          [
           "Chennai",
           "Star Biriyani And Fast Food",
           "Kebabs"
          ],
          [
           "Bangalore",
           "Rang De Basanti Dhaba",
           "Kebabs"
          ],
          [
           "Hyderabad",
           "Combo Stories By 10D Express",
           "Kebabs"
          ],
          [
           "Mumbai",
           "Roots Of India",
           "Kebabs"
          ],
          [
           "Chennai",
           "Aks Kabab",
           "Kebabs"
          ],
          [
           "Kolkata",
           "24 Grains",
           "Kebabs"
          ],
          [
           "Chennai",
           "Silver Spoon",
           "Kebabs"
          ],
          [
           "Chennai",
           "Desi Street",
           "Kebabs"
          ],
          [
           "Kolkata",
           "Tandoor Box",
           "Kebabs"
          ],
          [
           "Kolkata",
           "Be Kebabii",
           "Kebabs"
          ],
          [
           "Kolkata",
           "Chaccha Jaan - Biryani Kebabs & Curries",
           "Kebabs"
          ],
          [
           "Bangalore",
           "Khichdi Experiment",
           "Kebabs"
          ],
          [
           "Pune",
           "Khichdi Experiment",
           "Kebabs"
          ],
          [
           "Kolkata",
           "Kathi On The Go",
           "Kebabs"
          ],
          [
           "Surat",
           "Behrouz Biryani",
           "Kebabs"
          ],
          [
           "Bangalore",
           "Paradise Biryani",
           "Kebabs"
          ],
          [
           "Hyderabad",
           "Abids Bistro  Royalton Hotel",
           "Kebabs"
          ],
          [
           "Pune",
           "Bebe Di Rasoi - Punjabi",
           "Kebabs"
          ],
          [
           "Kolkata",
           "Riyasat-E-Hind",
           "Kebabs"
          ],
          [
           "Chennai",
           "The Bowl Company",
           "Kebabs"
          ],
          [
           "Delhi",
           "Khichdi Experiment",
           "Kebabs"
          ],
          [
           "Mumbai",
           "Khichdi Experiment",
           "Kebabs"
          ],
          [
           "Kolkata",
           "Adil Biryani Restaurant",
           "Kebabs"
          ],
          [
           "Kolkata",
           "Kebabs In Roll - Ramlal Bazar",
           "Kebabs"
          ],
          [
           "Mumbai",
           "The Kitchen  (Chinese & Grills)",
           "Kebabs"
          ],
          [
           "Hyderabad",
           "Hotel Niagara",
           "Kebabs"
          ],
          [
           "Pune",
           "Cnp House - Chicken And Paratha",
           "Kebabs"
          ],
          [
           "Bangalore",
           "The Bowl Life",
           "Kebabs"
          ],
          [
           "Delhi",
           "Bowlsome",
           "Kebabs"
          ],
          [
           "Chennai",
           "Behrouz Biryani",
           "Kebabs"
          ],
          [
           "Chennai",
           "Lucky Da Punjabi Dhabba",
           "Kebabs"
          ],
          [
           "Pune",
           "Behrouz Biryani",
           "Kebabs"
          ],
          [
           "Bangalore",
           "The Biryani Experiment",
           "Kebabs"
          ],
          [
           "Mumbai",
           "Bowlsome",
           "Kebabs"
          ],
          [
           "Hyderabad",
           "Behrouz Biryani",
           "Kebabs"
          ],
          [
           "Hyderabad",
           "Palamuru Grill",
           "Kebabs"
          ],
          [
           "Kolkata",
           "Kouzina Express",
           "Kebabs"
          ],
          [
           "Kolkata",
           "Galouti",
           "Kebabs"
          ],
          [
           "Hyderabad",
           "Rumaan Restaurant",
           "Kebabs"
          ],
          [
           "Chennai",
           "Paradise Biryani",
           "Kebabs"
          ],
          [
           "Kolkata",
           "Paradise Biryani",
           "Kebabs"
          ],
          [
           "Mumbai",
           "The Biryani Experiment",
           "Kebabs"
          ],
          [
           "Kolkata",
           "Tadka",
           "Kebabs"
          ],
          [
           "Pune",
           "Lost Heaven",
           "Kebabs"
          ],
          [
           "Pune",
           "Biryani By Kilo",
           "Kebabs"
          ],
          [
           "Hyderabad",
           "Imperial Multi-Cuisine Restaurant",
           "Kebabs"
          ],
          [
           "Hyderabad",
           "A-1 Chicken Pakoda",
           "Kebabs"
          ],
          [
           "Bangalore",
           "Sikandar Rolls",
           "Kebabs"
          ],
          [
           "Chennai",
           "The Great Kabab Factory",
           "Kebabs"
          ],
          [
           "Ahmedabad",
           "The Great Kabab Factory By Radisson Blu",
           "Kebabs"
          ],
          [
           "Mumbai",
           "Itc Maratha - Gourmet Couch",
           "Kebabs"
          ],
          [
           "Kolkata",
           "Itc Royal Bengal - Gourmet Couch",
           "Kebabs"
          ],
          [
           "Bangalore",
           "Itc Windsor - Gourmet Couch",
           "Kebabs"
          ],
          [
           "Kolkata",
           "Calcutta Cravings",
           "Kebabs"
          ],
          [
           "Ahmedabad",
           "Barbeque Nation",
           "Kebabs"
          ],
          [
           "Surat",
           "Barbeque Nation",
           "Kebabs"
          ],
          [
           "Delhi",
           "Andhra Kodi Pulao",
           "Kebabs"
          ],
          [
           "Delhi",
           "Barbeque Nation",
           "Kebabs"
          ],
          [
           "Bangalore",
           "Barbeque Nation",
           "Kebabs"
          ],
          [
           "Bangalore",
           "Abc Kolkata Kitchen",
           "Kebabs"
          ],
          [
           "Hyderabad",
           "Biryani Tales -By Rayalaseema Ruchulu",
           "Kebabs"
          ],
          [
           "Mumbai",
           "The White Barn",
           "Kebabs"
          ],
          [
           "Chennai",
           "Maalgaadi By Dhaba Estd 1986 Delhi",
           "Kebabs"
          ],
          [
           "Pune",
           "Barbeque Nation",
           "Kebabs"
          ],
          [
           "Pune",
           "Nawabi Kebabs By Fml",
           "Kebabs"
          ],
          [
           "Delhi",
           "Daryaganj - By The Inventors Of Butter Chicken And Dal Makhani",
           "Kebabs"
          ],
          [
           "Chennai",
           "Barbeque Nation",
           "Kebabs"
          ],
          [
           "Kolkata",
           "Biryani Q&Q",
           "Kebabs"
          ],
          [
           "Bangalore",
           "Dhishoom -Dhaba By Salt",
           "Kebabs"
          ],
          [
           "Surat",
           "Makhni Brothers",
           "Kebabs"
          ],
          [
           "Mumbai",
           "Opa! Bar & Cafe",
           "Kebabs"
          ],
          [
           "Kolkata",
           "Miyansaab",
           "Kebabs"
          ],
          [
           "Bangalore",
           "Craft Of Biryani",
           "Kebabs"
          ],
          [
           "Chennai",
           "Copper Chimney",
           "Kebabs"
          ],
          [
           "Chennai",
           "Punjab Grill",
           "Kebabs"
          ],
          [
           "Kolkata",
           "Yaara Da Dhaba",
           "Kebabs"
          ],
          [
           "Kolkata",
           "Tandoori Pitara",
           "Kebabs"
          ],
          [
           "Chennai",
           "Mount Road Social",
           "Kebabs"
          ],
          [
           "Chennai",
           "Sha Cafe",
           "Kebabs"
          ],
          [
           "Pune",
           "The Biryani Experiment",
           "Kebabs"
          ],
          [
           "Delhi",
           "The Biryani Experiment",
           "Kebabs"
          ],
          [
           "Kolkata",
           "Behrouz Biryani",
           "Kebabs"
          ],
          [
           "Kolkata",
           "Bukhara - Biryani Kebabs & Curries",
           "Kebabs"
          ],
          [
           "Kolkata",
           "Behnam",
           "Kebabs"
          ],
          [
           "Mumbai",
           "Charcoal Eats - Biryani & Beyond",
           "Kebabs"
          ],
          [
           "Chennai",
           "Kebabistaan",
           "Kebabs"
          ],
          [
           "Hyderabad",
           "Nasheman Hotel  Altaf Bakery",
           "Kebabs"
          ],
          [
           "Mumbai",
           "Kebab Flare",
           "Kebabs"
          ],
          [
           "Chennai",
           "Alibaba Shawarma And 40 Dishes",
           "Kebabs"
          ],
          [
           "Delhi",
           "Punjabi Angithi",
           "Kebabs"
          ],
          [
           "Mumbai",
           "Bayleaf - By Good Food Co",
           "Kebabs"
          ],
          [
           "Mumbai",
           "Krowns Kitchen",
           "Kebabs"
          ],
          [
           "Kolkata",
           "Biryani By Kilo",
           "Kebabs"
          ],
          [
           "Chennai",
           "Bun Kebab",
           "Kebabs"
          ],
          [
           "Chennai",
           "Babal Da Punjabi Dabha",
           "Kebabs"
          ],
          [
           "Pune",
           "The Little Punjab",
           "Kebabs"
          ],
          [
           "Kolkata",
           "Galawat",
           "Kebabs"
          ],
          [
           "Delhi",
           "Chicken Bites",
           "Kebabs"
          ],
          [
           "Bangalore",
           "Itc Master Chef Creations",
           "Kebabs"
          ],
          [
           "Kolkata",
           "Rang De Basanti Dhaba",
           "Kebabs"
          ],
          [
           "Delhi",
           "Sardar Ji Family Restaurant (Raja Garden)",
           "Kebabs"
          ],
          [
           "Bangalore",
           "Responsible Biryani",
           "Kebabs"
          ],
          [
           "Kolkata",
           "Container Kebab By Baba Rafi",
           "Kebabs"
          ],
          [
           "Mumbai",
           "Babu Moshai - The Bong Foodie",
           "Kebabs"
          ],
          [
           "Bangalore",
           "Badmaash",
           "Kebabs"
          ],
          [
           "Mumbai",
           "Sip N Dine Bar And Restaurant",
           "Kebabs"
          ],
          [
           "Hyderabad",
           "Khichdi Experiment",
           "Kebabs"
          ],
          [
           "Hyderabad",
           "Bowlsome",
           "Kebabs"
          ],
          [
           "Hyderabad",
           "The Biryani Experiment",
           "Kebabs"
          ],
          [
           "Pune",
           "Kareem'S",
           "Kebabs"
          ],
          [
           "Hyderabad",
           "Lucky Restaurant",
           "Kebabs"
          ],
          [
           "Chennai",
           "Kev'S Abra'Kebab'Ra - The Kebab Shack",
           "Kebabs"
          ],
          [
           "Hyderabad",
           "New Handi Biryani",
           "Kebabs"
          ],
          [
           "Kolkata",
           "Foodland",
           "Kebabs"
          ],
          [
           "Delhi",
           "Tamba",
           "Kebabs"
          ],
          [
           "Bangalore",
           "Rumi",
           "Kebabs"
          ],
          [
           "Kolkata",
           "Uns Cafe & Dining",
           "Kebabs"
          ],
          [
           "Bangalore",
           "India Bistro",
           "Kebabs"
          ],
          [
           "Kolkata",
           "Namak",
           "Kebabs"
          ],
          [
           "Kolkata",
           "Dumghan",
           "Kebabs"
          ],
          [
           "Bangalore",
           "Friends Chinese Corner",
           "Kebabs"
          ],
          [
           "Pune",
           "Rambo'S Biryani House",
           "Kebabs"
          ],
          [
           "Chennai",
           "Tommys Kitchen",
           "Kebabs"
          ],
          [
           "Mumbai",
           "Star Restaurant",
           "Kebabs"
          ],
          [
           "Kolkata",
           "Kbc-Kolkata Biryani Co",
           "Kebabs"
          ],
          [
           "Kolkata",
           "Calcutta Calling",
           "Kebabs"
          ],
          [
           "Bangalore",
           "Biryani By Kilo",
           "Kebabs"
          ],
          [
           "Kolkata",
           "Tripti Snacks Bar",
           "Kebabs"
          ],
          [
           "Kolkata",
           "Buddy Bites",
           "Kebabs"
          ],
          [
           "Kolkata",
           "Bonophool Restaurant",
           "Kebabs"
          ],
          [
           "Mumbai",
           "Marrakesh",
           "Kebabs"
          ],
          [
           "Pune",
           "Crunchy Chicken Chunks .C3",
           "Kebabs"
          ],
          [
           "Bangalore",
           "Aligarh House",
           "Kebabs"
          ],
          [
           "Hyderabad",
           "Potful - Claypot Biryanis",
           "Kebabs"
          ],
          [
           "Bangalore",
           "Behrouz Biryani",
           "Kebabs"
          ],
          [
           "Kolkata",
           "Yo Chelo",
           "Kebabs"
          ],
          [
           "Bangalore",
           "Five Star Chicken And Koli Hut",
           "Kebabs"
          ],
          [
           "Mumbai",
           "Tandoori Pizza",
           "Kebabs"
          ],
          [
           "Mumbai",
           "Al Zaiqa",
           "Kebabs"
          ],
          [
           "Bangalore",
           "Coal Flame Biriyaani",
           "Kebabs"
          ],
          [
           "Delhi",
           "The Tangdi Club",
           "Kebabs"
          ],
          [
           "Pune",
           "Kareem'S",
           "Kebabs"
          ],
          [
           "Bangalore",
           "The Bowl Company",
           "Kebabs"
          ],
          [
           "Kolkata",
           "Poached Onion",
           "Kebabs"
          ],
          [
           "Mumbai",
           "Mini Pakwan Dry And Fry",
           "Kebabs"
          ],
          [
           "Chennai",
           "Khichdi Experiment",
           "Kebabs"
          ],
          [
           "Chennai",
           "The Biryani Experiment",
           "Kebabs"
          ],
          [
           "Chennai",
           "Bowlsome",
           "Kebabs"
          ],
          [
           "Delhi",
           "Hamiz Laziz Foods",
           "Kebabs"
          ],
          [
           "Bangalore",
           "Hopshaus",
           "Kebabs"
          ],
          [
           "Kolkata",
           "Sultanat E Biryani By Purple Foods",
           "Kebabs"
          ],
          [
           "Mumbai",
           "Kebabville",
           "Kebabs"
          ],
          [
           "Pune",
           "The Land Of Chenab",
           "Kebabs"
          ],
          [
           "Delhi",
           "Kalaunji By Sticky Rice",
           "Kebabs"
          ],
          [
           "Bangalore",
           "Barbecue By Punjab Grill",
           "Kebabs"
          ],
          [
           "Bangalore",
           "Bheemavarma'S Biryani",
           "Kebabs"
          ],
          [
           "Pune",
           "Ottoman Eats",
           "Kebabs"
          ],
          [
           "Kolkata",
           "The Shiraaz",
           "Kebabs"
          ],
          [
           "Kolkata",
           "Real Food'S",
           "Kebabs"
          ],
          [
           "Mumbai",
           "Khaabuja",
           "Kebabs"
          ],
          [
           "Kolkata",
           "Frytry",
           "Kebabs"
          ],
          [
           "Bangalore",
           "Hungry Budget",
           "Kebabs"
          ],
          [
           "Bangalore",
           "Biryani Blues",
           "Kebabs"
          ],
          [
           "Hyderabad",
           "Hyderabadish",
           "Kebabs"
          ],
          [
           "Hyderabad",
           "Ys Mandi",
           "Kebabs"
          ],
          [
           "Chennai",
           "Kambi Kari",
           "Kebabs"
          ],
          [
           "Bangalore",
           "Rnr Biryani - Taste Of 1953",
           "Kebabs"
          ],
          [
           "Kolkata",
           "Biryani Kingdom",
           "Kebabs"
          ],
          [
           "Ahmedabad",
           "Dum Pe Dum",
           "Kebabs"
          ],
          [
           "Mumbai",
           "Marol Fusion Food By D'Unik",
           "Kebabs"
          ],
          [
           "Mumbai",
           "D'Unik Fusion Food",
           "Kebabs"
          ],
          [
           "Hyderabad",
           "Chulha Chowki",
           "Kebabs"
          ],
          [
           "Delhi",
           "Biryani By Kilo",
           "Kebabs"
          ],
          [
           "Mumbai",
           "Barbeque Nation",
           "Kebabs"
          ],
          [
           "Mumbai",
           "Ubq By Barbeque Nation",
           "Kebabs"
          ],
          [
           "Chennai",
           "Ammi'S Biryani",
           "Kebabs"
          ],
          [
           "Mumbai",
           "Its Shawarma",
           "Kebabs"
          ],
          [
           "Pune",
           "Swagat Veg Non Veg",
           "Kebabs"
          ],
          [
           "Ahmedabad",
           "Urban Kadhai Co.",
           "Kebabs"
          ],
          [
           "Delhi",
           "Currynama By Seven Seas",
           "Kebabs"
          ],
          [
           "Kolkata",
           "The Platter Hub",
           "Kebabs"
          ],
          [
           "Kolkata",
           "Fast Filling - Allenby Road",
           "Kebabs"
          ],
          [
           "Kolkata",
           "Fly Kouzina",
           "Kebabs"
          ],
          [
           "Kolkata",
           "Kouzina Marine",
           "Kebabs"
          ],
          [
           "Mumbai",
           "R Bhagat Tarrachand",
           "Kebabs"
          ]
         ],
         "hovertemplate": "Food type=%{customdata[2]}<br>menit=%{x}<br>Rating=%{y}<br>City=%{customdata[0]}<br>Restaurant=%{customdata[1]}<extra></extra>",
         "legendgroup": "Kebabs",
         "marker": {
          "color": "#636efa",
          "opacity": 0.7,
          "symbol": "circle"
         },
         "mode": "markers",
         "name": "Kebabs",
         "orientation": "v",
         "showlegend": true,
         "type": "scatter",
         "x": {
          "bdata": "OCchQzY6PC4YGTQbVDUyMyZBLiImQ0A6SjE6NSxHNjlJPishPjJQIjRDITEqNDBEMCZFQDA9MCUoKSYyLyckRyM1N0I1MUJAQkc7QzE8VDM7OTBBNyExOFgnF0s0IzBCLTQvJD86QSxBQzQ9SVMnKC0zJkdXNysoM0MsMi0nOjMtT0wyQzg5Lkc9LzZLUDQ6RCQ3S0sgRjI/PTA5OVc7JUdDNUBASTdDLyY3ICMlNiY5HTdMPU47O1E9LUFBUzVIM09GNEQoTTA6Nz0zQzI7NUkuNDg2QEU7L0dIPTtGR1omSj4mLSxCNDoxNDM3NSUoOzAxLC02Tj88MQ==",
          "dtype": "i1"
         },
         "xaxis": "x",
         "y": {
          "bdata": "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",
          "dtype": "f8"
         },
         "yaxis": "y"
        },
        {
         "hovertemplate": "<b>OLS trendline</b><br>Avg ratings = -0.00261658 * Delivery time + 3.94908<br>R<sup>2</sup>=0.003919<br><br>Food type=Kebabs<br>menit=%{x}<br>Rating=%{y} <b>(trend)</b><extra></extra>",
         "legendgroup": "Kebabs",
         "marker": {
          "color": "#636efa",
          "symbol": "circle"
         },
         "mode": "lines",
         "name": "Kebabs",
         "showlegend": false,
         "type": "scatter",
         "x": {
          "bdata": "FxgZGx0gICEhISEiIiMjIyQkJCUlJSUmJiYmJiYmJiYnJycnJygoKCgoKSorKywsLCwsLS0tLS0tLS4uLi4vLy8vLzAwMDAwMDAwMDExMTExMTExMjIyMjIyMjMzMzMzMzMzNDQ0NDQ0NDQ0NDQ1NTU1NTU1NTY2NjY2Njc3Nzc3Nzc3Nzg4ODg5OTk5OTk6Ojo6Ojo6Ojs7Ozs7Ozs7Ozw8PD09PT09PT09Pj4+Pz8/QEBAQEBAQUFBQUFBQkJCQkJDQ0NDQ0NDQ0NDRERERUVGRkZHR0dHR0dHR0hISUlJSUpKS0tLS0xMTU5OT09QUFFTU1RUV1dYWg==",
          "dtype": "i1"
         },
         "xaxis": "x",
         "y": {
          "bdata": "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",
          "dtype": "f8"
         },
         "yaxis": "y"
        }
       ],
       "layout": {
        "legend": {
         "title": {
          "text": "Food type"
         },
         "tracegroupgap": 0
        },
        "plot_bgcolor": "white",
        "template": {
         "data": {
          "bar": [
           {
            "error_x": {
             "color": "#2a3f5f"
            },
            "error_y": {
             "color": "#2a3f5f"
            },
            "marker": {
             "line": {
              "color": "#E5ECF6",
              "width": 0.5
             },
             "pattern": {
              "fillmode": "overlay",
              "size": 10,
              "solidity": 0.2
             }
            },
            "type": "bar"
           }
          ],
          "barpolar": [
           {
            "marker": {
             "line": {
              "color": "#E5ECF6",
              "width": 0.5
             },
             "pattern": {
              "fillmode": "overlay",
              "size": 10,
              "solidity": 0.2
             }
            },
            "type": "barpolar"
           }
          ],
          "carpet": [
           {
            "aaxis": {
             "endlinecolor": "#2a3f5f",
             "gridcolor": "white",
             "linecolor": "white",
             "minorgridcolor": "white",
             "startlinecolor": "#2a3f5f"
            },
            "baxis": {
             "endlinecolor": "#2a3f5f",
             "gridcolor": "white",
             "linecolor": "white",
             "minorgridcolor": "white",
             "startlinecolor": "#2a3f5f"
            },
            "type": "carpet"
           }
          ],
          "choropleth": [
           {
            "colorbar": {
             "outlinewidth": 0,
             "ticks": ""
            },
            "type": "choropleth"
           }
          ],
          "contour": [
           {
            "colorbar": {
             "outlinewidth": 0,
             "ticks": ""
            },
            "colorscale": [
             [
              0,
              "#0d0887"
             ],
             [
              0.1111111111111111,
              "#46039f"
             ],
             [
              0.2222222222222222,
              "#7201a8"
             ],
             [
              0.3333333333333333,
              "#9c179e"
             ],
             [
              0.4444444444444444,
              "#bd3786"
             ],
             [
              0.5555555555555556,
              "#d8576b"
             ],
             [
              0.6666666666666666,
              "#ed7953"
             ],
             [
              0.7777777777777778,
              "#fb9f3a"
             ],
             [
              0.8888888888888888,
              "#fdca26"
             ],
             [
              1,
              "#f0f921"
             ]
            ],
            "type": "contour"
           }
          ],
          "contourcarpet": [
           {
            "colorbar": {
             "outlinewidth": 0,
             "ticks": ""
            },
            "type": "contourcarpet"
           }
          ],
          "heatmap": [
           {
            "colorbar": {
             "outlinewidth": 0,
             "ticks": ""
            },
            "colorscale": [
             [
              0,
              "#0d0887"
             ],
             [
              0.1111111111111111,
              "#46039f"
             ],
             [
              0.2222222222222222,
              "#7201a8"
             ],
             [
              0.3333333333333333,
              "#9c179e"
             ],
             [
              0.4444444444444444,
              "#bd3786"
             ],
             [
              0.5555555555555556,
              "#d8576b"
             ],
             [
              0.6666666666666666,
              "#ed7953"
             ],
             [
              0.7777777777777778,
              "#fb9f3a"
             ],
             [
              0.8888888888888888,
              "#fdca26"
             ],
             [
              1,
              "#f0f921"
             ]
            ],
            "type": "heatmap"
           }
          ],
          "histogram": [
           {
            "marker": {
             "pattern": {
              "fillmode": "overlay",
              "size": 10,
              "solidity": 0.2
             }
            },
            "type": "histogram"
           }
          ],
          "histogram2d": [
           {
            "colorbar": {
             "outlinewidth": 0,
             "ticks": ""
            },
            "colorscale": [
             [
              0,
              "#0d0887"
             ],
             [
              0.1111111111111111,
              "#46039f"
             ],
             [
              0.2222222222222222,
              "#7201a8"
             ],
             [
              0.3333333333333333,
              "#9c179e"
             ],
             [
              0.4444444444444444,
              "#bd3786"
             ],
             [
              0.5555555555555556,
              "#d8576b"
             ],
             [
              0.6666666666666666,
              "#ed7953"
             ],
             [
              0.7777777777777778,
              "#fb9f3a"
             ],
             [
              0.8888888888888888,
              "#fdca26"
             ],
             [
              1,
              "#f0f921"
             ]
            ],
            "type": "histogram2d"
           }
          ],
          "histogram2dcontour": [
           {
            "colorbar": {
             "outlinewidth": 0,
             "ticks": ""
            },
            "colorscale": [
             [
              0,
              "#0d0887"
             ],
             [
              0.1111111111111111,
              "#46039f"
             ],
             [
              0.2222222222222222,
              "#7201a8"
             ],
             [
              0.3333333333333333,
              "#9c179e"
             ],
             [
              0.4444444444444444,
              "#bd3786"
             ],
             [
              0.5555555555555556,
              "#d8576b"
             ],
             [
              0.6666666666666666,
              "#ed7953"
             ],
             [
              0.7777777777777778,
              "#fb9f3a"
             ],
             [
              0.8888888888888888,
              "#fdca26"
             ],
             [
              1,
              "#f0f921"
             ]
            ],
            "type": "histogram2dcontour"
           }
          ],
          "mesh3d": [
           {
            "colorbar": {
             "outlinewidth": 0,
             "ticks": ""
            },
            "type": "mesh3d"
           }
          ],
          "parcoords": [
           {
            "line": {
             "colorbar": {
              "outlinewidth": 0,
              "ticks": ""
             }
            },
            "type": "parcoords"
           }
          ],
          "pie": [
           {
            "automargin": true,
            "type": "pie"
           }
          ],
          "scatter": [
           {
            "fillpattern": {
             "fillmode": "overlay",
             "size": 10,
             "solidity": 0.2
            },
            "type": "scatter"
           }
          ],
          "scatter3d": [
           {
            "line": {
             "colorbar": {
              "outlinewidth": 0,
              "ticks": ""
             }
            },
            "marker": {
             "colorbar": {
              "outlinewidth": 0,
              "ticks": ""
             }
            },
            "type": "scatter3d"
           }
          ],
          "scattercarpet": [
           {
            "marker": {
             "colorbar": {
              "outlinewidth": 0,
              "ticks": ""
             }
            },
            "type": "scattercarpet"
           }
          ],
          "scattergeo": [
           {
            "marker": {
             "colorbar": {
              "outlinewidth": 0,
              "ticks": ""
             }
            },
            "type": "scattergeo"
           }
          ],
          "scattergl": [
           {
            "marker": {
             "colorbar": {
              "outlinewidth": 0,
              "ticks": ""
             }
            },
            "type": "scattergl"
           }
          ],
          "scattermap": [
           {
            "marker": {
             "colorbar": {
              "outlinewidth": 0,
              "ticks": ""
             }
            },
            "type": "scattermap"
           }
          ],
          "scattermapbox": [
           {
            "marker": {
             "colorbar": {
              "outlinewidth": 0,
              "ticks": ""
             }
            },
            "type": "scattermapbox"
           }
          ],
          "scatterpolar": [
           {
            "marker": {
             "colorbar": {
              "outlinewidth": 0,
              "ticks": ""
             }
            },
            "type": "scatterpolar"
           }
          ],
          "scatterpolargl": [
           {
            "marker": {
             "colorbar": {
              "outlinewidth": 0,
              "ticks": ""
             }
            },
            "type": "scatterpolargl"
           }
          ],
          "scatterternary": [
           {
            "marker": {
             "colorbar": {
              "outlinewidth": 0,
              "ticks": ""
             }
            },
            "type": "scatterternary"
           }
          ],
          "surface": [
           {
            "colorbar": {
             "outlinewidth": 0,
             "ticks": ""
            },
            "colorscale": [
             [
              0,
              "#0d0887"
             ],
             [
              0.1111111111111111,
              "#46039f"
             ],
             [
              0.2222222222222222,
              "#7201a8"
             ],
             [
              0.3333333333333333,
              "#9c179e"
             ],
             [
              0.4444444444444444,
              "#bd3786"
             ],
             [
              0.5555555555555556,
              "#d8576b"
             ],
             [
              0.6666666666666666,
              "#ed7953"
             ],
             [
              0.7777777777777778,
              "#fb9f3a"
             ],
             [
              0.8888888888888888,
              "#fdca26"
             ],
             [
              1,
              "#f0f921"
             ]
            ],
            "type": "surface"
           }
          ],
          "table": [
           {
            "cells": {
             "fill": {
              "color": "#EBF0F8"
             },
             "line": {
              "color": "white"
             }
            },
            "header": {
             "fill": {
              "color": "#C8D4E3"
             },
             "line": {
              "color": "white"
             }
            },
            "type": "table"
           }
          ]
         },
         "layout": {
          "annotationdefaults": {
           "arrowcolor": "#2a3f5f",
           "arrowhead": 0,
           "arrowwidth": 1
          },
          "autotypenumbers": "strict",
          "coloraxis": {
           "colorbar": {
            "outlinewidth": 0,
            "ticks": ""
           }
          },
          "colorscale": {
           "diverging": [
            [
             0,
             "#8e0152"
            ],
            [
             0.1,
             "#c51b7d"
            ],
            [
             0.2,
             "#de77ae"
            ],
            [
             0.3,
             "#f1b6da"
            ],
            [
             0.4,
             "#fde0ef"
            ],
            [
             0.5,
             "#f7f7f7"
            ],
            [
             0.6,
             "#e6f5d0"
            ],
            [
             0.7,
             "#b8e186"
            ],
            [
             0.8,
             "#7fbc41"
            ],
            [
             0.9,
             "#4d9221"
            ],
            [
             1,
             "#276419"
            ]
           ],
           "sequential": [
            [
             0,
             "#0d0887"
            ],
            [
             0.1111111111111111,
             "#46039f"
            ],
            [
             0.2222222222222222,
             "#7201a8"
            ],
            [
             0.3333333333333333,
             "#9c179e"
            ],
            [
             0.4444444444444444,
             "#bd3786"
            ],
            [
             0.5555555555555556,
             "#d8576b"
            ],
            [
             0.6666666666666666,
             "#ed7953"
            ],
            [
             0.7777777777777778,
             "#fb9f3a"
            ],
            [
             0.8888888888888888,
             "#fdca26"
            ],
            [
             1,
             "#f0f921"
            ]
           ],
           "sequentialminus": [
            [
             0,
             "#0d0887"
            ],
            [
             0.1111111111111111,
             "#46039f"
            ],
            [
             0.2222222222222222,
             "#7201a8"
            ],
            [
             0.3333333333333333,
             "#9c179e"
            ],
            [
             0.4444444444444444,
             "#bd3786"
            ],
            [
             0.5555555555555556,
             "#d8576b"
            ],
            [
             0.6666666666666666,
             "#ed7953"
            ],
            [
             0.7777777777777778,
             "#fb9f3a"
            ],
            [
             0.8888888888888888,
             "#fdca26"
            ],
            [
             1,
             "#f0f921"
            ]
           ]
          },
          "colorway": [
           "#636efa",
           "#EF553B",
           "#00cc96",
           "#ab63fa",
           "#FFA15A",
           "#19d3f3",
           "#FF6692",
           "#B6E880",
           "#FF97FF",
           "#FECB52"
          ],
          "font": {
           "color": "#2a3f5f"
          },
          "geo": {
           "bgcolor": "white",
           "lakecolor": "white",
           "landcolor": "#E5ECF6",
           "showlakes": true,
           "showland": true,
           "subunitcolor": "white"
          },
          "hoverlabel": {
           "align": "left"
          },
          "hovermode": "closest",
          "mapbox": {
           "style": "light"
          },
          "paper_bgcolor": "white",
          "plot_bgcolor": "#E5ECF6",
          "polar": {
           "angularaxis": {
            "gridcolor": "white",
            "linecolor": "white",
            "ticks": ""
           },
           "bgcolor": "#E5ECF6",
           "radialaxis": {
            "gridcolor": "white",
            "linecolor": "white",
            "ticks": ""
           }
          },
          "scene": {
           "xaxis": {
            "backgroundcolor": "#E5ECF6",
            "gridcolor": "white",
            "gridwidth": 2,
            "linecolor": "white",
            "showbackground": true,
            "ticks": "",
            "zerolinecolor": "white"
           },
           "yaxis": {
            "backgroundcolor": "#E5ECF6",
            "gridcolor": "white",
            "gridwidth": 2,
            "linecolor": "white",
            "showbackground": true,
            "ticks": "",
            "zerolinecolor": "white"
           },
           "zaxis": {
            "backgroundcolor": "#E5ECF6",
            "gridcolor": "white",
            "gridwidth": 2,
            "linecolor": "white",
            "showbackground": true,
            "ticks": "",
            "zerolinecolor": "white"
           }
          },
          "shapedefaults": {
           "line": {
            "color": "#2a3f5f"
           }
          },
          "ternary": {
           "aaxis": {
            "gridcolor": "white",
            "linecolor": "white",
            "ticks": ""
           },
           "baxis": {
            "gridcolor": "white",
            "linecolor": "white",
            "ticks": ""
           },
           "bgcolor": "#E5ECF6",
           "caxis": {
            "gridcolor": "white",
            "linecolor": "white",
            "ticks": ""
           }
          },
          "title": {
           "x": 0.05
          },
          "xaxis": {
           "automargin": true,
           "gridcolor": "white",
           "linecolor": "white",
           "ticks": "",
           "title": {
            "standoff": 15
           },
           "zerolinecolor": "white",
           "zerolinewidth": 2
          },
          "yaxis": {
           "automargin": true,
           "gridcolor": "white",
           "linecolor": "white",
           "ticks": "",
           "title": {
            "standoff": 15
           },
           "zerolinecolor": "white",
           "zerolinewidth": 2
          }
         }
        },
        "title": {
         "font": {
          "size": 18
         },
         "text": "Hubungan Waktu Pengiriman dan Rating (Highlight: Kebab)"
        },
        "xaxis": {
         "anchor": "y",
         "domain": [
          0,
          1
         ],
         "gridcolor": "lightgray",
         "title": {
          "text": "menit"
         }
        },
        "yaxis": {
         "anchor": "x",
         "domain": [
          0,
          1
         ],
         "gridcolor": "lightgray",
         "title": {
          "text": "Rating"
         }
        }
       }
      }
     },
     "metadata": {},
     "output_type": "display_data"
    },
    {
     "data": {
      "image/png": "[encoded data removed]",
      "text/plain": [
       "<Figure size 1800x1000 with 1 Axes>"
      ]
     },
     "metadata": {},
     "output_type": "display_data"
    }
   ],
   "source": [
    "# Tambahkan kolom bantu agar semua dianggap Kebab\n",
    "df_vis = df_swiggy_no_outlier[df_swiggy_no_outlier['Food type'] == 'Kebabs']\n",
    "\n",
    "# Plot scatter chart\n",
    "fig = px.scatter(\n",
    "    df_vis,\n",
    "    x='Delivery time',\n",
    "    y='Avg ratings',\n",
    "    color='Food type',  # hanya satu kategori: Kebab\n",
    "    hover_data=['City', 'Restaurant', 'Food type'],\n",
    "    trendline='ols',\n",
    "    title='Hubungan Waktu Pengiriman dan Rating (Highlight: Kebab)',\n",
    "    labels={\n",
    "        'Delivery time': 'menit',\n",
    "        'Avg ratings': 'Rating',\n",
    "        'Food Category': 'Tipe Makanan'  # Nama di legend\n",
    "    },\n",
    "    opacity=0.7\n",
    ")\n",
    "\n",
    "fig.update_layout(\n",
    "    title_font_size=18,\n",
    "    plot_bgcolor='white',\n",
    "    xaxis=dict(gridcolor='lightgray'),\n",
    "    yaxis=dict(gridcolor='lightgray')\n",
    ")\n",
    "\n",
    "fig.show()\n",
    "\n",
    "img = mpimg.imread('waktupengiriman_dan_rating.png')\n",
    "plt.figure(figsize=(18, 10))\n",
    "plt.imshow(img)\n",
    "plt.axis('off')  # Hide axes\n",
    "plt.show()"
   ]
  },
  {
   "cell_type": "markdown",
   "id": "d8df5a29",
   "metadata": {},
   "source": [
    "Chart di atas menunjukkan hubungan antara waktu pengiriman (dalam menit) dan rating pelanggan pada semua tipe makanan, namun secara visual hanya ditandai sebagai satu kategori yaitu \"Kebab\" (untuk menyoroti fokus analisis).\n",
    "\n",
    "Dari scatter plot tersebut, dapat dilihat bahwa mayoritas rating berkisar antara 3 hingga 5, dengan distribusi titik yang cukup padat di waktu pengiriman sekitar 30 hingga 60 menit. Terdapat garis tren regresi dengan kemiringan negatif, yang mengindikasikan adanya korelasi negatif lemah antara waktu pengiriman dan rating. Artinya, semakin lama waktu pengiriman, rating cenderung menurun, walaupun penurunannya tidak drastis.\n",
    "\n",
    "Kesimpulannya, meskipun pengaruhnya kecil, kecepatan pengiriman tetap memiliki dampak yang signifikan secara statistik terhadap kepuasan pelanggan. Maka, menjaga efisiensi waktu pengantaran tetap penting untuk mempertahankan rating tinggi, terutama dalam konteks makanan seperti kebab."
   ]
  },
  {
   "cell_type": "markdown",
   "id": "70899e60",
   "metadata": {},
   "source": [
    "## 7. Menganalisa apakah terdapat korelasi antara rating terhadap harga"
   ]
  },
  {
   "cell_type": "markdown",
   "id": "1d813b87",
   "metadata": {},
   "source": [
    "untuk uji korelasi kedua kita akan mencari tau apakah rating ada hubunganya dengan harga, karena ini sangat berpengaruhdalam penentuan harga nantinya agar lebih objektif dan sesuai dengan target"
   ]
  },
  {
   "cell_type": "markdown",
   "id": "059b30c8",
   "metadata": {},
   "source": [
    "### Menggunakan Confidence Interval 95 % Untuk Mencari Nilai Minimum dan Maksimum Harga"
   ]
  },
  {
   "cell_type": "code",
   "execution_count": 33,
   "id": "74ba530f",
   "metadata": {},
   "outputs": [
    {
     "name": "stdout",
     "output_type": "stream",
     "text": [
      "Nilai Skewness dari Harga : 2.4115709322118404\n"
     ]
    }
   ],
   "source": [
    "skew = df_swiggy['Price'].skew()\n",
    "print(f'Nilai Skewness dari Harga : {skew}')"
   ]
  },
  {
   "cell_type": "markdown",
   "id": "81c7a127",
   "metadata": {},
   "source": [
    "berdasarkan data skew hanya menghasilkan nilai (2.411) lumayan condong ke kanan sedikit sehingga data masih tergolong normal"
   ]
  },
  {
   "cell_type": "markdown",
   "id": "3ef10844",
   "metadata": {},
   "source": [
    "untuk benchmark harga relative tidak jauh yang menandakan bahwa data Harga normal mendekati sempurna"
   ]
  },
  {
   "cell_type": "markdown",
   "id": "db1ca65e",
   "metadata": {},
   "source": [
    "### Menggunakan z-score untuk mengatasi outlier dengan data normal"
   ]
  },
  {
   "cell_type": "code",
   "execution_count": 34,
   "id": "09f54755",
   "metadata": {},
   "outputs": [
    {
     "name": "stdout",
     "output_type": "stream",
     "text": [
      "Upper : 1071.46\n",
      "Lower : -344.59\n",
      "Presentase dari outliers: 2.45%%\n"
     ]
    }
   ],
   "source": [
    "avg = df_swiggy['Price'].mean()\n",
    "std = df_swiggy['Price'].std()\n",
    "\n",
    "up_bound = avg + 3*std\n",
    "low_bound = avg - 3*std\n",
    "\n",
    "print(f'Upper : {up_bound:.2f}' )\n",
    "print(f'Lower : {low_bound:.2f}')\n",
    "\n",
    "outlier = df_swiggy['Price'][(df_swiggy['Price']<low_bound) | (df_swiggy['Price']>up_bound)]\n",
    "\n",
    "print(f'Presentase dari outliers: {len(outlier)*100/len(df_swiggy['Price']):.2f}%%')\n",
    "\n",
    "# membuat dataframe baru dengan data tanpa outlier\n",
    "df_swiggy_no_outlier = df_swiggy[(df_swiggy['Price']>=low_bound) & (df_swiggy['Price']<=up_bound)]"
   ]
  },
  {
   "cell_type": "markdown",
   "id": "e7257000",
   "metadata": {},
   "source": [
    "- Upper: 1071.46 → Batas atas dari nilai normal (di atas ini dianggap outlier).\n",
    "\n",
    "- Lower: -344.59 → Batas bawah dari nilai normal (di bawah ini dianggap outlier).\n",
    "\n",
    "- Persentase outlier: 2.45% → Hanya 2.45% data yang berada di luar batas normal, jadi hampir semua data berada dalam rentang yang wajar.\n",
    "\n",
    "Artinya, data sangat bersih dan minim anomali. Jadi Data memiliki distribusi yang normal dan stabil, dengan hanya 0.11% outlier, sehingga dapat dipercaya untuk analisis dan pengambilan keputusan."
   ]
  },
  {
   "cell_type": "markdown",
   "id": "a852199e",
   "metadata": {},
   "source": [
    "### Menggunakan Pearson untuk menguji korelasi"
   ]
  },
  {
   "cell_type": "code",
   "execution_count": 35,
   "id": "59b72fa6",
   "metadata": {},
   "outputs": [
    {
     "name": "stdout",
     "output_type": "stream",
     "text": [
      "rho-correlation: 0.13, p-value: 1.9479837062999636e-92\n",
      "\n",
      "H1 diterima : Ada hubungan signifikan antara Harga dan Rating.\n",
      "\n",
      "Korelasi positif: semakin tinggi harga, rating semakin naik.\n",
      "\n"
     ]
    }
   ],
   "source": [
    "corr_rho, pval_s = stats.pearsonr(df_swiggy_no_outlier['Price'], df_swiggy_no_outlier['Avg ratings'])\n",
    "\n",
    "print(f\"rho-correlation: {corr_rho:.2f}, p-value: {pval_s}\\n\")\n",
    "\n",
    "# Interpretasi\n",
    "if pval_s < 0.05:\n",
    "    print(\"H1 diterima : Ada hubungan signifikan antara Harga dan Rating.\\n\")\n",
    "    if corr_rho < 0:\n",
    "        print(\"Korelasi negatif: semakin turun Harga, rating semakin turun.\\n\")\n",
    "    else:\n",
    "        print(\"Korelasi positif: semakin tinggi harga, rating semakin naik.\\n\")\n",
    "else:\n",
    "    print(\"H0 diterima : Tidak ada hubungan signifikan antara harga dan Rating.\\n\")"
   ]
  },
  {
   "cell_type": "markdown",
   "id": "1e86e04f",
   "metadata": {},
   "source": [
    "Berdasarkan hasil analisis, diperoleh nilai korelasi Pearson sebesar 0.13 dengan p-value yang sangat kecil (p < 0.001), yang menunjukkan bahwa terdapat hubungan signifikan antara harga dan rating. Meskipun kekuatan korelasinya lemah, arah korelasi yang positif mengindikasikan bahwa semakin tinggi harga suatu makanan, cenderung semakin tinggi pula rating yang diberikan oleh pelanggan. Ini bisa mengarah pada persepsi bahwa makanan dengan harga lebih tinggi dianggap lebih berkualitas."
   ]
  },
  {
   "cell_type": "markdown",
   "id": "2c5294ff",
   "metadata": {},
   "source": [
    "### Scatter plot untuk memvisualisasikan analisa korelasi"
   ]
  },
  {
   "cell_type": "code",
   "execution_count": 36,
   "id": "38c4e700",
   "metadata": {},
   "outputs": [
    {
     "data": {
      "application/vnd.plotly.v1+json": {
       "config": {
        "plotlyServerURL": "https://plot.ly"
       },
       "data": [
        {
         "customdata": [
          [
           "Hyderabad",
           "Sarvi Restaurant",
           "Kebabs"
          ],
          [
           "Bangalore",
           "Khan Saheb Grills And Rolls",
           "Kebabs"
          ],
          [
           "Bangalore",
           "Fanoos",
           "Kebabs"
          ],
          [
           "Kolkata",
           "Aminia Restaurant- Golpark",
           "Kebabs"
          ],
          [
           "Kolkata",
           "Sharma Dhaba",
           "Kebabs"
          ],
          [
           "Bangalore",
           "Kund Indian Barbeque",
           "Kebabs"
          ],
          [
           "Kolkata",
           "Jai Hind Dhaba",
           "Kebabs"
          ],
          [
           "Pune",
           "Marrakesh",
           "Kebabs"
          ],
          [
           "Hyderabad",
           "Grand Hotel",
           "Kebabs"
          ],
          [
           "Hyderabad",
           "Mehfil",
           "Kebabs"
          ],
          [
           "Kolkata",
           "Shiraz Golden Restaurant",
           "Kebabs"
          ],
          [
           "Hyderabad",
           "Bawarchi",
           "Kebabs"
          ],
          [
           "Kolkata",
           "Second House",
           "Kebabs"
          ],
          [
           "Delhi",
           "Mikky Peshawari Chicken & Fish (Since 1998)",
           "Kebabs"
          ],
          [
           "Kolkata",
           "Aminia- Hatibagan",
           "Kebabs"
          ],
          [
           "Kolkata",
           "Arsalan Park Circus",
           "Kebabs"
          ],
          [
           "Delhi",
           "Behrouz Biryani",
           "Kebabs"
          ],
          [
           "Hyderabad",
           "Exotica",
           "Kebabs"
          ],
          [
           "Mumbai",
           "Capital Social",
           "Kebabs"
          ],
          [
           "Mumbai",
           "Behrouz Biryani",
           "Kebabs"
          ],
          [
           "Bangalore",
           "Church Street Social",
           "Kebabs"
          ],
          [
           "Chennai",
           "Sigree",
           "Kebabs"
          ],
          [
           "Delhi",
           "Sfc Soya Chaap ( Shalimar Bagh)",
           "Kebabs"
          ],
          [
           "Chennai",
           "Hotel Arafa",
           "Kebabs"
          ],
          [
           "Kolkata",
           "Foodpath",
           "Kebabs"
          ],
          [
           "Mumbai",
           "Lucky Restaurant (Chembur)",
           "Kebabs"
          ],
          [
           "Chennai",
           "Grill House",
           "Kebabs"
          ],
          [
           "Hyderabad",
           "Meridian Restaurant",
           "Kebabs"
          ],
          [
           "Chennai",
           "Hotel Rolex",
           "Kebabs"
          ],
          [
           "Pune",
           "Rk Biryani House",
           "Kebabs"
          ],
          [
           "Mumbai",
           "Bandra Grillz",
           "Kebabs"
          ],
          [
           "Mumbai",
           "Punjabi Roots",
           "Kebabs"
          ],
          [
           "Delhi",
           "Street Foods By Punjab Grill",
           "Kebabs"
          ],
          [
           "Mumbai",
           "Belly Darbar",
           "Kebabs"
          ],
          [
           "Kolkata",
           "Zafran",
           "Kebabs"
          ],
          [
           "Ahmedabad",
           "Behrouz Biryani",
           "Kebabs"
          ],
          [
           "Mumbai",
           "Red Spice",
           "Kebabs"
          ],
          [
           "Chennai",
           "Urban Spatula",
           "Kebabs"
          ],
          [
           "Chennai",
           "Rizwan Biriyani And Kabab Center",
           "Kebabs"
          ],
          [
           "Hyderabad",
           "Prince Restaurant",
           "Kebabs"
          ],
          [
           "Chennai",
           "Kings Kitchen",
           "Kebabs"
          ],
          [
           "Hyderabad",
           "Capital Multi Cuisine Restaurant",
           "Kebabs"
          ],
          [
           "Mumbai",
           "Blend N Brew",
           "Kebabs"
          ],
          [
           "Mumbai",
           "Copper Chimney",
           "Kebabs"
          ],
          [
           "Pune",
           "Biryani Kebabs & Co",
           "Kebabs"
          ],
          [
           "Bangalore",
           "Sharief Bhai",
           "Kebabs"
          ],
          [
           "Pune",
           "Baraza Bars & Bites",
           "Kebabs"
          ],
          [
           "Mumbai",
           "Punjab Grill",
           "Kebabs"
          ],
          [
           "Delhi",
           "Biryani Blues",
           "Kebabs"
          ],
          [
           "Kolkata",
           "The Biryani Inc.",
           "Kebabs"
          ],
          [
           "Pune",
           "Saffron Exotic Family Restaurant",
           "Kebabs"
          ],
          [
           "Bangalore",
           "Savoury",
           "Kebabs"
          ],
          [
           "Hyderabad",
           "Hotel Rumaan",
           "Kebabs"
          ],
          [
           "Bangalore",
           "Ubq By Barbeque Nation",
           "Kebabs"
          ],
          [
           "Hyderabad",
           "Hotel Shadab",
           "Kebabs"
          ],
          [
           "Pune",
           "Fc Road Social",
           "Kebabs"
          ],
          [
           "Hyderabad",
           "Redaan Restaurant",
           "Kebabs"
          ],
          [
           "Delhi",
           "Ubq By Barbeque Nation",
           "Kebabs"
          ],
          [
           "Chennai",
           "Ubq By Barbeque Nation",
           "Kebabs"
          ],
          [
           "Mumbai",
           "Ranjana'S Rannaghor - The Bengali Kitchen",
           "Kebabs"
          ],
          [
           "Pune",
           "Ubq By Barbeque Nation",
           "Kebabs"
          ],
          [
           "Ahmedabad",
           "Ubq By Barbeque Nation",
           "Kebabs"
          ],
          [
           "Kolkata",
           "Oudh 1590",
           "Kebabs"
          ],
          [
           "Surat",
           "Classic Chicken Mamna (Tandoori & Paratha)",
           "Kebabs"
          ],
          [
           "Chennai",
           "Star Biriyani And Fast Food",
           "Kebabs"
          ],
          [
           "Bangalore",
           "Rang De Basanti Dhaba",
           "Kebabs"
          ],
          [
           "Hyderabad",
           "Combo Stories By 10D Express",
           "Kebabs"
          ],
          [
           "Mumbai",
           "Roots Of India",
           "Kebabs"
          ],
          [
           "Chennai",
           "Aks Kabab",
           "Kebabs"
          ],
          [
           "Kolkata",
           "24 Grains",
           "Kebabs"
          ],
          [
           "Chennai",
           "Silver Spoon",
           "Kebabs"
          ],
          [
           "Chennai",
           "Desi Street",
           "Kebabs"
          ],
          [
           "Kolkata",
           "Tandoor Box",
           "Kebabs"
          ],
          [
           "Kolkata",
           "Be Kebabii",
           "Kebabs"
          ],
          [
           "Kolkata",
           "Chaccha Jaan - Biryani Kebabs & Curries",
           "Kebabs"
          ],
          [
           "Bangalore",
           "Khichdi Experiment",
           "Kebabs"
          ],
          [
           "Pune",
           "Khichdi Experiment",
           "Kebabs"
          ],
          [
           "Kolkata",
           "Kathi On The Go",
           "Kebabs"
          ],
          [
           "Surat",
           "Behrouz Biryani",
           "Kebabs"
          ],
          [
           "Bangalore",
           "Paradise Biryani",
           "Kebabs"
          ],
          [
           "Hyderabad",
           "Abids Bistro  Royalton Hotel",
           "Kebabs"
          ],
          [
           "Pune",
           "Bebe Di Rasoi - Punjabi",
           "Kebabs"
          ],
          [
           "Kolkata",
           "Riyasat-E-Hind",
           "Kebabs"
          ],
          [
           "Chennai",
           "The Bowl Company",
           "Kebabs"
          ],
          [
           "Delhi",
           "Khichdi Experiment",
           "Kebabs"
          ],
          [
           "Mumbai",
           "Khichdi Experiment",
           "Kebabs"
          ],
          [
           "Kolkata",
           "Adil Biryani Restaurant",
           "Kebabs"
          ],
          [
           "Kolkata",
           "Kebabs In Roll - Ramlal Bazar",
           "Kebabs"
          ],
          [
           "Mumbai",
           "The Kitchen  (Chinese & Grills)",
           "Kebabs"
          ],
          [
           "Hyderabad",
           "Hotel Niagara",
           "Kebabs"
          ],
          [
           "Pune",
           "Cnp House - Chicken And Paratha",
           "Kebabs"
          ],
          [
           "Bangalore",
           "The Bowl Life",
           "Kebabs"
          ],
          [
           "Delhi",
           "Bowlsome",
           "Kebabs"
          ],
          [
           "Chennai",
           "Behrouz Biryani",
           "Kebabs"
          ],
          [
           "Chennai",
           "Lucky Da Punjabi Dhabba",
           "Kebabs"
          ],
          [
           "Pune",
           "Behrouz Biryani",
           "Kebabs"
          ],
          [
           "Bangalore",
           "The Biryani Experiment",
           "Kebabs"
          ],
          [
           "Mumbai",
           "Bowlsome",
           "Kebabs"
          ],
          [
           "Hyderabad",
           "Behrouz Biryani",
           "Kebabs"
          ],
          [
           "Hyderabad",
           "Palamuru Grill",
           "Kebabs"
          ],
          [
           "Kolkata",
           "Kouzina Express",
           "Kebabs"
          ],
          [
           "Kolkata",
           "Galouti",
           "Kebabs"
          ],
          [
           "Hyderabad",
           "Rumaan Restaurant",
           "Kebabs"
          ],
          [
           "Chennai",
           "Paradise Biryani",
           "Kebabs"
          ],
          [
           "Kolkata",
           "Paradise Biryani",
           "Kebabs"
          ],
          [
           "Mumbai",
           "The Biryani Experiment",
           "Kebabs"
          ],
          [
           "Kolkata",
           "Tadka",
           "Kebabs"
          ],
          [
           "Pune",
           "Lost Heaven",
           "Kebabs"
          ],
          [
           "Pune",
           "Biryani By Kilo",
           "Kebabs"
          ],
          [
           "Hyderabad",
           "Imperial Multi-Cuisine Restaurant",
           "Kebabs"
          ],
          [
           "Hyderabad",
           "A-1 Chicken Pakoda",
           "Kebabs"
          ],
          [
           "Bangalore",
           "Sikandar Rolls",
           "Kebabs"
          ],
          [
           "Chennai",
           "The Great Kabab Factory",
           "Kebabs"
          ],
          [
           "Mumbai",
           "Itc Maratha - Gourmet Couch",
           "Kebabs"
          ],
          [
           "Kolkata",
           "Itc Royal Bengal - Gourmet Couch",
           "Kebabs"
          ],
          [
           "Kolkata",
           "Calcutta Cravings",
           "Kebabs"
          ],
          [
           "Ahmedabad",
           "Barbeque Nation",
           "Kebabs"
          ],
          [
           "Surat",
           "Barbeque Nation",
           "Kebabs"
          ],
          [
           "Delhi",
           "Andhra Kodi Pulao",
           "Kebabs"
          ],
          [
           "Delhi",
           "Barbeque Nation",
           "Kebabs"
          ],
          [
           "Bangalore",
           "Barbeque Nation",
           "Kebabs"
          ],
          [
           "Bangalore",
           "Abc Kolkata Kitchen",
           "Kebabs"
          ],
          [
           "Hyderabad",
           "Biryani Tales -By Rayalaseema Ruchulu",
           "Kebabs"
          ],
          [
           "Mumbai",
           "The White Barn",
           "Kebabs"
          ],
          [
           "Chennai",
           "Maalgaadi By Dhaba Estd 1986 Delhi",
           "Kebabs"
          ],
          [
           "Pune",
           "Barbeque Nation",
           "Kebabs"
          ],
          [
           "Pune",
           "Nawabi Kebabs By Fml",
           "Kebabs"
          ],
          [
           "Chennai",
           "Barbeque Nation",
           "Kebabs"
          ],
          [
           "Kolkata",
           "Biryani Q&Q",
           "Kebabs"
          ],
          [
           "Bangalore",
           "Dhishoom -Dhaba By Salt",
           "Kebabs"
          ],
          [
           "Surat",
           "Makhni Brothers",
           "Kebabs"
          ],
          [
           "Mumbai",
           "Opa! Bar & Cafe",
           "Kebabs"
          ],
          [
           "Kolkata",
           "Miyansaab",
           "Kebabs"
          ],
          [
           "Bangalore",
           "Craft Of Biryani",
           "Kebabs"
          ],
          [
           "Chennai",
           "Copper Chimney",
           "Kebabs"
          ],
          [
           "Chennai",
           "Punjab Grill",
           "Kebabs"
          ],
          [
           "Kolkata",
           "Yaara Da Dhaba",
           "Kebabs"
          ],
          [
           "Kolkata",
           "Tandoori Pitara",
           "Kebabs"
          ],
          [
           "Chennai",
           "Mount Road Social",
           "Kebabs"
          ],
          [
           "Chennai",
           "Sha Cafe",
           "Kebabs"
          ],
          [
           "Pune",
           "The Biryani Experiment",
           "Kebabs"
          ],
          [
           "Delhi",
           "The Biryani Experiment",
           "Kebabs"
          ],
          [
           "Kolkata",
           "Behrouz Biryani",
           "Kebabs"
          ],
          [
           "Kolkata",
           "Bukhara - Biryani Kebabs & Curries",
           "Kebabs"
          ],
          [
           "Kolkata",
           "Behnam",
           "Kebabs"
          ],
          [
           "Mumbai",
           "Charcoal Eats - Biryani & Beyond",
           "Kebabs"
          ],
          [
           "Chennai",
           "Kebabistaan",
           "Kebabs"
          ],
          [
           "Hyderabad",
           "Nasheman Hotel  Altaf Bakery",
           "Kebabs"
          ],
          [
           "Mumbai",
           "Kebab Flare",
           "Kebabs"
          ],
          [
           "Chennai",
           "Alibaba Shawarma And 40 Dishes",
           "Kebabs"
          ],
          [
           "Delhi",
           "Punjabi Angithi",
           "Kebabs"
          ],
          [
           "Mumbai",
           "Bayleaf - By Good Food Co",
           "Kebabs"
          ],
          [
           "Mumbai",
           "Krowns Kitchen",
           "Kebabs"
          ],
          [
           "Kolkata",
           "Biryani By Kilo",
           "Kebabs"
          ],
          [
           "Chennai",
           "Bun Kebab",
           "Kebabs"
          ],
          [
           "Chennai",
           "Babal Da Punjabi Dabha",
           "Kebabs"
          ],
          [
           "Pune",
           "The Little Punjab",
           "Kebabs"
          ],
          [
           "Kolkata",
           "Galawat",
           "Kebabs"
          ],
          [
           "Delhi",
           "Chicken Bites",
           "Kebabs"
          ],
          [
           "Bangalore",
           "Itc Master Chef Creations",
           "Kebabs"
          ],
          [
           "Kolkata",
           "Rang De Basanti Dhaba",
           "Kebabs"
          ],
          [
           "Delhi",
           "Sardar Ji Family Restaurant (Raja Garden)",
           "Kebabs"
          ],
          [
           "Bangalore",
           "Responsible Biryani",
           "Kebabs"
          ],
          [
           "Kolkata",
           "Container Kebab By Baba Rafi",
           "Kebabs"
          ],
          [
           "Mumbai",
           "Babu Moshai - The Bong Foodie",
           "Kebabs"
          ],
          [
           "Bangalore",
           "Badmaash",
           "Kebabs"
          ],
          [
           "Mumbai",
           "Sip N Dine Bar And Restaurant",
           "Kebabs"
          ],
          [
           "Hyderabad",
           "Khichdi Experiment",
           "Kebabs"
          ],
          [
           "Hyderabad",
           "Bowlsome",
           "Kebabs"
          ],
          [
           "Hyderabad",
           "The Biryani Experiment",
           "Kebabs"
          ],
          [
           "Pune",
           "Kareem'S",
           "Kebabs"
          ],
          [
           "Hyderabad",
           "Lucky Restaurant",
           "Kebabs"
          ],
          [
           "Chennai",
           "Kev'S Abra'Kebab'Ra - The Kebab Shack",
           "Kebabs"
          ],
          [
           "Hyderabad",
           "New Handi Biryani",
           "Kebabs"
          ],
          [
           "Kolkata",
           "Foodland",
           "Kebabs"
          ],
          [
           "Delhi",
           "Tamba",
           "Kebabs"
          ],
          [
           "Bangalore",
           "Rumi",
           "Kebabs"
          ],
          [
           "Kolkata",
           "Uns Cafe & Dining",
           "Kebabs"
          ],
          [
           "Bangalore",
           "India Bistro",
           "Kebabs"
          ],
          [
           "Kolkata",
           "Namak",
           "Kebabs"
          ],
          [
           "Kolkata",
           "Dumghan",
           "Kebabs"
          ],
          [
           "Bangalore",
           "Friends Chinese Corner",
           "Kebabs"
          ],
          [
           "Pune",
           "Rambo'S Biryani House",
           "Kebabs"
          ],
          [
           "Chennai",
           "Tommys Kitchen",
           "Kebabs"
          ],
          [
           "Mumbai",
           "Star Restaurant",
           "Kebabs"
          ],
          [
           "Kolkata",
           "Kbc-Kolkata Biryani Co",
           "Kebabs"
          ],
          [
           "Kolkata",
           "Calcutta Calling",
           "Kebabs"
          ],
          [
           "Bangalore",
           "Biryani By Kilo",
           "Kebabs"
          ],
          [
           "Kolkata",
           "Tripti Snacks Bar",
           "Kebabs"
          ],
          [
           "Kolkata",
           "Buddy Bites",
           "Kebabs"
          ],
          [
           "Kolkata",
           "Bonophool Restaurant",
           "Kebabs"
          ],
          [
           "Mumbai",
           "Marrakesh",
           "Kebabs"
          ],
          [
           "Pune",
           "Crunchy Chicken Chunks .C3",
           "Kebabs"
          ],
          [
           "Bangalore",
           "Aligarh House",
           "Kebabs"
          ],
          [
           "Hyderabad",
           "Potful - Claypot Biryanis",
           "Kebabs"
          ],
          [
           "Bangalore",
           "Behrouz Biryani",
           "Kebabs"
          ],
          [
           "Kolkata",
           "Yo Chelo",
           "Kebabs"
          ],
          [
           "Bangalore",
           "Five Star Chicken And Koli Hut",
           "Kebabs"
          ],
          [
           "Mumbai",
           "Tandoori Pizza",
           "Kebabs"
          ],
          [
           "Mumbai",
           "Al Zaiqa",
           "Kebabs"
          ],
          [
           "Bangalore",
           "Coal Flame Biriyaani",
           "Kebabs"
          ],
          [
           "Delhi",
           "The Tangdi Club",
           "Kebabs"
          ],
          [
           "Pune",
           "Kareem'S",
           "Kebabs"
          ],
          [
           "Bangalore",
           "The Bowl Company",
           "Kebabs"
          ],
          [
           "Kolkata",
           "Poached Onion",
           "Kebabs"
          ],
          [
           "Mumbai",
           "Mini Pakwan Dry And Fry",
           "Kebabs"
          ],
          [
           "Chennai",
           "Khichdi Experiment",
           "Kebabs"
          ],
          [
           "Chennai",
           "The Biryani Experiment",
           "Kebabs"
          ],
          [
           "Chennai",
           "Bowlsome",
           "Kebabs"
          ],
          [
           "Delhi",
           "Hamiz Laziz Foods",
           "Kebabs"
          ],
          [
           "Bangalore",
           "Hopshaus",
           "Kebabs"
          ],
          [
           "Kolkata",
           "Sultanat E Biryani By Purple Foods",
           "Kebabs"
          ],
          [
           "Mumbai",
           "Kebabville",
           "Kebabs"
          ],
          [
           "Pune",
           "The Land Of Chenab",
           "Kebabs"
          ],
          [
           "Delhi",
           "Kalaunji By Sticky Rice",
           "Kebabs"
          ],
          [
           "Bangalore",
           "Barbecue By Punjab Grill",
           "Kebabs"
          ],
          [
           "Bangalore",
           "Bheemavarma'S Biryani",
           "Kebabs"
          ],
          [
           "Pune",
           "Ottoman Eats",
           "Kebabs"
          ],
          [
           "Kolkata",
           "The Shiraaz",
           "Kebabs"
          ],
          [
           "Kolkata",
           "Real Food'S",
           "Kebabs"
          ],
          [
           "Mumbai",
           "Khaabuja",
           "Kebabs"
          ],
          [
           "Kolkata",
           "Frytry",
           "Kebabs"
          ],
          [
           "Bangalore",
           "Hungry Budget",
           "Kebabs"
          ],
          [
           "Bangalore",
           "Biryani Blues",
           "Kebabs"
          ],
          [
           "Hyderabad",
           "Hyderabadish",
           "Kebabs"
          ],
          [
           "Hyderabad",
           "Ys Mandi",
           "Kebabs"
          ],
          [
           "Chennai",
           "Kambi Kari",
           "Kebabs"
          ],
          [
           "Bangalore",
           "Rnr Biryani - Taste Of 1953",
           "Kebabs"
          ],
          [
           "Kolkata",
           "Biryani Kingdom",
           "Kebabs"
          ],
          [
           "Ahmedabad",
           "Dum Pe Dum",
           "Kebabs"
          ],
          [
           "Mumbai",
           "Marol Fusion Food By D'Unik",
           "Kebabs"
          ],
          [
           "Mumbai",
           "D'Unik Fusion Food",
           "Kebabs"
          ],
          [
           "Hyderabad",
           "Chulha Chowki",
           "Kebabs"
          ],
          [
           "Delhi",
           "Biryani By Kilo",
           "Kebabs"
          ],
          [
           "Mumbai",
           "Barbeque Nation",
           "Kebabs"
          ],
          [
           "Mumbai",
           "Ubq By Barbeque Nation",
           "Kebabs"
          ],
          [
           "Chennai",
           "Ammi'S Biryani",
           "Kebabs"
          ],
          [
           "Mumbai",
           "Its Shawarma",
           "Kebabs"
          ],
          [
           "Pune",
           "Swagat Veg Non Veg",
           "Kebabs"
          ],
          [
           "Ahmedabad",
           "Urban Kadhai Co.",
           "Kebabs"
          ],
          [
           "Delhi",
           "Currynama By Seven Seas",
           "Kebabs"
          ],
          [
           "Kolkata",
           "The Platter Hub",
           "Kebabs"
          ],
          [
           "Kolkata",
           "Fast Filling - Allenby Road",
           "Kebabs"
          ],
          [
           "Kolkata",
           "Fly Kouzina",
           "Kebabs"
          ],
          [
           "Kolkata",
           "Kouzina Marine",
           "Kebabs"
          ],
          [
           "Mumbai",
           "R Bhagat Tarrachand",
           "Kebabs"
          ]
         ],
         "hovertemplate": "Food type=%{customdata[2]}<br>Harga=%{x}<br>Rating=%{y}<br>City=%{customdata[0]}<br>Restaurant=%{customdata[1]}<extra></extra>",
         "legendgroup": "Kebabs",
         "marker": {
          "color": "#636efa",
          "opacity": 0.7,
          "symbol": "circle"
         },
         "mode": "markers",
         "name": "Kebabs",
         "orientation": "v",
         "showlegend": true,
         "type": "scatter",
         "x": {
          "bdata": "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",
          "dtype": "f8"
         },
         "xaxis": "x",
         "y": {
          "bdata": "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",
          "dtype": "f8"
         },
         "yaxis": "y"
        },
        {
         "hovertemplate": "<b>OLS trendline</b><br>Avg ratings = 0.000541622 * Price + 3.57269<br>R<sup>2</sup>=0.035086<br><br>Food type=Kebabs<br>Harga=%{x}<br>Rating=%{y} <b>(trend)</b><extra></extra>",
         "legendgroup": "Kebabs",
         "marker": {
          "color": "#636efa",
          "symbol": "circle"
         },
         "mode": "lines",
         "name": "Kebabs",
         "showlegend": false,
         "type": "scatter",
         "x": {
          "bdata": "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",
          "dtype": "f8"
         },
         "xaxis": "x",
         "y": {
          "bdata": "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",
          "dtype": "f8"
         },
         "yaxis": "y"
        }
       ],
       "layout": {
        "legend": {
         "title": {
          "text": "Food type"
         },
         "tracegroupgap": 0
        },
        "plot_bgcolor": "white",
        "template": {
         "data": {
          "bar": [
           {
            "error_x": {
             "color": "#2a3f5f"
            },
            "error_y": {
             "color": "#2a3f5f"
            },
            "marker": {
             "line": {
              "color": "#E5ECF6",
              "width": 0.5
             },
             "pattern": {
              "fillmode": "overlay",
              "size": 10,
              "solidity": 0.2
             }
            },
            "type": "bar"
           }
          ],
          "barpolar": [
           {
            "marker": {
             "line": {
              "color": "#E5ECF6",
              "width": 0.5
             },
             "pattern": {
              "fillmode": "overlay",
              "size": 10,
              "solidity": 0.2
             }
            },
            "type": "barpolar"
           }
          ],
          "carpet": [
           {
            "aaxis": {
             "endlinecolor": "#2a3f5f",
             "gridcolor": "white",
             "linecolor": "white",
             "minorgridcolor": "white",
             "startlinecolor": "#2a3f5f"
            },
            "baxis": {
             "endlinecolor": "#2a3f5f",
             "gridcolor": "white",
             "linecolor": "white",
             "minorgridcolor": "white",
             "startlinecolor": "#2a3f5f"
            },
            "type": "carpet"
           }
          ],
          "choropleth": [
           {
            "colorbar": {
             "outlinewidth": 0,
             "ticks": ""
            },
            "type": "choropleth"
           }
          ],
          "contour": [
           {
            "colorbar": {
             "outlinewidth": 0,
             "ticks": ""
            },
            "colorscale": [
             [
              0,
              "#0d0887"
             ],
             [
              0.1111111111111111,
              "#46039f"
             ],
             [
              0.2222222222222222,
              "#7201a8"
             ],
             [
              0.3333333333333333,
              "#9c179e"
             ],
             [
              0.4444444444444444,
              "#bd3786"
             ],
             [
              0.5555555555555556,
              "#d8576b"
             ],
             [
              0.6666666666666666,
              "#ed7953"
             ],
             [
              0.7777777777777778,
              "#fb9f3a"
             ],
             [
              0.8888888888888888,
              "#fdca26"
             ],
             [
              1,
              "#f0f921"
             ]
            ],
            "type": "contour"
           }
          ],
          "contourcarpet": [
           {
            "colorbar": {
             "outlinewidth": 0,
             "ticks": ""
            },
            "type": "contourcarpet"
           }
          ],
          "heatmap": [
           {
            "colorbar": {
             "outlinewidth": 0,
             "ticks": ""
            },
            "colorscale": [
             [
              0,
              "#0d0887"
             ],
             [
              0.1111111111111111,
              "#46039f"
             ],
             [
              0.2222222222222222,
              "#7201a8"
             ],
             [
              0.3333333333333333,
              "#9c179e"
             ],
             [
              0.4444444444444444,
              "#bd3786"
             ],
             [
              0.5555555555555556,
              "#d8576b"
             ],
             [
              0.6666666666666666,
              "#ed7953"
             ],
             [
              0.7777777777777778,
              "#fb9f3a"
             ],
             [
              0.8888888888888888,
              "#fdca26"
             ],
             [
              1,
              "#f0f921"
             ]
            ],
            "type": "heatmap"
           }
          ],
          "histogram": [
           {
            "marker": {
             "pattern": {
              "fillmode": "overlay",
              "size": 10,
              "solidity": 0.2
             }
            },
            "type": "histogram"
           }
          ],
          "histogram2d": [
           {
            "colorbar": {
             "outlinewidth": 0,
             "ticks": ""
            },
            "colorscale": [
             [
              0,
              "#0d0887"
             ],
             [
              0.1111111111111111,
              "#46039f"
             ],
             [
              0.2222222222222222,
              "#7201a8"
             ],
             [
              0.3333333333333333,
              "#9c179e"
             ],
             [
              0.4444444444444444,
              "#bd3786"
             ],
             [
              0.5555555555555556,
              "#d8576b"
             ],
             [
              0.6666666666666666,
              "#ed7953"
             ],
             [
              0.7777777777777778,
              "#fb9f3a"
             ],
             [
              0.8888888888888888,
              "#fdca26"
             ],
             [
              1,
              "#f0f921"
             ]
            ],
            "type": "histogram2d"
           }
          ],
          "histogram2dcontour": [
           {
            "colorbar": {
             "outlinewidth": 0,
             "ticks": ""
            },
            "colorscale": [
             [
              0,
              "#0d0887"
             ],
             [
              0.1111111111111111,
              "#46039f"
             ],
             [
              0.2222222222222222,
              "#7201a8"
             ],
             [
              0.3333333333333333,
              "#9c179e"
             ],
             [
              0.4444444444444444,
              "#bd3786"
             ],
             [
              0.5555555555555556,
              "#d8576b"
             ],
             [
              0.6666666666666666,
              "#ed7953"
             ],
             [
              0.7777777777777778,
              "#fb9f3a"
             ],
             [
              0.8888888888888888,
              "#fdca26"
             ],
             [
              1,
              "#f0f921"
             ]
            ],
            "type": "histogram2dcontour"
           }
          ],
          "mesh3d": [
           {
            "colorbar": {
             "outlinewidth": 0,
             "ticks": ""
            },
            "type": "mesh3d"
           }
          ],
          "parcoords": [
           {
            "line": {
             "colorbar": {
              "outlinewidth": 0,
              "ticks": ""
             }
            },
            "type": "parcoords"
           }
          ],
          "pie": [
           {
            "automargin": true,
            "type": "pie"
           }
          ],
          "scatter": [
           {
            "fillpattern": {
             "fillmode": "overlay",
             "size": 10,
             "solidity": 0.2
            },
            "type": "scatter"
           }
          ],
          "scatter3d": [
           {
            "line": {
             "colorbar": {
              "outlinewidth": 0,
              "ticks": ""
             }
            },
            "marker": {
             "colorbar": {
              "outlinewidth": 0,
              "ticks": ""
             }
            },
            "type": "scatter3d"
           }
          ],
          "scattercarpet": [
           {
            "marker": {
             "colorbar": {
              "outlinewidth": 0,
              "ticks": ""
             }
            },
            "type": "scattercarpet"
           }
          ],
          "scattergeo": [
           {
            "marker": {
             "colorbar": {
              "outlinewidth": 0,
              "ticks": ""
             }
            },
            "type": "scattergeo"
           }
          ],
          "scattergl": [
           {
            "marker": {
             "colorbar": {
              "outlinewidth": 0,
              "ticks": ""
             }
            },
            "type": "scattergl"
           }
          ],
          "scattermap": [
           {
            "marker": {
             "colorbar": {
              "outlinewidth": 0,
              "ticks": ""
             }
            },
            "type": "scattermap"
           }
          ],
          "scattermapbox": [
           {
            "marker": {
             "colorbar": {
              "outlinewidth": 0,
              "ticks": ""
             }
            },
            "type": "scattermapbox"
           }
          ],
          "scatterpolar": [
           {
            "marker": {
             "colorbar": {
              "outlinewidth": 0,
              "ticks": ""
             }
            },
            "type": "scatterpolar"
           }
          ],
          "scatterpolargl": [
           {
            "marker": {
             "colorbar": {
              "outlinewidth": 0,
              "ticks": ""
             }
            },
            "type": "scatterpolargl"
           }
          ],
          "scatterternary": [
           {
            "marker": {
             "colorbar": {
              "outlinewidth": 0,
              "ticks": ""
             }
            },
            "type": "scatterternary"
           }
          ],
          "surface": [
           {
            "colorbar": {
             "outlinewidth": 0,
             "ticks": ""
            },
            "colorscale": [
             [
              0,
              "#0d0887"
             ],
             [
              0.1111111111111111,
              "#46039f"
             ],
             [
              0.2222222222222222,
              "#7201a8"
             ],
             [
              0.3333333333333333,
              "#9c179e"
             ],
             [
              0.4444444444444444,
              "#bd3786"
             ],
             [
              0.5555555555555556,
              "#d8576b"
             ],
             [
              0.6666666666666666,
              "#ed7953"
             ],
             [
              0.7777777777777778,
              "#fb9f3a"
             ],
             [
              0.8888888888888888,
              "#fdca26"
             ],
             [
              1,
              "#f0f921"
             ]
            ],
            "type": "surface"
           }
          ],
          "table": [
           {
            "cells": {
             "fill": {
              "color": "#EBF0F8"
             },
             "line": {
              "color": "white"
             }
            },
            "header": {
             "fill": {
              "color": "#C8D4E3"
             },
             "line": {
              "color": "white"
             }
            },
            "type": "table"
           }
          ]
         },
         "layout": {
          "annotationdefaults": {
           "arrowcolor": "#2a3f5f",
           "arrowhead": 0,
           "arrowwidth": 1
          },
          "autotypenumbers": "strict",
          "coloraxis": {
           "colorbar": {
            "outlinewidth": 0,
            "ticks": ""
           }
          },
          "colorscale": {
           "diverging": [
            [
             0,
             "#8e0152"
            ],
            [
             0.1,
             "#c51b7d"
            ],
            [
             0.2,
             "#de77ae"
            ],
            [
             0.3,
             "#f1b6da"
            ],
            [
             0.4,
             "#fde0ef"
            ],
            [
             0.5,
             "#f7f7f7"
            ],
            [
             0.6,
             "#e6f5d0"
            ],
            [
             0.7,
             "#b8e186"
            ],
            [
             0.8,
             "#7fbc41"
            ],
            [
             0.9,
             "#4d9221"
            ],
            [
             1,
             "#276419"
            ]
           ],
           "sequential": [
            [
             0,
             "#0d0887"
            ],
            [
             0.1111111111111111,
             "#46039f"
            ],
            [
             0.2222222222222222,
             "#7201a8"
            ],
            [
             0.3333333333333333,
             "#9c179e"
            ],
            [
             0.4444444444444444,
             "#bd3786"
            ],
            [
             0.5555555555555556,
             "#d8576b"
            ],
            [
             0.6666666666666666,
             "#ed7953"
            ],
            [
             0.7777777777777778,
             "#fb9f3a"
            ],
            [
             0.8888888888888888,
             "#fdca26"
            ],
            [
             1,
             "#f0f921"
            ]
           ],
           "sequentialminus": [
            [
             0,
             "#0d0887"
            ],
            [
             0.1111111111111111,
             "#46039f"
            ],
            [
             0.2222222222222222,
             "#7201a8"
            ],
            [
             0.3333333333333333,
             "#9c179e"
            ],
            [
             0.4444444444444444,
             "#bd3786"
            ],
            [
             0.5555555555555556,
             "#d8576b"
            ],
            [
             0.6666666666666666,
             "#ed7953"
            ],
            [
             0.7777777777777778,
             "#fb9f3a"
            ],
            [
             0.8888888888888888,
             "#fdca26"
            ],
            [
             1,
             "#f0f921"
            ]
           ]
          },
          "colorway": [
           "#636efa",
           "#EF553B",
           "#00cc96",
           "#ab63fa",
           "#FFA15A",
           "#19d3f3",
           "#FF6692",
           "#B6E880",
           "#FF97FF",
           "#FECB52"
          ],
          "font": {
           "color": "#2a3f5f"
          },
          "geo": {
           "bgcolor": "white",
           "lakecolor": "white",
           "landcolor": "#E5ECF6",
           "showlakes": true,
           "showland": true,
           "subunitcolor": "white"
          },
          "hoverlabel": {
           "align": "left"
          },
          "hovermode": "closest",
          "mapbox": {
           "style": "light"
          },
          "paper_bgcolor": "white",
          "plot_bgcolor": "#E5ECF6",
          "polar": {
           "angularaxis": {
            "gridcolor": "white",
            "linecolor": "white",
            "ticks": ""
           },
           "bgcolor": "#E5ECF6",
           "radialaxis": {
            "gridcolor": "white",
            "linecolor": "white",
            "ticks": ""
           }
          },
          "scene": {
           "xaxis": {
            "backgroundcolor": "#E5ECF6",
            "gridcolor": "white",
            "gridwidth": 2,
            "linecolor": "white",
            "showbackground": true,
            "ticks": "",
            "zerolinecolor": "white"
           },
           "yaxis": {
            "backgroundcolor": "#E5ECF6",
            "gridcolor": "white",
            "gridwidth": 2,
            "linecolor": "white",
            "showbackground": true,
            "ticks": "",
            "zerolinecolor": "white"
           },
           "zaxis": {
            "backgroundcolor": "#E5ECF6",
            "gridcolor": "white",
            "gridwidth": 2,
            "linecolor": "white",
            "showbackground": true,
            "ticks": "",
            "zerolinecolor": "white"
           }
          },
          "shapedefaults": {
           "line": {
            "color": "#2a3f5f"
           }
          },
          "ternary": {
           "aaxis": {
            "gridcolor": "white",
            "linecolor": "white",
            "ticks": ""
           },
           "baxis": {
            "gridcolor": "white",
            "linecolor": "white",
            "ticks": ""
           },
           "bgcolor": "#E5ECF6",
           "caxis": {
            "gridcolor": "white",
            "linecolor": "white",
            "ticks": ""
           }
          },
          "title": {
           "x": 0.05
          },
          "xaxis": {
           "automargin": true,
           "gridcolor": "white",
           "linecolor": "white",
           "ticks": "",
           "title": {
            "standoff": 15
           },
           "zerolinecolor": "white",
           "zerolinewidth": 2
          },
          "yaxis": {
           "automargin": true,
           "gridcolor": "white",
           "linecolor": "white",
           "ticks": "",
           "title": {
            "standoff": 15
           },
           "zerolinecolor": "white",
           "zerolinewidth": 2
          }
         }
        },
        "title": {
         "font": {
          "size": 18
         },
         "text": "Hubungan Harga dan Rating (Highlight: Kebab)"
        },
        "xaxis": {
         "anchor": "y",
         "domain": [
          0,
          1
         ],
         "gridcolor": "lightgray",
         "title": {
          "text": "Harga"
         }
        },
        "yaxis": {
         "anchor": "x",
         "domain": [
          0,
          1
         ],
         "gridcolor": "lightgray",
         "title": {
          "text": "Rating"
         }
        }
       }
      }
     },
     "metadata": {},
     "output_type": "display_data"
    },
    {
     "data": {
      "image/png": "[encoded data removed]",
      "text/plain": [
       "<Figure size 1800x1000 with 1 Axes>"
      ]
     },
     "metadata": {},
     "output_type": "display_data"
    }
   ],
   "source": [
    "# Tambahkan kolom bantu agar semua dianggap Kebab\n",
    "df_vis = df_swiggy_no_outlier[df_swiggy_no_outlier['Food type'] == 'Kebabs']\n",
    "\n",
    "# Plot scatter chart\n",
    "fig = px.scatter(\n",
    "    df_vis,\n",
    "    x='Price',\n",
    "    y='Avg ratings',\n",
    "    color='Food type',  # hanya satu kategori: Kebab\n",
    "    hover_data=['City', 'Restaurant', 'Food type'],\n",
    "    trendline='ols',\n",
    "    title='Hubungan Harga dan Rating (Highlight: Kebab)',\n",
    "    labels={\n",
    "        'Price': 'Harga',\n",
    "        'Avg ratings': 'Rating',\n",
    "        'Food Category': 'Tipe Makanan'  # Nama di legend\n",
    "    },\n",
    "    opacity=0.7\n",
    ")\n",
    "\n",
    "fig.update_layout(\n",
    "    title_font_size=18,\n",
    "    plot_bgcolor='white',\n",
    "    xaxis=dict(gridcolor='lightgray'),\n",
    "    yaxis=dict(gridcolor='lightgray')\n",
    ")\n",
    "\n",
    "fig.show()\n",
    "img = mpimg.imread('Harga_rating.png')\n",
    "plt.figure(figsize=(18, 10))\n",
    "plt.imshow(img)\n",
    "plt.axis('off')  # Hide axes\n",
    "plt.show()"
   ]
  },
  {
   "cell_type": "markdown",
   "id": "fcd39e7c",
   "metadata": {},
   "source": [
    "Chart di atas menunjukkan hubungan antara harga makanan dan rating pelanggan, dengan fokus khusus pada kategori Kebab.\n",
    "\n",
    "Dari scatter plot ini, dapat dilihat bahwa titik-titik tersebar di seluruh rentang harga, mulai dari sangat murah hingga mendekati 1000 rupee. Rating mayoritas berkisar antara 3 hingga 5, dengan konsentrasi tinggi di sekitar harga 100–400 rupee. Garis regresi linier yang terlihat memiliki kemiringan positif, yang mengindikasikan korelasi positif lemah antara harga dan rating.\n",
    "\n",
    "Kesimpulannya, terdapat kecenderungan bahwa semakin mahal harga makanan kebab, semakin tinggi rating yang diberikan pelanggan. Meskipun hubungan ini tidak terlalu kuat, pola ini bisa menunjukkan bahwa pelanggan mungkin mengaitkan harga yang lebih tinggi dengan kualitas atau kepuasan yang lebih baik."
   ]
  },
  {
   "cell_type": "markdown",
   "id": "3340f7b1",
   "metadata": {},
   "source": [
    "## 8. Apakah Tipe Makanan Memiliki Pengaruh Terhadap Rating"
   ]
  },
  {
   "cell_type": "markdown",
   "id": "902d093c",
   "metadata": {},
   "source": [
    "&emsp;ANOVA One-Way (Analisis Varians Satu Arah) digunakan ketika kita ingin membandingkan rata-rata dari satu variabel numerik (contohnya Avg ratings) antar beberapa kelompok kategori (contohnya Food type). Dalam kasus ini:\n",
    "\n",
    "- Food type = variabel kategori (independen)\n",
    "\n",
    "- Avg ratings = variabel numerik (dependen)\n",
    "\n",
    "&emsp;ANOVA memeriksa apakah perbedaan rata-rata antar kelompok terlalu besar untuk dianggap terjadi secara kebetulan. Jika iya (ditunjukkan dengan p-value kecil), maka kita menyimpulkan bahwa kategori tersebut memang memengaruhi nilai rata-rata.\n",
    "\n",
    "jadi kita akan membuat Hipotesis pada kasus ini terlebih dahulu \n",
    "\n",
    "**H0 : Tidak terdapat pengaruh signifikan antara tipe makanan terhadap rating**\n",
    "\n",
    "**H1 : Terdapat pengaruh signifikan antara tipe makanan  terhadap rating**\n",
    "\n"
   ]
  },
  {
   "cell_type": "code",
   "execution_count": 37,
   "id": "5374dd47",
   "metadata": {},
   "outputs": [
    {
     "name": "stdout",
     "output_type": "stream",
     "text": [
      "F-statistic: 15.7358\n",
      "P-value    : 0.0000\n",
      "Terdapat pengaruh signifikan antara Food type terhadap Avg ratings.\n"
     ]
    }
   ],
   "source": [
    "# 1. Buat grup nilai berdasarkan Food Type\n",
    "grup_rating = [\n",
    "    group['Avg ratings'].dropna().values\n",
    "    for name, group in df_swiggy.groupby('Food type')\n",
    "]\n",
    "# display(grup_rating)\n",
    "# 2. Jalankan ANOVA\n",
    "f_stat, p_value = f_oneway(*grup_rating)\n",
    "\n",
    "# 3. Tampilkan hasil\n",
    "print(f\"F-statistic: {f_stat:.4f}\")\n",
    "print(f\"P-value    : {p_value:.4f}\")\n",
    "\n",
    "# 4. Interpretasi\n",
    "if p_value < 0.05:\n",
    "    print(\"Terdapat pengaruh signifikan antara Food type terhadap Avg ratings.\")\n",
    "else:\n",
    "    print(\"Tidak terdapat pengaruh signifikan antara Food type terhadap Avg ratings.\")"
   ]
  },
  {
   "cell_type": "markdown",
   "id": "0dc4a1a8",
   "metadata": {},
   "source": [
    "Berdasarkan hasil uji ANOVA one way, didapatkan nilai F-statistic sebesar 15.7358 dan nilai p-value 0.0000, yang jauh lebih kecil dari ambang signifikansi 0.05. Hal ini menunjukkan bahwa terdapat perbedaan yang signifikan dalam rata-rata rating antar berbagai jenis makanan (Food type). Dengan kata lain, jenis makanan memiliki pengaruh nyata terhadap penilaian (rating) pelanggan, sehingga preferensi konsumen dapat berbeda tergantung pada tipe makanan yang ditawarkan."
   ]
  },
  {
   "cell_type": "markdown",
   "id": "486cfd9a",
   "metadata": {},
   "source": [
    "# Conclusion"
   ]
  },
  {
   "cell_type": "markdown",
   "id": "d9efb58f",
   "metadata": {},
   "source": [
    "&emsp;&emsp;analisa ini bertujuan untuk mencari  produk apa yang cocok untuk dijual pada aplikasi swiggy beserta harga yang cocok, serta mencari kota mana yang paling cocok kemudian kita cari area mana yang masih memiliki sedikit komptetitor tapi tergolong area yang masih menjadi area produktif. Analisis ini dilakukan melalui beberapa tahapan sistematis, yaitu:\n",
    "\n",
    "- 1. Mencari 5 tipe makanan yang terpopuler : dalam tahap ini hasil analisa yang didapatkan adalah kebab menjadi makanan dengan peminat yang banyak serta ada 4 tipe makanan lainya yang bisa menjadi opsional menu tambahan pada resto client\n",
    "\n",
    "- 2. Menghitung rata-rata harga tipe makanan dari yang paling populer pada setiap kota: dari hasil rata-rata harga dihasilkan rata-rata **448.93** jadi kita bisa menentukan harga perkiraan penjualan berdasarkan di kota mana kita akan berjualan karena kita sudah memiliki benchmark harga penjualan kebab juga yaitu **373 - 550**\n",
    "\n",
    "- 3. Mencari 5 kota dengan rating tertinggi : dalam tahap ini ktao yang menjadi tempat terpopuler adalah  Hyperabad danada 4 tipe makanan lainya sehingga sebagai konsultan kita lebih mudah dalam pembuatan keputusan\n",
    "\n",
    "- 4. Mencari sebaran mitra swiggy pada kota yang terpopuler : dan pada hasil analisa ini didapatkan bahwa Irisan terbesar dari pie chart ini jatuh pada Banjara Hills sebesar **33%**. dan untuk irisan terkecil dalam chart ini adalah nallakunta & Vidyanagar, yakni kurang dari **10%**.\n",
    "\n",
    "- 5. Menganalisa area yang memiliki rating tinggi akan tetapi masih sedikit kompetitornya : 3 kota yang memiliki jumlah rating paling banyak yaitu narayanggudha, chintal, dan koti. pada area tersebut restoran yang berjualan kebab hanya ada 1 saja jadi kompetitornya belum banyak akan tetapi peminatnya banyak\n",
    "\n",
    "- 6. Menguji korelasi antara rating dengan delivery time : Terdapat hubungan yang signifikan antara waktu pengiriman dan rating (ρ = -0.13, p < 0.001). Arah korelasi yang negatif mengindikasikan bahwa semakin lama waktu pengiriman, semakin rendah rating yang diberikan oleh pelanggan. Meskipun kekuatannya tergolong lemah, hubungan ini tetap berarti secara statistik.\n",
    "\n",
    "- 7. Menguji korelasi antara rating dengan harga : Terdapat hubungan yang signifikan antara waktu pengiriman dan rating (ρ = 0.13, p < 0.001). Meskipun korelasinya lemah, arah positif menunjukkan bahwa semakin cepat pengiriman dilakukan, semakin tinggi rating yang diberikan pelanggan.\n",
    "\n",
    "- 8. Menganalisa apakah tipe makanan memiliki pengaruh terhadap rating : jenis makanan memiliki pengaruh nyata terhadap penilaian (rating) pelanggan, sehingga preferensi konsumen dapat berbeda tergantung pada tipe makanan yang ditawarkan. \n",
    "\n",
    "&emsp;&emsp;Secara keseluruhan, hasil analisis ini mengarahkan kita pada satu strategi yang terukur dan berbasis data, yaitu menjadikan kebab sebagai produk utama dengan harga kompetitif berdasarkan lokasi, memilih Hyderabad sebagai kota target, serta memilih area seperti new nallakunta dan narayanguda sebagai lokasi potensial yang minim kompetitor namun tinggi peminat. Dengan memperhatikan aspek waktu pengiriman dan harga yang wajar, bisnis ini memiliki peluang besar untuk tumbuh dan berkembang secara berkelanjutan melalui platform seperti Swiggy di india."
   ]
  }
 ],
 "metadata": {
  "kernelspec": {
   "display_name": "base",
   "language": "python",
   "name": "python3"
  },
  "language_info": {
   "codemirror_mode": {
    "name": "ipython",
    "version": 3
   },
   "file_extension": ".py",
   "mimetype": "text/x-python",
   "name": "python",
   "nbconvert_exporter": "python",
   "pygments_lexer": "ipython3",
   "version": "3.12.9"
  }
 },
 "nbformat": 4,
 "nbformat_minor": 5
}
